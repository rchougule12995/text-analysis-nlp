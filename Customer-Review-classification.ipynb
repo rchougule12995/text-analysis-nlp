{
 "cells": [
  {
   "cell_type": "markdown",
   "metadata": {},
   "source": [
    "# Rohit Chougule\n"
   ]
  },
  {
   "cell_type": "markdown",
   "metadata": {},
   "source": [
    "# Customer Review Text Classification & Analysis"
   ]
  },
  {
   "cell_type": "markdown",
   "metadata": {},
   "source": [
    "The customer ratings and reviews from different business categories are scraped from the website. The reviews are then stored in a csv file. Suitable Text cleaning, normalization, vectorization and analysis of the text is done. Further, the datasets are trained on different Machine Learning models to classify positive and negative reviews."
   ]
  },
  {
   "cell_type": "markdown",
   "metadata": {},
   "source": [
    "#### Library Imports"
   ]
  },
  {
   "cell_type": "code",
   "execution_count": 1,
   "metadata": {},
   "outputs": [],
   "source": [
    "# Importing all the libraries and modules required in the project\n",
    "import time\n",
    "#Getting the start time when running the report\n",
    "start_time = time.time()\n",
    "import requests\n",
    "import bs4\n",
    "import csv\n",
    "import pandas as pd\n",
    "import numpy as np\n",
    "import re\n",
    "import nltk\n",
    "from nltk.corpus import stopwords\n",
    "import string\n",
    "from sklearn.feature_extraction.text import TfidfVectorizer\n",
    "from sklearn.preprocessing import MinMaxScaler\n",
    "from matplotlib import pyplot\n",
    "from sklearn.model_selection import train_test_split\n",
    "from sklearn.naive_bayes import MultinomialNB\n",
    "from sklearn.model_selection import RandomizedSearchCV\n",
    "from sklearn.ensemble import RandomForestClassifier\n",
    "from sklearn.linear_model import LogisticRegression\n",
    "from sklearn.metrics import precision_recall_fscore_support as score\n",
    "from sklearn.metrics import accuracy_score\n",
    "from sklearn.model_selection import cross_val_score\n",
    "from sklearn.metrics import confusion_matrix\n",
    "%matplotlib inline"
   ]
  },
  {
   "cell_type": "markdown",
   "metadata": {},
   "source": [
    "## Data Gathering"
   ]
  },
  {
   "cell_type": "code",
   "execution_count": 2,
   "metadata": {},
   "outputs": [],
   "source": [
    "# The base url for the web-page to be scraped\n",
    "base_link=\"http://mlg.ucd.ie/modules/yalp/\"\n",
    "data_col_start = time.time()"
   ]
  },
  {
   "cell_type": "code",
   "execution_count": 3,
   "metadata": {},
   "outputs": [],
   "source": [
    "# Function that fetches all the a tags from the web page to return the list having page name and their url\n",
    "def get_list(link):\n",
    "    response=requests.session()\n",
    "    test=response.get(link)\n",
    "    parser=bs4.BeautifulSoup(test.content, \"html.parser\")\n",
    "    categories=[]\n",
    "    for i in parser.find(id=\"all\").find_all(\"a\"):\n",
    "        temp=[]\n",
    "        temp.append(i.get_text())\n",
    "        temp.append(i[\"href\"])\n",
    "        categories.append(temp)\n",
    "    return categories"
   ]
  },
  {
   "cell_type": "code",
   "execution_count": 4,
   "metadata": {},
   "outputs": [],
   "source": [
    "# Definition of function for getting the review content including the review text and the rating\n",
    "def get_review(link):\n",
    "    response=requests.session()\n",
    "    test=response.get(link)\n",
    "    parser=bs4.BeautifulSoup(test.content, \"html.parser\")\n",
    "    reviews=[]\n",
    "    for i in parser.find_all(class_=\"review\"):\n",
    "        temp=[]\n",
    "        rating=(i.find('img', alt=True)['alt'])\n",
    "        comment=(i.find(class_=\"review-text\").get_text())\n",
    "        temp.append(rating)\n",
    "        temp.append(comment)\n",
    "        reviews.append(temp)\n",
    "        time.sleep(.03)\n",
    "    return reviews"
   ]
  },
  {
   "cell_type": "code",
   "execution_count": 5,
   "metadata": {},
   "outputs": [],
   "source": [
    "# Function to append the page-id at the end of the base-url\n",
    "def get_entitylinks(entity_list):\n",
    "    entity_list[1]=base_link+entity_list[1]\n",
    "    return entity_list"
   ]
  },
  {
   "cell_type": "code",
   "execution_count": 6,
   "metadata": {},
   "outputs": [],
   "source": [
    "# Function to fetch the list of business categories on the home page\n",
    "def review_set(base_link):\n",
    "    category_list=get_list(base_link)\n",
    "    for category in category_list:\n",
    "        get_entitylinks(category)\n",
    "        get_list(category[1])\n",
    "    return category_list"
   ]
  },
  {
   "cell_type": "code",
   "execution_count": 7,
   "metadata": {},
   "outputs": [],
   "source": [
    "# Function call to get the set of review categories and its URL\n",
    "category_list=review_set(base_link)"
   ]
  },
  {
   "cell_type": "code",
   "execution_count": 8,
   "metadata": {},
   "outputs": [],
   "source": [
    "# Calling the review_set function to get the URL for each of the review category \n",
    "business_set1=review_set(category_list[1][1])\n",
    "business_set2=review_set(category_list[5][1])\n",
    "business_set3=review_set(category_list[6][1])"
   ]
  },
  {
   "cell_type": "code",
   "execution_count": 9,
   "metadata": {},
   "outputs": [],
   "source": [
    "# Function to fetch the reviews from the business category called\n",
    "def review_collection(business_set):\n",
    "    reviews=[]\n",
    "    for business in business_set:\n",
    "        for review in (get_review(business[1])):\n",
    "            reviews.append(review)\n",
    "    return reviews"
   ]
  },
  {
   "cell_type": "code",
   "execution_count": 10,
   "metadata": {},
   "outputs": [],
   "source": [
    "# Function to write the collected reviews to a csv file, in case of offline usage of the data\n",
    "def write_data_tocsv(fileName, reviews):\n",
    "    with open(fileName+'.csv', 'w', newline='', encoding=\"utf-8\") as file:\n",
    "        writer = csv.writer(file)\n",
    "        writer.writerow([\"rating\",\"review\"])\n",
    "        writer.writerows(reviews)"
   ]
  },
  {
   "cell_type": "markdown",
   "metadata": {},
   "source": [
    "#### Business Categories available for review classification"
   ]
  },
  {
   "cell_type": "code",
   "execution_count": 11,
   "metadata": {},
   "outputs": [
    {
     "name": "stdout",
     "output_type": "stream",
     "text": [
      "0 Automotive\n",
      "1 Cafes\n",
      "2 Fashion\n",
      "3 Gym\n",
      "4 Hair and Salons\n",
      "5 Hotels\n",
      "6 Restaurants\n"
     ]
    }
   ],
   "source": [
    "for i in range(0,7):\n",
    "    business = str(category_list[i][0])\n",
    "    print(i, business[10:])"
   ]
  },
  {
   "cell_type": "markdown",
   "metadata": {},
   "source": [
    "From the above categories of businesses, Cafes, Hotels and Restaurants are the ones which belong to a similar industry. The customer reviews in these business categories may have a similarity in the words used in the text. i.e the corpus of these reviews may be a bit similar.\n",
    "Selecting these categories can be helpful when training and testing the model on different datasets"
   ]
  },
  {
   "cell_type": "code",
   "execution_count": 12,
   "metadata": {},
   "outputs": [
    {
     "name": "stdout",
     "output_type": "stream",
     "text": [
      "----------Writing Cafes Business Reviews and ratings to a file----------\n"
     ]
    }
   ],
   "source": [
    "# Function call to write thre reviews for business_set1\n",
    "businessType = category_list[1][0]\n",
    "fileName = (businessType[10:])\n",
    "print(\"----------Writing \"+fileName+\" Business Reviews and ratings to a file----------\")\n",
    "reviews=review_collection(business_set1)\n",
    "write_data_tocsv(fileName, reviews)"
   ]
  },
  {
   "cell_type": "code",
   "execution_count": 13,
   "metadata": {},
   "outputs": [
    {
     "name": "stdout",
     "output_type": "stream",
     "text": [
      "----------Writing Hotels Business Reviews and ratings to a file----------\n"
     ]
    }
   ],
   "source": [
    "# Function call to write thre reviews for business_set2\n",
    "businessType = category_list[5][0]\n",
    "fileName = (businessType[10:])\n",
    "print(\"----------Writing \"+fileName+\" Business Reviews and ratings to a file----------\")\n",
    "reviews=review_collection(business_set2)\n",
    "write_data_tocsv(fileName, reviews)"
   ]
  },
  {
   "cell_type": "code",
   "execution_count": 14,
   "metadata": {},
   "outputs": [
    {
     "name": "stdout",
     "output_type": "stream",
     "text": [
      "----------Writing Restaurants Business Reviews and ratings to a file----------\n"
     ]
    }
   ],
   "source": [
    "# Function call to write thre reviews for business_set3\n",
    "businessType = category_list[6][0]\n",
    "fileName = (businessType[10:])\n",
    "print(\"----------Writing \"+fileName+\" Business Reviews and ratings to a file----------\")\n",
    "reviews=review_collection(business_set3)\n",
    "write_data_tocsv(fileName, reviews)"
   ]
  },
  {
   "cell_type": "code",
   "execution_count": 15,
   "metadata": {},
   "outputs": [],
   "source": [
    "# Reading the csv for business_set1\n",
    "dataset1 = pd.read_csv('Cafes.csv')"
   ]
  },
  {
   "cell_type": "code",
   "execution_count": 16,
   "metadata": {},
   "outputs": [],
   "source": [
    "# Reading the csv for business_set1\n",
    "dataset2 = pd.read_csv('Hotels.csv')"
   ]
  },
  {
   "cell_type": "code",
   "execution_count": 17,
   "metadata": {},
   "outputs": [],
   "source": [
    "# Reading the csv for business_set1\n",
    "dataset3 = pd.read_csv('Restaurants.csv')"
   ]
  },
  {
   "cell_type": "code",
   "execution_count": 18,
   "metadata": {},
   "outputs": [],
   "source": [
    "data_col_end = time.time()"
   ]
  },
  {
   "cell_type": "code",
   "execution_count": 19,
   "metadata": {},
   "outputs": [
    {
     "name": "stdout",
     "output_type": "stream",
     "text": [
      "Time required to scrape and write the data to csv: 4.52 minutes.\n"
     ]
    }
   ],
   "source": [
    "data_col_time  = (data_col_end - data_col_start)/60\n",
    "data_col_time = round(data_col_time,2)\n",
    "print(\"Time required to scrape and write the data to csv: \"+ str(data_col_time) +\" minutes.\")"
   ]
  },
  {
   "cell_type": "code",
   "execution_count": 20,
   "metadata": {},
   "outputs": [
    {
     "data": {
      "text/html": [
       "<div>\n",
       "<style scoped>\n",
       "    .dataframe tbody tr th:only-of-type {\n",
       "        vertical-align: middle;\n",
       "    }\n",
       "\n",
       "    .dataframe tbody tr th {\n",
       "        vertical-align: top;\n",
       "    }\n",
       "\n",
       "    .dataframe thead th {\n",
       "        text-align: right;\n",
       "    }\n",
       "</style>\n",
       "<table border=\"1\" class=\"dataframe\">\n",
       "  <thead>\n",
       "    <tr style=\"text-align: right;\">\n",
       "      <th></th>\n",
       "      <th>rating</th>\n",
       "      <th>review</th>\n",
       "    </tr>\n",
       "  </thead>\n",
       "  <tbody>\n",
       "    <tr>\n",
       "      <th>0</th>\n",
       "      <td>4-star</td>\n",
       "      <td>Pros: Lots of items you would not expect from ...</td>\n",
       "    </tr>\n",
       "    <tr>\n",
       "      <th>1</th>\n",
       "      <td>4-star</td>\n",
       "      <td>Best egg-tarts in town! There's really not muc...</td>\n",
       "    </tr>\n",
       "    <tr>\n",
       "      <th>2</th>\n",
       "      <td>2-star</td>\n",
       "      <td>I've been to ABC Bakery a few times since I re...</td>\n",
       "    </tr>\n",
       "    <tr>\n",
       "      <th>3</th>\n",
       "      <td>1-star</td>\n",
       "      <td>FYI, Closed Monday's New ownership for about 1...</td>\n",
       "    </tr>\n",
       "    <tr>\n",
       "      <th>4</th>\n",
       "      <td>4-star</td>\n",
       "      <td>The inside may not look like much but they mak...</td>\n",
       "    </tr>\n",
       "  </tbody>\n",
       "</table>\n",
       "</div>"
      ],
      "text/plain": [
       "   rating                                             review\n",
       "0  4-star  Pros: Lots of items you would not expect from ...\n",
       "1  4-star  Best egg-tarts in town! There's really not muc...\n",
       "2  2-star  I've been to ABC Bakery a few times since I re...\n",
       "3  1-star  FYI, Closed Monday's New ownership for about 1...\n",
       "4  4-star  The inside may not look like much but they mak..."
      ]
     },
     "execution_count": 20,
     "metadata": {},
     "output_type": "execute_result"
    }
   ],
   "source": [
    "dataset1.head()"
   ]
  },
  {
   "cell_type": "code",
   "execution_count": 21,
   "metadata": {},
   "outputs": [
    {
     "data": {
      "text/html": [
       "<div>\n",
       "<style scoped>\n",
       "    .dataframe tbody tr th:only-of-type {\n",
       "        vertical-align: middle;\n",
       "    }\n",
       "\n",
       "    .dataframe tbody tr th {\n",
       "        vertical-align: top;\n",
       "    }\n",
       "\n",
       "    .dataframe thead th {\n",
       "        text-align: right;\n",
       "    }\n",
       "</style>\n",
       "<table border=\"1\" class=\"dataframe\">\n",
       "  <thead>\n",
       "    <tr style=\"text-align: right;\">\n",
       "      <th></th>\n",
       "      <th>rating</th>\n",
       "      <th>review</th>\n",
       "    </tr>\n",
       "  </thead>\n",
       "  <tbody>\n",
       "    <tr>\n",
       "      <th>0</th>\n",
       "      <td>5-star</td>\n",
       "      <td>Melissa took us on a tour of Asia in the space...</td>\n",
       "    </tr>\n",
       "    <tr>\n",
       "      <th>1</th>\n",
       "      <td>5-star</td>\n",
       "      <td>With a group of seven of us visiting Montreal ...</td>\n",
       "    </tr>\n",
       "    <tr>\n",
       "      <th>2</th>\n",
       "      <td>5-star</td>\n",
       "      <td>Melissa is a gem! My fiancé found her tour on ...</td>\n",
       "    </tr>\n",
       "    <tr>\n",
       "      <th>3</th>\n",
       "      <td>5-star</td>\n",
       "      <td>A perfect day in Montreal! Melissa outfitted u...</td>\n",
       "    </tr>\n",
       "    <tr>\n",
       "      <th>4</th>\n",
       "      <td>5-star</td>\n",
       "      <td>I had a really great food truck tour with Meli...</td>\n",
       "    </tr>\n",
       "  </tbody>\n",
       "</table>\n",
       "</div>"
      ],
      "text/plain": [
       "   rating                                             review\n",
       "0  5-star  Melissa took us on a tour of Asia in the space...\n",
       "1  5-star  With a group of seven of us visiting Montreal ...\n",
       "2  5-star  Melissa is a gem! My fiancé found her tour on ...\n",
       "3  5-star  A perfect day in Montreal! Melissa outfitted u...\n",
       "4  5-star  I had a really great food truck tour with Meli..."
      ]
     },
     "execution_count": 21,
     "metadata": {},
     "output_type": "execute_result"
    }
   ],
   "source": [
    "dataset2.head()"
   ]
  },
  {
   "cell_type": "code",
   "execution_count": 22,
   "metadata": {},
   "outputs": [
    {
     "data": {
      "text/html": [
       "<div>\n",
       "<style scoped>\n",
       "    .dataframe tbody tr th:only-of-type {\n",
       "        vertical-align: middle;\n",
       "    }\n",
       "\n",
       "    .dataframe tbody tr th {\n",
       "        vertical-align: top;\n",
       "    }\n",
       "\n",
       "    .dataframe thead th {\n",
       "        text-align: right;\n",
       "    }\n",
       "</style>\n",
       "<table border=\"1\" class=\"dataframe\">\n",
       "  <thead>\n",
       "    <tr style=\"text-align: right;\">\n",
       "      <th></th>\n",
       "      <th>rating</th>\n",
       "      <th>review</th>\n",
       "    </tr>\n",
       "  </thead>\n",
       "  <tbody>\n",
       "    <tr>\n",
       "      <th>0</th>\n",
       "      <td>2-star</td>\n",
       "      <td>My husband and I had a rare afternoon off so w...</td>\n",
       "    </tr>\n",
       "    <tr>\n",
       "      <th>1</th>\n",
       "      <td>4-star</td>\n",
       "      <td>For years I thought this was only a wine store...</td>\n",
       "    </tr>\n",
       "    <tr>\n",
       "      <th>2</th>\n",
       "      <td>5-star</td>\n",
       "      <td>This place is so charming! I went with my husb...</td>\n",
       "    </tr>\n",
       "    <tr>\n",
       "      <th>3</th>\n",
       "      <td>5-star</td>\n",
       "      <td>We have been wanting to try this place for a c...</td>\n",
       "    </tr>\n",
       "    <tr>\n",
       "      <th>4</th>\n",
       "      <td>1-star</td>\n",
       "      <td>Decor looks ok but layout is too busy. Difficu...</td>\n",
       "    </tr>\n",
       "  </tbody>\n",
       "</table>\n",
       "</div>"
      ],
      "text/plain": [
       "   rating                                             review\n",
       "0  2-star  My husband and I had a rare afternoon off so w...\n",
       "1  4-star  For years I thought this was only a wine store...\n",
       "2  5-star  This place is so charming! I went with my husb...\n",
       "3  5-star  We have been wanting to try this place for a c...\n",
       "4  1-star  Decor looks ok but layout is too busy. Difficu..."
      ]
     },
     "execution_count": 22,
     "metadata": {},
     "output_type": "execute_result"
    }
   ],
   "source": [
    "dataset3.head()"
   ]
  },
  {
   "cell_type": "markdown",
   "metadata": {},
   "source": [
    "![alt text](sentiment.png)"
   ]
  },
  {
   "cell_type": "markdown",
   "metadata": {},
   "source": [
    "## Data Cleaning"
   ]
  },
  {
   "cell_type": "code",
   "execution_count": 23,
   "metadata": {},
   "outputs": [],
   "source": [
    "## Function to set the rating as positive or negative depending on the rating.\n",
    "## Ratings <=3 are negative and ratings >3 are positive\n",
    "def cleaning_review(dataset):\n",
    "    positive_count = 0\n",
    "    negative_count = 0\n",
    "    for index,row in dataset.iterrows():\n",
    "        customer_rating=(row[\"rating\"])\n",
    "        dataset.at[index, \"rating\"] = int(customer_rating[:1])\n",
    "        if(dataset.at[index, \"rating\"] >3):\n",
    "            dataset.at[index, \"rating_type\"] = \"positive\"\n",
    "            positive_count=positive_count+1\n",
    "        else:\n",
    "            dataset.at[index, \"rating_type\"] = \"negative\"\n",
    "            negative_count=negative_count+1\n",
    "    return dataset, positive_count, negative_count"
   ]
  },
  {
   "cell_type": "code",
   "execution_count": 24,
   "metadata": {},
   "outputs": [],
   "source": [
    "def dataset_class_skewnss_chart(positive_count, negative_count):\n",
    "    fig = pyplot.figure()\n",
    "    ax = fig.add_axes([0,0,1,1])\n",
    "    y = [positive_count, negative_count]\n",
    "    x=[\"positive\",\"negative\"]\n",
    "    ax.bar(x,y)\n",
    "    pyplot.title(\"Distribution of Class for the dataset (Type of Reviews)\", fontSize=16)\n",
    "    pyplot.xlabel(\"Type of Review\", fontSize=14)\n",
    "    pyplot.ylabel(\"Number of Reviews\", fontSize=14)\n",
    "    pyplot.show()"
   ]
  },
  {
   "cell_type": "code",
   "execution_count": 25,
   "metadata": {},
   "outputs": [],
   "source": [
    "dataset1, positive_count, negative_count=cleaning_review(dataset1)"
   ]
  },
  {
   "cell_type": "code",
   "execution_count": 26,
   "metadata": {},
   "outputs": [
    {
     "data": {
      "text/html": [
       "<div>\n",
       "<style scoped>\n",
       "    .dataframe tbody tr th:only-of-type {\n",
       "        vertical-align: middle;\n",
       "    }\n",
       "\n",
       "    .dataframe tbody tr th {\n",
       "        vertical-align: top;\n",
       "    }\n",
       "\n",
       "    .dataframe thead th {\n",
       "        text-align: right;\n",
       "    }\n",
       "</style>\n",
       "<table border=\"1\" class=\"dataframe\">\n",
       "  <thead>\n",
       "    <tr style=\"text-align: right;\">\n",
       "      <th></th>\n",
       "      <th>rating</th>\n",
       "      <th>review</th>\n",
       "      <th>rating_type</th>\n",
       "    </tr>\n",
       "  </thead>\n",
       "  <tbody>\n",
       "    <tr>\n",
       "      <th>0</th>\n",
       "      <td>4</td>\n",
       "      <td>Pros: Lots of items you would not expect from ...</td>\n",
       "      <td>positive</td>\n",
       "    </tr>\n",
       "    <tr>\n",
       "      <th>1</th>\n",
       "      <td>4</td>\n",
       "      <td>Best egg-tarts in town! There's really not muc...</td>\n",
       "      <td>positive</td>\n",
       "    </tr>\n",
       "    <tr>\n",
       "      <th>2</th>\n",
       "      <td>2</td>\n",
       "      <td>I've been to ABC Bakery a few times since I re...</td>\n",
       "      <td>negative</td>\n",
       "    </tr>\n",
       "    <tr>\n",
       "      <th>3</th>\n",
       "      <td>1</td>\n",
       "      <td>FYI, Closed Monday's New ownership for about 1...</td>\n",
       "      <td>negative</td>\n",
       "    </tr>\n",
       "    <tr>\n",
       "      <th>4</th>\n",
       "      <td>4</td>\n",
       "      <td>The inside may not look like much but they mak...</td>\n",
       "      <td>positive</td>\n",
       "    </tr>\n",
       "  </tbody>\n",
       "</table>\n",
       "</div>"
      ],
      "text/plain": [
       "  rating                                             review rating_type\n",
       "0      4  Pros: Lots of items you would not expect from ...    positive\n",
       "1      4  Best egg-tarts in town! There's really not muc...    positive\n",
       "2      2  I've been to ABC Bakery a few times since I re...    negative\n",
       "3      1  FYI, Closed Monday's New ownership for about 1...    negative\n",
       "4      4  The inside may not look like much but they mak...    positive"
      ]
     },
     "execution_count": 26,
     "metadata": {},
     "output_type": "execute_result"
    }
   ],
   "source": [
    "dataset1.head()"
   ]
  },
  {
   "cell_type": "code",
   "execution_count": 27,
   "metadata": {},
   "outputs": [
    {
     "data": {
      "image/png": "[encoded data removed]",
      "text/plain": [
       "<Figure size 432x288 with 1 Axes>"
      ]
     },
     "metadata": {
      "needs_background": "light"
     },
     "output_type": "display_data"
    }
   ],
   "source": [
    "dataset_class_skewnss_chart(positive_count, negative_count)"
   ]
  },
  {
   "cell_type": "code",
   "execution_count": 28,
   "metadata": {},
   "outputs": [],
   "source": [
    "dataset2, positive_count, negative_count=cleaning_review(dataset2)"
   ]
  },
  {
   "cell_type": "code",
   "execution_count": 29,
   "metadata": {},
   "outputs": [
    {
     "data": {
      "text/html": [
       "<div>\n",
       "<style scoped>\n",
       "    .dataframe tbody tr th:only-of-type {\n",
       "        vertical-align: middle;\n",
       "    }\n",
       "\n",
       "    .dataframe tbody tr th {\n",
       "        vertical-align: top;\n",
       "    }\n",
       "\n",
       "    .dataframe thead th {\n",
       "        text-align: right;\n",
       "    }\n",
       "</style>\n",
       "<table border=\"1\" class=\"dataframe\">\n",
       "  <thead>\n",
       "    <tr style=\"text-align: right;\">\n",
       "      <th></th>\n",
       "      <th>rating</th>\n",
       "      <th>review</th>\n",
       "      <th>rating_type</th>\n",
       "    </tr>\n",
       "  </thead>\n",
       "  <tbody>\n",
       "    <tr>\n",
       "      <th>0</th>\n",
       "      <td>5</td>\n",
       "      <td>Melissa took us on a tour of Asia in the space...</td>\n",
       "      <td>positive</td>\n",
       "    </tr>\n",
       "    <tr>\n",
       "      <th>1</th>\n",
       "      <td>5</td>\n",
       "      <td>With a group of seven of us visiting Montreal ...</td>\n",
       "      <td>positive</td>\n",
       "    </tr>\n",
       "    <tr>\n",
       "      <th>2</th>\n",
       "      <td>5</td>\n",
       "      <td>Melissa is a gem! My fiancé found her tour on ...</td>\n",
       "      <td>positive</td>\n",
       "    </tr>\n",
       "    <tr>\n",
       "      <th>3</th>\n",
       "      <td>5</td>\n",
       "      <td>A perfect day in Montreal! Melissa outfitted u...</td>\n",
       "      <td>positive</td>\n",
       "    </tr>\n",
       "    <tr>\n",
       "      <th>4</th>\n",
       "      <td>5</td>\n",
       "      <td>I had a really great food truck tour with Meli...</td>\n",
       "      <td>positive</td>\n",
       "    </tr>\n",
       "  </tbody>\n",
       "</table>\n",
       "</div>"
      ],
      "text/plain": [
       "  rating                                             review rating_type\n",
       "0      5  Melissa took us on a tour of Asia in the space...    positive\n",
       "1      5  With a group of seven of us visiting Montreal ...    positive\n",
       "2      5  Melissa is a gem! My fiancé found her tour on ...    positive\n",
       "3      5  A perfect day in Montreal! Melissa outfitted u...    positive\n",
       "4      5  I had a really great food truck tour with Meli...    positive"
      ]
     },
     "execution_count": 29,
     "metadata": {},
     "output_type": "execute_result"
    }
   ],
   "source": [
    "dataset2.head()"
   ]
  },
  {
   "cell_type": "code",
   "execution_count": 30,
   "metadata": {},
   "outputs": [
    {
     "data": {
      "image/png": "[encoded data removed]",
      "text/plain": [
       "<Figure size 432x288 with 1 Axes>"
      ]
     },
     "metadata": {
      "needs_background": "light"
     },
     "output_type": "display_data"
    }
   ],
   "source": [
    "dataset_class_skewnss_chart(positive_count, negative_count)"
   ]
  },
  {
   "cell_type": "code",
   "execution_count": 31,
   "metadata": {},
   "outputs": [],
   "source": [
    "dataset3, positive_count, negative_count=cleaning_review(dataset3)"
   ]
  },
  {
   "cell_type": "code",
   "execution_count": 32,
   "metadata": {},
   "outputs": [
    {
     "data": {
      "text/html": [
       "<div>\n",
       "<style scoped>\n",
       "    .dataframe tbody tr th:only-of-type {\n",
       "        vertical-align: middle;\n",
       "    }\n",
       "\n",
       "    .dataframe tbody tr th {\n",
       "        vertical-align: top;\n",
       "    }\n",
       "\n",
       "    .dataframe thead th {\n",
       "        text-align: right;\n",
       "    }\n",
       "</style>\n",
       "<table border=\"1\" class=\"dataframe\">\n",
       "  <thead>\n",
       "    <tr style=\"text-align: right;\">\n",
       "      <th></th>\n",
       "      <th>rating</th>\n",
       "      <th>review</th>\n",
       "      <th>rating_type</th>\n",
       "    </tr>\n",
       "  </thead>\n",
       "  <tbody>\n",
       "    <tr>\n",
       "      <th>0</th>\n",
       "      <td>2</td>\n",
       "      <td>My husband and I had a rare afternoon off so w...</td>\n",
       "      <td>negative</td>\n",
       "    </tr>\n",
       "    <tr>\n",
       "      <th>1</th>\n",
       "      <td>4</td>\n",
       "      <td>For years I thought this was only a wine store...</td>\n",
       "      <td>positive</td>\n",
       "    </tr>\n",
       "    <tr>\n",
       "      <th>2</th>\n",
       "      <td>5</td>\n",
       "      <td>This place is so charming! I went with my husb...</td>\n",
       "      <td>positive</td>\n",
       "    </tr>\n",
       "    <tr>\n",
       "      <th>3</th>\n",
       "      <td>5</td>\n",
       "      <td>We have been wanting to try this place for a c...</td>\n",
       "      <td>positive</td>\n",
       "    </tr>\n",
       "    <tr>\n",
       "      <th>4</th>\n",
       "      <td>1</td>\n",
       "      <td>Decor looks ok but layout is too busy. Difficu...</td>\n",
       "      <td>negative</td>\n",
       "    </tr>\n",
       "  </tbody>\n",
       "</table>\n",
       "</div>"
      ],
      "text/plain": [
       "  rating                                             review rating_type\n",
       "0      2  My husband and I had a rare afternoon off so w...    negative\n",
       "1      4  For years I thought this was only a wine store...    positive\n",
       "2      5  This place is so charming! I went with my husb...    positive\n",
       "3      5  We have been wanting to try this place for a c...    positive\n",
       "4      1  Decor looks ok but layout is too busy. Difficu...    negative"
      ]
     },
     "execution_count": 32,
     "metadata": {},
     "output_type": "execute_result"
    }
   ],
   "source": [
    "dataset3.head()"
   ]
  },
  {
   "cell_type": "code",
   "execution_count": 33,
   "metadata": {},
   "outputs": [
    {
     "data": {
      "image/png": "[encoded data removed]",
      "text/plain": [
       "<Figure size 432x288 with 1 Axes>"
      ]
     },
     "metadata": {
      "needs_background": "light"
     },
     "output_type": "display_data"
    }
   ],
   "source": [
    "dataset_class_skewnss_chart(positive_count, negative_count)"
   ]
  },
  {
   "cell_type": "code",
   "execution_count": 34,
   "metadata": {},
   "outputs": [],
   "source": [
    "# Function to count the percentage of puntuations in the text, before cleaning\n",
    "def count_punct(review_text):\n",
    "    count = sum([1 for char in review_text if char in string.punctuation])\n",
    "    return round(count/(len(review_text) - review_text.count(\" \")), 3)*100"
   ]
  },
  {
   "cell_type": "code",
   "execution_count": 35,
   "metadata": {},
   "outputs": [],
   "source": [
    "# Function to lower the capitalized words, tokenizing words, removing stop words, \n",
    "# lemmatizing words in the review and returning the review\n",
    "def clean_text_review(review_text):\n",
    "    review_text = \"\".join([word.lower() for word in review_text if word not in string.punctuation and not word.isdigit()])\n",
    "    review_text = review_text.strip()\n",
    "    tokens = re.split('\\W+', review_text)\n",
    "    review = [word for word in tokens if word not in set(stopwords.words('english'))]\n",
    "    wn = nltk.WordNetLemmatizer()\n",
    "    review = [wn.lemmatize(word) for word in review]\n",
    "    return review"
   ]
  },
  {
   "cell_type": "code",
   "execution_count": 36,
   "metadata": {},
   "outputs": [],
   "source": [
    "# Function to get the length of the review text, and call punctuations percentage\n",
    "# the length of text before cleaning is considered. (Actual review)\n",
    "def review_length_punct(dataset):\n",
    "    dataset['review_len'] = dataset['review'].apply(lambda x: len(x) - x.count(\" \"))\n",
    "    dataset['punctuations'] = dataset['review'].apply(lambda x: count_punct(x))"
   ]
  },
  {
   "cell_type": "code",
   "execution_count": 37,
   "metadata": {},
   "outputs": [
    {
     "data": {
      "text/html": [
       "<div>\n",
       "<style scoped>\n",
       "    .dataframe tbody tr th:only-of-type {\n",
       "        vertical-align: middle;\n",
       "    }\n",
       "\n",
       "    .dataframe tbody tr th {\n",
       "        vertical-align: top;\n",
       "    }\n",
       "\n",
       "    .dataframe thead th {\n",
       "        text-align: right;\n",
       "    }\n",
       "</style>\n",
       "<table border=\"1\" class=\"dataframe\">\n",
       "  <thead>\n",
       "    <tr style=\"text-align: right;\">\n",
       "      <th></th>\n",
       "      <th>rating</th>\n",
       "      <th>review</th>\n",
       "      <th>rating_type</th>\n",
       "      <th>review_len</th>\n",
       "      <th>punctuations</th>\n",
       "    </tr>\n",
       "  </thead>\n",
       "  <tbody>\n",
       "    <tr>\n",
       "      <th>0</th>\n",
       "      <td>4</td>\n",
       "      <td>Pros: Lots of items you would not expect from ...</td>\n",
       "      <td>positive</td>\n",
       "      <td>1271</td>\n",
       "      <td>2.7</td>\n",
       "    </tr>\n",
       "    <tr>\n",
       "      <th>1</th>\n",
       "      <td>4</td>\n",
       "      <td>Best egg-tarts in town! There's really not muc...</td>\n",
       "      <td>positive</td>\n",
       "      <td>281</td>\n",
       "      <td>4.6</td>\n",
       "    </tr>\n",
       "    <tr>\n",
       "      <th>2</th>\n",
       "      <td>2</td>\n",
       "      <td>I've been to ABC Bakery a few times since I re...</td>\n",
       "      <td>negative</td>\n",
       "      <td>1275</td>\n",
       "      <td>4.9</td>\n",
       "    </tr>\n",
       "    <tr>\n",
       "      <th>3</th>\n",
       "      <td>1</td>\n",
       "      <td>FYI, Closed Monday's New ownership for about 1...</td>\n",
       "      <td>negative</td>\n",
       "      <td>415</td>\n",
       "      <td>2.9</td>\n",
       "    </tr>\n",
       "    <tr>\n",
       "      <th>4</th>\n",
       "      <td>4</td>\n",
       "      <td>The inside may not look like much but they mak...</td>\n",
       "      <td>positive</td>\n",
       "      <td>235</td>\n",
       "      <td>3.4</td>\n",
       "    </tr>\n",
       "  </tbody>\n",
       "</table>\n",
       "</div>"
      ],
      "text/plain": [
       "  rating                                             review rating_type  \\\n",
       "0      4  Pros: Lots of items you would not expect from ...    positive   \n",
       "1      4  Best egg-tarts in town! There's really not muc...    positive   \n",
       "2      2  I've been to ABC Bakery a few times since I re...    negative   \n",
       "3      1  FYI, Closed Monday's New ownership for about 1...    negative   \n",
       "4      4  The inside may not look like much but they mak...    positive   \n",
       "\n",
       "   review_len  punctuations  \n",
       "0        1271           2.7  \n",
       "1         281           4.6  \n",
       "2        1275           4.9  \n",
       "3         415           2.9  \n",
       "4         235           3.4  "
      ]
     },
     "execution_count": 37,
     "metadata": {},
     "output_type": "execute_result"
    }
   ],
   "source": [
    "review_length_punct(dataset1)\n",
    "dataset1.head()"
   ]
  },
  {
   "cell_type": "code",
   "execution_count": 38,
   "metadata": {},
   "outputs": [
    {
     "data": {
      "text/html": [
       "<div>\n",
       "<style scoped>\n",
       "    .dataframe tbody tr th:only-of-type {\n",
       "        vertical-align: middle;\n",
       "    }\n",
       "\n",
       "    .dataframe tbody tr th {\n",
       "        vertical-align: top;\n",
       "    }\n",
       "\n",
       "    .dataframe thead th {\n",
       "        text-align: right;\n",
       "    }\n",
       "</style>\n",
       "<table border=\"1\" class=\"dataframe\">\n",
       "  <thead>\n",
       "    <tr style=\"text-align: right;\">\n",
       "      <th></th>\n",
       "      <th>rating</th>\n",
       "      <th>review</th>\n",
       "      <th>rating_type</th>\n",
       "      <th>review_len</th>\n",
       "      <th>punctuations</th>\n",
       "    </tr>\n",
       "  </thead>\n",
       "  <tbody>\n",
       "    <tr>\n",
       "      <th>0</th>\n",
       "      <td>5</td>\n",
       "      <td>Melissa took us on a tour of Asia in the space...</td>\n",
       "      <td>positive</td>\n",
       "      <td>363</td>\n",
       "      <td>2.8</td>\n",
       "    </tr>\n",
       "    <tr>\n",
       "      <th>1</th>\n",
       "      <td>5</td>\n",
       "      <td>With a group of seven of us visiting Montreal ...</td>\n",
       "      <td>positive</td>\n",
       "      <td>380</td>\n",
       "      <td>3.9</td>\n",
       "    </tr>\n",
       "    <tr>\n",
       "      <th>2</th>\n",
       "      <td>5</td>\n",
       "      <td>Melissa is a gem! My fiancé found her tour on ...</td>\n",
       "      <td>positive</td>\n",
       "      <td>464</td>\n",
       "      <td>3.2</td>\n",
       "    </tr>\n",
       "    <tr>\n",
       "      <th>3</th>\n",
       "      <td>5</td>\n",
       "      <td>A perfect day in Montreal! Melissa outfitted u...</td>\n",
       "      <td>positive</td>\n",
       "      <td>360</td>\n",
       "      <td>3.3</td>\n",
       "    </tr>\n",
       "    <tr>\n",
       "      <th>4</th>\n",
       "      <td>5</td>\n",
       "      <td>I had a really great food truck tour with Meli...</td>\n",
       "      <td>positive</td>\n",
       "      <td>645</td>\n",
       "      <td>2.5</td>\n",
       "    </tr>\n",
       "  </tbody>\n",
       "</table>\n",
       "</div>"
      ],
      "text/plain": [
       "  rating                                             review rating_type  \\\n",
       "0      5  Melissa took us on a tour of Asia in the space...    positive   \n",
       "1      5  With a group of seven of us visiting Montreal ...    positive   \n",
       "2      5  Melissa is a gem! My fiancé found her tour on ...    positive   \n",
       "3      5  A perfect day in Montreal! Melissa outfitted u...    positive   \n",
       "4      5  I had a really great food truck tour with Meli...    positive   \n",
       "\n",
       "   review_len  punctuations  \n",
       "0         363           2.8  \n",
       "1         380           3.9  \n",
       "2         464           3.2  \n",
       "3         360           3.3  \n",
       "4         645           2.5  "
      ]
     },
     "execution_count": 38,
     "metadata": {},
     "output_type": "execute_result"
    }
   ],
   "source": [
    "review_length_punct(dataset2)\n",
    "dataset2.head()"
   ]
  },
  {
   "cell_type": "code",
   "execution_count": 39,
   "metadata": {},
   "outputs": [
    {
     "data": {
      "text/html": [
       "<div>\n",
       "<style scoped>\n",
       "    .dataframe tbody tr th:only-of-type {\n",
       "        vertical-align: middle;\n",
       "    }\n",
       "\n",
       "    .dataframe tbody tr th {\n",
       "        vertical-align: top;\n",
       "    }\n",
       "\n",
       "    .dataframe thead th {\n",
       "        text-align: right;\n",
       "    }\n",
       "</style>\n",
       "<table border=\"1\" class=\"dataframe\">\n",
       "  <thead>\n",
       "    <tr style=\"text-align: right;\">\n",
       "      <th></th>\n",
       "      <th>rating</th>\n",
       "      <th>review</th>\n",
       "      <th>rating_type</th>\n",
       "      <th>review_len</th>\n",
       "      <th>punctuations</th>\n",
       "    </tr>\n",
       "  </thead>\n",
       "  <tbody>\n",
       "    <tr>\n",
       "      <th>0</th>\n",
       "      <td>2</td>\n",
       "      <td>My husband and I had a rare afternoon off so w...</td>\n",
       "      <td>negative</td>\n",
       "      <td>1106</td>\n",
       "      <td>4.2</td>\n",
       "    </tr>\n",
       "    <tr>\n",
       "      <th>1</th>\n",
       "      <td>4</td>\n",
       "      <td>For years I thought this was only a wine store...</td>\n",
       "      <td>positive</td>\n",
       "      <td>490</td>\n",
       "      <td>3.9</td>\n",
       "    </tr>\n",
       "    <tr>\n",
       "      <th>2</th>\n",
       "      <td>5</td>\n",
       "      <td>This place is so charming! I went with my husb...</td>\n",
       "      <td>positive</td>\n",
       "      <td>318</td>\n",
       "      <td>3.1</td>\n",
       "    </tr>\n",
       "    <tr>\n",
       "      <th>3</th>\n",
       "      <td>5</td>\n",
       "      <td>We have been wanting to try this place for a c...</td>\n",
       "      <td>positive</td>\n",
       "      <td>273</td>\n",
       "      <td>3.3</td>\n",
       "    </tr>\n",
       "    <tr>\n",
       "      <th>4</th>\n",
       "      <td>1</td>\n",
       "      <td>Decor looks ok but layout is too busy. Difficu...</td>\n",
       "      <td>negative</td>\n",
       "      <td>185</td>\n",
       "      <td>7.0</td>\n",
       "    </tr>\n",
       "  </tbody>\n",
       "</table>\n",
       "</div>"
      ],
      "text/plain": [
       "  rating                                             review rating_type  \\\n",
       "0      2  My husband and I had a rare afternoon off so w...    negative   \n",
       "1      4  For years I thought this was only a wine store...    positive   \n",
       "2      5  This place is so charming! I went with my husb...    positive   \n",
       "3      5  We have been wanting to try this place for a c...    positive   \n",
       "4      1  Decor looks ok but layout is too busy. Difficu...    negative   \n",
       "\n",
       "   review_len  punctuations  \n",
       "0        1106           4.2  \n",
       "1         490           3.9  \n",
       "2         318           3.1  \n",
       "3         273           3.3  \n",
       "4         185           7.0  "
      ]
     },
     "execution_count": 39,
     "metadata": {},
     "output_type": "execute_result"
    }
   ],
   "source": [
    "review_length_punct(dataset3)\n",
    "dataset3.head()"
   ]
  },
  {
   "cell_type": "code",
   "execution_count": 40,
   "metadata": {},
   "outputs": [],
   "source": [
    "# Function to plot a histogram for comparing the length of positive and negative reviews in the dataset.\n",
    "def histogram_reviewLength(dataset):\n",
    "    bins = np.linspace(dataset[\"review_len\"].min(), int(dataset[\"review_len\"].mean()), int(dataset[\"review_len\"].mean()/40))\n",
    "    pyplot.hist(dataset[dataset['rating_type']=='positive']['review_len'], bins, alpha=0.5, label='positive')\n",
    "    pyplot.hist(dataset[dataset['rating_type']=='negative']['review_len'], bins, alpha=0.5, label='negative')\n",
    "    pyplot.legend(loc='upper right')\n",
    "    pyplot.title(\"Length of Reviews in Dataset\")\n",
    "    pyplot.xlabel(\"Length of Review\")\n",
    "    pyplot.ylabel(\"Number of Reviews\")\n",
    "    pyplot.show()"
   ]
  },
  {
   "cell_type": "code",
   "execution_count": 41,
   "metadata": {},
   "outputs": [],
   "source": [
    "# Function to plot a histogram for comparing the punctuation % of positive and negative reviews in the dataset.\n",
    "\n",
    "def histogram_punctuations(dataset):\n",
    "    #labels = ['negative','positive']\n",
    "    bins = np.linspace(0, 10, 20)\n",
    "    pyplot.hist(dataset[dataset['rating_type']=='positive']['punctuations'], bins, alpha=0.5, label='positive')\n",
    "    pyplot.hist(dataset[dataset['rating_type']=='negative']['punctuations'], bins, alpha=0.5, label='negative')\n",
    "    pyplot.title(\"Punctuation Percentage of Reviews\")\n",
    "    pyplot.xlabel(\"Punctuation Percentage\")\n",
    "    pyplot.ylabel(\"Number of Reviews\")\n",
    "    pyplot.legend(loc='upper right')\n",
    "    pyplot.show()"
   ]
  },
  {
   "cell_type": "markdown",
   "metadata": {},
   "source": [
    "#### tf-idf Vectorization of the text in the reviews"
   ]
  },
  {
   "cell_type": "code",
   "execution_count": 42,
   "metadata": {},
   "outputs": [],
   "source": [
    "# Function for tf-idf vectorization of the reviews after cleaning the data\n",
    "def review_Vectorization(dataset):\n",
    "    #setting max features to top 2350 as most of the datasets here do not similar set features after vectorization\n",
    "    tfidf_vect = TfidfVectorizer(analyzer=clean_text_review, max_features=2350)\n",
    "    # Setting the max_features after thorough testing on different models\n",
    "    X_tfidf = tfidf_vect.fit_transform(dataset['review'])\n",
    "    X_features = pd.concat([dataset['review_len'], dataset['punctuations'], pd.DataFrame(X_tfidf.toarray())], axis=1)\n",
    "    return X_features"
   ]
  },
  {
   "cell_type": "markdown",
   "metadata": {},
   "source": [
    "## Text Analysis for Classification of reviews"
   ]
  },
  {
   "cell_type": "markdown",
   "metadata": {},
   "source": [
    "### Dataset 1- Cafe Reviews"
   ]
  },
  {
   "cell_type": "code",
   "execution_count": 43,
   "metadata": {
    "scrolled": true
   },
   "outputs": [
    {
     "data": {
      "image/png": "[encoded data removed]",
      "text/plain": [
       "<Figure size 432x288 with 1 Axes>"
      ]
     },
     "metadata": {
      "needs_background": "light"
     },
     "output_type": "display_data"
    }
   ],
   "source": [
    "histogram_reviewLength(dataset1)"
   ]
  },
  {
   "cell_type": "markdown",
   "metadata": {},
   "source": [
    "#### From the above histogram it can be interpreted that there are more number positive reviews which longer than the negative reviews in this Cafe Reviews.<br>The length of the review can be a usefule feature in the dataset for training a classification model."
   ]
  },
  {
   "cell_type": "code",
   "execution_count": 44,
   "metadata": {},
   "outputs": [
    {
     "data": {
      "image/png": "[encoded data removed]",
      "text/plain": [
       "<Figure size 432x288 with 1 Axes>"
      ]
     },
     "metadata": {
      "needs_background": "light"
     },
     "output_type": "display_data"
    }
   ],
   "source": [
    "histogram_punctuations(dataset1)"
   ]
  },
  {
   "cell_type": "markdown",
   "metadata": {},
   "source": [
    "#### From the above histogram we can iterpret that there are more number of positive reviews where the there is higher percentage of punctutations. Though there are a few negative reviews which have higher rate of punctuations. <br>The percentage of punctuations can also be a useful feature when training the classification model for this dataset. "
   ]
  },
  {
   "cell_type": "markdown",
   "metadata": {},
   "source": [
    "### Numeric Representation of the Data/Reviews"
   ]
  },
  {
   "cell_type": "markdown",
   "metadata": {},
   "source": [
    "#### Normalization of review length and punctuation percentage"
   ]
  },
  {
   "cell_type": "code",
   "execution_count": 45,
   "metadata": {},
   "outputs": [],
   "source": [
    "# Function to normalize the review length and punctuations attribute in the dataset\n",
    "def _normalize_length_punct():\n",
    "    scaler = MinMaxScaler()\n",
    "    temp = X_features['review_len']\n",
    "    temp = temp.to_numpy()\n",
    "    temp = temp.reshape(-1,1)\n",
    "    X_features['review_len'] = scaler.fit_transform(temp)\n",
    "    scaler = MinMaxScaler()\n",
    "    temp = X_features['punctuations']\n",
    "    temp = temp.to_numpy()\n",
    "    temp = temp.reshape(-1,1)\n",
    "    X_features['punctuations'] = scaler.fit_transform(temp)"
   ]
  },
  {
   "cell_type": "markdown",
   "metadata": {},
   "source": [
    "#### Vectorization of reviews in Dataset 1"
   ]
  },
  {
   "cell_type": "code",
   "execution_count": 46,
   "metadata": {},
   "outputs": [],
   "source": [
    "X_features = review_Vectorization(dataset1)\n",
    "## Saving the computed vectorized features considering future use for training\n",
    "X_features_1 = X_features.copy()"
   ]
  },
  {
   "cell_type": "code",
   "execution_count": 47,
   "metadata": {},
   "outputs": [
    {
     "data": {
      "text/html": [
       "<div>\n",
       "<style scoped>\n",
       "    .dataframe tbody tr th:only-of-type {\n",
       "        vertical-align: middle;\n",
       "    }\n",
       "\n",
       "    .dataframe tbody tr th {\n",
       "        vertical-align: top;\n",
       "    }\n",
       "\n",
       "    .dataframe thead th {\n",
       "        text-align: right;\n",
       "    }\n",
       "</style>\n",
       "<table border=\"1\" class=\"dataframe\">\n",
       "  <thead>\n",
       "    <tr style=\"text-align: right;\">\n",
       "      <th></th>\n",
       "      <th>review_len</th>\n",
       "      <th>punctuations</th>\n",
       "      <th>0</th>\n",
       "      <th>1</th>\n",
       "      <th>2</th>\n",
       "      <th>3</th>\n",
       "      <th>4</th>\n",
       "      <th>5</th>\n",
       "      <th>6</th>\n",
       "      <th>7</th>\n",
       "      <th>...</th>\n",
       "      <th>2340</th>\n",
       "      <th>2341</th>\n",
       "      <th>2342</th>\n",
       "      <th>2343</th>\n",
       "      <th>2344</th>\n",
       "      <th>2345</th>\n",
       "      <th>2346</th>\n",
       "      <th>2347</th>\n",
       "      <th>2348</th>\n",
       "      <th>2349</th>\n",
       "    </tr>\n",
       "  </thead>\n",
       "  <tbody>\n",
       "    <tr>\n",
       "      <th>0</th>\n",
       "      <td>1271</td>\n",
       "      <td>2.7</td>\n",
       "      <td>0.186419</td>\n",
       "      <td>0.0</td>\n",
       "      <td>0.0</td>\n",
       "      <td>0.0</td>\n",
       "      <td>0.0</td>\n",
       "      <td>0.0</td>\n",
       "      <td>0.0</td>\n",
       "      <td>0.0</td>\n",
       "      <td>...</td>\n",
       "      <td>0.0</td>\n",
       "      <td>0.0</td>\n",
       "      <td>0.0</td>\n",
       "      <td>0.0</td>\n",
       "      <td>0.0</td>\n",
       "      <td>0.0</td>\n",
       "      <td>0.0</td>\n",
       "      <td>0.0</td>\n",
       "      <td>0.0</td>\n",
       "      <td>0.0</td>\n",
       "    </tr>\n",
       "    <tr>\n",
       "      <th>1</th>\n",
       "      <td>281</td>\n",
       "      <td>4.6</td>\n",
       "      <td>0.000000</td>\n",
       "      <td>0.0</td>\n",
       "      <td>0.0</td>\n",
       "      <td>0.0</td>\n",
       "      <td>0.0</td>\n",
       "      <td>0.0</td>\n",
       "      <td>0.0</td>\n",
       "      <td>0.0</td>\n",
       "      <td>...</td>\n",
       "      <td>0.0</td>\n",
       "      <td>0.0</td>\n",
       "      <td>0.0</td>\n",
       "      <td>0.0</td>\n",
       "      <td>0.0</td>\n",
       "      <td>0.0</td>\n",
       "      <td>0.0</td>\n",
       "      <td>0.0</td>\n",
       "      <td>0.0</td>\n",
       "      <td>0.0</td>\n",
       "    </tr>\n",
       "    <tr>\n",
       "      <th>2</th>\n",
       "      <td>1275</td>\n",
       "      <td>4.9</td>\n",
       "      <td>0.088271</td>\n",
       "      <td>0.0</td>\n",
       "      <td>0.0</td>\n",
       "      <td>0.0</td>\n",
       "      <td>0.0</td>\n",
       "      <td>0.0</td>\n",
       "      <td>0.0</td>\n",
       "      <td>0.0</td>\n",
       "      <td>...</td>\n",
       "      <td>0.0</td>\n",
       "      <td>0.0</td>\n",
       "      <td>0.0</td>\n",
       "      <td>0.0</td>\n",
       "      <td>0.0</td>\n",
       "      <td>0.0</td>\n",
       "      <td>0.0</td>\n",
       "      <td>0.0</td>\n",
       "      <td>0.0</td>\n",
       "      <td>0.0</td>\n",
       "    </tr>\n",
       "    <tr>\n",
       "      <th>3</th>\n",
       "      <td>415</td>\n",
       "      <td>2.9</td>\n",
       "      <td>0.000000</td>\n",
       "      <td>0.0</td>\n",
       "      <td>0.0</td>\n",
       "      <td>0.0</td>\n",
       "      <td>0.0</td>\n",
       "      <td>0.0</td>\n",
       "      <td>0.0</td>\n",
       "      <td>0.0</td>\n",
       "      <td>...</td>\n",
       "      <td>0.0</td>\n",
       "      <td>0.0</td>\n",
       "      <td>0.0</td>\n",
       "      <td>0.0</td>\n",
       "      <td>0.0</td>\n",
       "      <td>0.0</td>\n",
       "      <td>0.0</td>\n",
       "      <td>0.0</td>\n",
       "      <td>0.0</td>\n",
       "      <td>0.0</td>\n",
       "    </tr>\n",
       "    <tr>\n",
       "      <th>4</th>\n",
       "      <td>235</td>\n",
       "      <td>3.4</td>\n",
       "      <td>0.000000</td>\n",
       "      <td>0.0</td>\n",
       "      <td>0.0</td>\n",
       "      <td>0.0</td>\n",
       "      <td>0.0</td>\n",
       "      <td>0.0</td>\n",
       "      <td>0.0</td>\n",
       "      <td>0.0</td>\n",
       "      <td>...</td>\n",
       "      <td>0.0</td>\n",
       "      <td>0.0</td>\n",
       "      <td>0.0</td>\n",
       "      <td>0.0</td>\n",
       "      <td>0.0</td>\n",
       "      <td>0.0</td>\n",
       "      <td>0.0</td>\n",
       "      <td>0.0</td>\n",
       "      <td>0.0</td>\n",
       "      <td>0.0</td>\n",
       "    </tr>\n",
       "  </tbody>\n",
       "</table>\n",
       "<p>5 rows × 2352 columns</p>\n",
       "</div>"
      ],
      "text/plain": [
       "   review_len  punctuations         0    1    2    3    4    5    6    7  ...  \\\n",
       "0        1271           2.7  0.186419  0.0  0.0  0.0  0.0  0.0  0.0  0.0  ...   \n",
       "1         281           4.6  0.000000  0.0  0.0  0.0  0.0  0.0  0.0  0.0  ...   \n",
       "2        1275           4.9  0.088271  0.0  0.0  0.0  0.0  0.0  0.0  0.0  ...   \n",
       "3         415           2.9  0.000000  0.0  0.0  0.0  0.0  0.0  0.0  0.0  ...   \n",
       "4         235           3.4  0.000000  0.0  0.0  0.0  0.0  0.0  0.0  0.0  ...   \n",
       "\n",
       "   2340  2341  2342  2343  2344  2345  2346  2347  2348  2349  \n",
       "0   0.0   0.0   0.0   0.0   0.0   0.0   0.0   0.0   0.0   0.0  \n",
       "1   0.0   0.0   0.0   0.0   0.0   0.0   0.0   0.0   0.0   0.0  \n",
       "2   0.0   0.0   0.0   0.0   0.0   0.0   0.0   0.0   0.0   0.0  \n",
       "3   0.0   0.0   0.0   0.0   0.0   0.0   0.0   0.0   0.0   0.0  \n",
       "4   0.0   0.0   0.0   0.0   0.0   0.0   0.0   0.0   0.0   0.0  \n",
       "\n",
       "[5 rows x 2352 columns]"
      ]
     },
     "execution_count": 47,
     "metadata": {},
     "output_type": "execute_result"
    }
   ],
   "source": [
    "X_features.head()"
   ]
  },
  {
   "cell_type": "code",
   "execution_count": 48,
   "metadata": {},
   "outputs": [],
   "source": [
    "_normalize_length_punct()"
   ]
  },
  {
   "cell_type": "code",
   "execution_count": 49,
   "metadata": {},
   "outputs": [
    {
     "data": {
      "text/html": [
       "<div>\n",
       "<style scoped>\n",
       "    .dataframe tbody tr th:only-of-type {\n",
       "        vertical-align: middle;\n",
       "    }\n",
       "\n",
       "    .dataframe tbody tr th {\n",
       "        vertical-align: top;\n",
       "    }\n",
       "\n",
       "    .dataframe thead th {\n",
       "        text-align: right;\n",
       "    }\n",
       "</style>\n",
       "<table border=\"1\" class=\"dataframe\">\n",
       "  <thead>\n",
       "    <tr style=\"text-align: right;\">\n",
       "      <th></th>\n",
       "      <th>review_len</th>\n",
       "      <th>punctuations</th>\n",
       "      <th>0</th>\n",
       "      <th>1</th>\n",
       "      <th>2</th>\n",
       "      <th>3</th>\n",
       "      <th>4</th>\n",
       "      <th>5</th>\n",
       "      <th>6</th>\n",
       "      <th>7</th>\n",
       "      <th>...</th>\n",
       "      <th>2340</th>\n",
       "      <th>2341</th>\n",
       "      <th>2342</th>\n",
       "      <th>2343</th>\n",
       "      <th>2344</th>\n",
       "      <th>2345</th>\n",
       "      <th>2346</th>\n",
       "      <th>2347</th>\n",
       "      <th>2348</th>\n",
       "      <th>2349</th>\n",
       "    </tr>\n",
       "  </thead>\n",
       "  <tbody>\n",
       "    <tr>\n",
       "      <th>0</th>\n",
       "      <td>0.306266</td>\n",
       "      <td>0.024752</td>\n",
       "      <td>0.186419</td>\n",
       "      <td>0.0</td>\n",
       "      <td>0.0</td>\n",
       "      <td>0.0</td>\n",
       "      <td>0.0</td>\n",
       "      <td>0.0</td>\n",
       "      <td>0.0</td>\n",
       "      <td>0.0</td>\n",
       "      <td>...</td>\n",
       "      <td>0.0</td>\n",
       "      <td>0.0</td>\n",
       "      <td>0.0</td>\n",
       "      <td>0.0</td>\n",
       "      <td>0.0</td>\n",
       "      <td>0.0</td>\n",
       "      <td>0.0</td>\n",
       "      <td>0.0</td>\n",
       "      <td>0.0</td>\n",
       "      <td>0.0</td>\n",
       "    </tr>\n",
       "    <tr>\n",
       "      <th>1</th>\n",
       "      <td>0.047781</td>\n",
       "      <td>0.048267</td>\n",
       "      <td>0.000000</td>\n",
       "      <td>0.0</td>\n",
       "      <td>0.0</td>\n",
       "      <td>0.0</td>\n",
       "      <td>0.0</td>\n",
       "      <td>0.0</td>\n",
       "      <td>0.0</td>\n",
       "      <td>0.0</td>\n",
       "      <td>...</td>\n",
       "      <td>0.0</td>\n",
       "      <td>0.0</td>\n",
       "      <td>0.0</td>\n",
       "      <td>0.0</td>\n",
       "      <td>0.0</td>\n",
       "      <td>0.0</td>\n",
       "      <td>0.0</td>\n",
       "      <td>0.0</td>\n",
       "      <td>0.0</td>\n",
       "      <td>0.0</td>\n",
       "    </tr>\n",
       "    <tr>\n",
       "      <th>2</th>\n",
       "      <td>0.307311</td>\n",
       "      <td>0.051980</td>\n",
       "      <td>0.088271</td>\n",
       "      <td>0.0</td>\n",
       "      <td>0.0</td>\n",
       "      <td>0.0</td>\n",
       "      <td>0.0</td>\n",
       "      <td>0.0</td>\n",
       "      <td>0.0</td>\n",
       "      <td>0.0</td>\n",
       "      <td>...</td>\n",
       "      <td>0.0</td>\n",
       "      <td>0.0</td>\n",
       "      <td>0.0</td>\n",
       "      <td>0.0</td>\n",
       "      <td>0.0</td>\n",
       "      <td>0.0</td>\n",
       "      <td>0.0</td>\n",
       "      <td>0.0</td>\n",
       "      <td>0.0</td>\n",
       "      <td>0.0</td>\n",
       "    </tr>\n",
       "    <tr>\n",
       "      <th>3</th>\n",
       "      <td>0.082768</td>\n",
       "      <td>0.027228</td>\n",
       "      <td>0.000000</td>\n",
       "      <td>0.0</td>\n",
       "      <td>0.0</td>\n",
       "      <td>0.0</td>\n",
       "      <td>0.0</td>\n",
       "      <td>0.0</td>\n",
       "      <td>0.0</td>\n",
       "      <td>0.0</td>\n",
       "      <td>...</td>\n",
       "      <td>0.0</td>\n",
       "      <td>0.0</td>\n",
       "      <td>0.0</td>\n",
       "      <td>0.0</td>\n",
       "      <td>0.0</td>\n",
       "      <td>0.0</td>\n",
       "      <td>0.0</td>\n",
       "      <td>0.0</td>\n",
       "      <td>0.0</td>\n",
       "      <td>0.0</td>\n",
       "    </tr>\n",
       "    <tr>\n",
       "      <th>4</th>\n",
       "      <td>0.035770</td>\n",
       "      <td>0.033416</td>\n",
       "      <td>0.000000</td>\n",
       "      <td>0.0</td>\n",
       "      <td>0.0</td>\n",
       "      <td>0.0</td>\n",
       "      <td>0.0</td>\n",
       "      <td>0.0</td>\n",
       "      <td>0.0</td>\n",
       "      <td>0.0</td>\n",
       "      <td>...</td>\n",
       "      <td>0.0</td>\n",
       "      <td>0.0</td>\n",
       "      <td>0.0</td>\n",
       "      <td>0.0</td>\n",
       "      <td>0.0</td>\n",
       "      <td>0.0</td>\n",
       "      <td>0.0</td>\n",
       "      <td>0.0</td>\n",
       "      <td>0.0</td>\n",
       "      <td>0.0</td>\n",
       "    </tr>\n",
       "  </tbody>\n",
       "</table>\n",
       "<p>5 rows × 2352 columns</p>\n",
       "</div>"
      ],
      "text/plain": [
       "   review_len  punctuations         0    1    2    3    4    5    6    7  ...  \\\n",
       "0    0.306266      0.024752  0.186419  0.0  0.0  0.0  0.0  0.0  0.0  0.0  ...   \n",
       "1    0.047781      0.048267  0.000000  0.0  0.0  0.0  0.0  0.0  0.0  0.0  ...   \n",
       "2    0.307311      0.051980  0.088271  0.0  0.0  0.0  0.0  0.0  0.0  0.0  ...   \n",
       "3    0.082768      0.027228  0.000000  0.0  0.0  0.0  0.0  0.0  0.0  0.0  ...   \n",
       "4    0.035770      0.033416  0.000000  0.0  0.0  0.0  0.0  0.0  0.0  0.0  ...   \n",
       "\n",
       "   2340  2341  2342  2343  2344  2345  2346  2347  2348  2349  \n",
       "0   0.0   0.0   0.0   0.0   0.0   0.0   0.0   0.0   0.0   0.0  \n",
       "1   0.0   0.0   0.0   0.0   0.0   0.0   0.0   0.0   0.0   0.0  \n",
       "2   0.0   0.0   0.0   0.0   0.0   0.0   0.0   0.0   0.0   0.0  \n",
       "3   0.0   0.0   0.0   0.0   0.0   0.0   0.0   0.0   0.0   0.0  \n",
       "4   0.0   0.0   0.0   0.0   0.0   0.0   0.0   0.0   0.0   0.0  \n",
       "\n",
       "[5 rows x 2352 columns]"
      ]
     },
     "execution_count": 49,
     "metadata": {},
     "output_type": "execute_result"
    }
   ],
   "source": [
    "X_features.head()"
   ]
  },
  {
   "cell_type": "markdown",
   "metadata": {},
   "source": [
    "#### Class Label for Dataset 1"
   ]
  },
  {
   "cell_type": "code",
   "execution_count": 50,
   "metadata": {},
   "outputs": [],
   "source": [
    "y = dataset1['rating_type'].values"
   ]
  },
  {
   "cell_type": "code",
   "execution_count": 51,
   "metadata": {},
   "outputs": [
    {
     "data": {
      "text/plain": [
       "array(['positive', 'positive', 'negative', ..., 'negative', 'negative',\n",
       "       'positive'], dtype=object)"
      ]
     },
     "execution_count": 51,
     "metadata": {},
     "output_type": "execute_result"
    }
   ],
   "source": [
    "y"
   ]
  },
  {
   "cell_type": "markdown",
   "metadata": {},
   "source": [
    "### Splitting the Training and Testing Data"
   ]
  },
  {
   "cell_type": "code",
   "execution_count": 52,
   "metadata": {},
   "outputs": [],
   "source": [
    "X_train, X_test, y_train, y_test = train_test_split(X_features, y, test_size = 0.20, random_state = 25)"
   ]
  },
  {
   "cell_type": "markdown",
   "metadata": {},
   "source": [
    "## Naive Bayes Classification Model"
   ]
  },
  {
   "cell_type": "markdown",
   "metadata": {},
   "source": [
    "### Function to train and evaluate the Naive Bayes Classifier"
   ]
  },
  {
   "cell_type": "code",
   "execution_count": 53,
   "metadata": {},
   "outputs": [],
   "source": [
    "# Function to train the Naive Bayes Classifier Model\n",
    "def nBayesModel_train():\n",
    "    nbModel = MultinomialNB()\n",
    "    nbModel.fit(X_train, y_train)\n",
    "    return nbModel"
   ]
  },
  {
   "cell_type": "code",
   "execution_count": 54,
   "metadata": {},
   "outputs": [],
   "source": [
    "# Function to evaluate the Naive Bayes Classifier Model\n",
    "def evaluate_NB(model, test_features, test_labels):\n",
    "    predictions = model.predict(test_features)\n",
    "    precision, recall, fscore, support = score(test_labels, predictions, pos_label='positive', average='binary')\n",
    "    accuracy = model.score(test_features, test_labels)\n",
    "    tn, fp, fn, tp = confusion_matrix(test_labels,predictions).ravel()\n",
    "    print(\"------------ Naive Bayes Classifier Performance Metrics ------------\")\n",
    "    print(\"F-score: {} \".format(round(fscore,3)*100))\n",
    "    print(\"Precision: {} \".format(round(precision,3)*100))\n",
    "    print(\"Recall: {} \".format(round(recall,3)*100))\n",
    "    print(\"Accuracy: {} \".format(round(accuracy,3)*100))\n",
    "    nbMetrics = [precision, recall, fscore, accuracy, tn, fp, fn, tp]\n",
    "    return nbMetrics"
   ]
  },
  {
   "cell_type": "markdown",
   "metadata": {},
   "source": [
    "#### Naive Bayes Classifier training"
   ]
  },
  {
   "cell_type": "code",
   "execution_count": 55,
   "metadata": {
    "scrolled": true
   },
   "outputs": [],
   "source": [
    "nb_start_time = time.time()\n",
    "nb_Model = nBayesModel_train()\n",
    "nb_end_time = time.time()"
   ]
  },
  {
   "cell_type": "code",
   "execution_count": 56,
   "metadata": {},
   "outputs": [
    {
     "name": "stdout",
     "output_type": "stream",
     "text": [
      "Time required to train Naive Bayes Classifier: 0.03 seconds\n"
     ]
    }
   ],
   "source": [
    "nb_train_time = (nb_end_time - nb_start_time)\n",
    "nb_train_time = round(nb_train_time,2)\n",
    "print(\"Time required to train Naive Bayes Classifier: \" + str(nb_train_time) +\" seconds\")"
   ]
  },
  {
   "cell_type": "markdown",
   "metadata": {},
   "source": [
    "#### Naive Bayes Classifier Model evaluation metrics"
   ]
  },
  {
   "cell_type": "code",
   "execution_count": 57,
   "metadata": {},
   "outputs": [
    {
     "name": "stdout",
     "output_type": "stream",
     "text": [
      "------------ Naive Bayes Classifier Performance Metrics ------------\n",
      "F-score: 88.9 \n",
      "Precision: 80.7 \n",
      "Recall: 99.0 \n",
      "Accuracy: 81.8 \n"
     ]
    }
   ],
   "source": [
    "nbMetrics = evaluate_NB(nb_Model, X_test, y_test)"
   ]
  },
  {
   "cell_type": "markdown",
   "metadata": {},
   "source": [
    "## RandomForest Classification Model"
   ]
  },
  {
   "cell_type": "markdown",
   "metadata": {},
   "source": [
    "#### Functions to train RandomForest Classifier with RandomSearchCV for the best suited parameters"
   ]
  },
  {
   "cell_type": "code",
   "execution_count": 58,
   "metadata": {},
   "outputs": [],
   "source": [
    "#Setting a range of parameters to be used in the randomforest classifier to find the best suited parameter for the model\n",
    "# Number of trees in random forest\n",
    "n_estimators = [int(x) for x in range(200, 4000, 10)]\n",
    "# Number of features to consider at every split\n",
    "max_features = ['auto', 'sqrt', \"None\"]\n",
    "# Maximum number of levels in tree\n",
    "max_depth = [int(x) for x in range(100, 500, 10)]\n",
    "max_depth.append(None)\n",
    "\n",
    "# Create the random grid\n",
    "random_grid = {'n_estimators': n_estimators,\n",
    "               'max_features': max_features,\n",
    "               'max_depth': max_depth\n",
    "              }"
   ]
  },
  {
   "cell_type": "markdown",
   "metadata": {},
   "source": [
    "#### RandomSearchCV to look for the best hyper-parameters for the random forest classifier"
   ]
  },
  {
   "cell_type": "code",
   "execution_count": 59,
   "metadata": {},
   "outputs": [
    {
     "data": {
      "text/plain": [
       "RandomizedSearchCV(cv=None, error_score=nan,\n",
       "                   estimator=RandomForestClassifier(bootstrap=True,\n",
       "                                                    ccp_alpha=0.0,\n",
       "                                                    class_weight=None,\n",
       "                                                    criterion='gini',\n",
       "                                                    max_depth=None,\n",
       "                                                    max_features='auto',\n",
       "                                                    max_leaf_nodes=None,\n",
       "                                                    max_samples=None,\n",
       "                                                    min_impurity_decrease=0.0,\n",
       "                                                    min_impurity_split=None,\n",
       "                                                    min_samples_leaf=1,\n",
       "                                                    min_samples_split=2,\n",
       "                                                    min_weight_fraction_leaf=0.0,\n",
       "                                                    n_estimators=100,\n",
       "                                                    n_j...\n",
       "                                                      200, 210, 220, 230, 240,\n",
       "                                                      250, 260, 270, 280, 290,\n",
       "                                                      300, 310, 320, 330, 340,\n",
       "                                                      350, 360, 370, 380, 390, ...],\n",
       "                                        'max_features': ['auto', 'sqrt',\n",
       "                                                         'None'],\n",
       "                                        'n_estimators': [200, 210, 220, 230,\n",
       "                                                         240, 250, 260, 270,\n",
       "                                                         280, 290, 300, 310,\n",
       "                                                         320, 330, 340, 350,\n",
       "                                                         360, 370, 380, 390,\n",
       "                                                         400, 410, 420, 430,\n",
       "                                                         440, 450, 460, 470,\n",
       "                                                         480, 490, ...]},\n",
       "                   pre_dispatch='2*n_jobs', random_state=None, refit=True,\n",
       "                   return_train_score=False, scoring=None, verbose=0)"
      ]
     },
     "execution_count": 59,
     "metadata": {},
     "output_type": "execute_result"
    }
   ],
   "source": [
    "# Using the random grid to search for best hyperparameters in the random forest classifier\n",
    "rf = RandomForestClassifier()\n",
    "# Random search of parameters, using default 5 fold cross validation, \n",
    "# search across different combinations, and use all available cores\n",
    "rf_random = RandomizedSearchCV(estimator = rf, param_distributions = random_grid, n_jobs = -1)\n",
    "# Fit the random search model\n",
    "rf_random.fit(X_train, y_train)"
   ]
  },
  {
   "cell_type": "code",
   "execution_count": 60,
   "metadata": {},
   "outputs": [
    {
     "data": {
      "text/plain": [
       "{'n_estimators': 3290, 'max_features': 'auto', 'max_depth': 380}"
      ]
     },
     "execution_count": 60,
     "metadata": {},
     "output_type": "execute_result"
    }
   ],
   "source": [
    "## The best parameters found for the random forest\n",
    "rf_random.best_params_"
   ]
  },
  {
   "cell_type": "markdown",
   "metadata": {},
   "source": [
    "#### Function for training RandomForest Classifier using the best found hyper-parameters"
   ]
  },
  {
   "cell_type": "code",
   "execution_count": 61,
   "metadata": {},
   "outputs": [],
   "source": [
    "# Function to train the Random Forest Model\n",
    "def rforestModel_train():\n",
    "    n_estimators = rf_random.best_params_[\"n_estimators\"]\n",
    "    max_depth = rf_random.best_params_[\"max_depth\"]\n",
    "    max_features = rf_random.best_params_[\"max_features\"]\n",
    "    rf_Model = RandomForestClassifier(n_estimators = n_estimators, max_depth = max_depth, \n",
    "                                    max_features = max_features)\n",
    "    rf_Model.fit(X_train, y_train)\n",
    "    return rf_Model"
   ]
  },
  {
   "cell_type": "markdown",
   "metadata": {},
   "source": [
    "#### RandomForest Classifier Evaluation function"
   ]
  },
  {
   "cell_type": "code",
   "execution_count": 62,
   "metadata": {},
   "outputs": [],
   "source": [
    "# Function to evaluate the random forest model\n",
    "def evaluate_RF(model, test_features, test_labels, n_est, depth):\n",
    "    predictions = model.predict(test_features)\n",
    "    precision, recall, fscore, support = score(test_labels, predictions, pos_label='positive', average='binary')\n",
    "    accuracy = model.score(test_features, test_labels)\n",
    "    tn, fp, fn, tp = confusion_matrix(test_labels,predictions).ravel()\n",
    "    print(\"------------ Random Forest Classifier Performance Metrics ------------\")\n",
    "    print(\"F-score: {} \".format(round(fscore,3)*100))\n",
    "    print(\"Precision: {} \".format(round(precision,3)*100))\n",
    "    print(\"Recall: {} \".format(round(recall,3)*100))\n",
    "    print(\"Accuracy: {} \".format(round(accuracy,3)*100))\n",
    "    rfMetrics = [precision, recall, fscore, accuracy, tn, fp, fn, tp]\n",
    "    return rfMetrics"
   ]
  },
  {
   "cell_type": "markdown",
   "metadata": {},
   "source": [
    "#### Training RandomForest Classifier on Dataset - 1"
   ]
  },
  {
   "cell_type": "code",
   "execution_count": 63,
   "metadata": {},
   "outputs": [],
   "source": [
    "rf_start_time = time.time()\n",
    "rf_Model = rforestModel_train()\n",
    "rf_end_time = time.time()"
   ]
  },
  {
   "cell_type": "code",
   "execution_count": 64,
   "metadata": {},
   "outputs": [
    {
     "name": "stdout",
     "output_type": "stream",
     "text": [
      "Time required to train Random Forest Classifier: 64.23 seconds\n"
     ]
    }
   ],
   "source": [
    "rf_train_time = (rf_end_time - rf_start_time)\n",
    "rf_train_time = round(rf_train_time,2)\n",
    "print(\"Time required to train Random Forest Classifier: \" + str(rf_train_time) + \" seconds\")"
   ]
  },
  {
   "cell_type": "markdown",
   "metadata": {},
   "source": [
    "#### Evaluation of RandomForest Classifier Metrics"
   ]
  },
  {
   "cell_type": "code",
   "execution_count": 65,
   "metadata": {},
   "outputs": [
    {
     "name": "stdout",
     "output_type": "stream",
     "text": [
      "------------ Random Forest Classifier Performance Metrics ------------\n",
      "F-score: 91.10000000000001 \n",
      "Precision: 84.8 \n",
      "Recall: 98.3 \n",
      "Accuracy: 85.8 \n"
     ]
    }
   ],
   "source": [
    "rfMetrics = evaluate_RF(rf_Model, X_test, y_test, n_estimators, max_depth)"
   ]
  },
  {
   "cell_type": "markdown",
   "metadata": {},
   "source": [
    "## Logistic Regression Classification Model"
   ]
  },
  {
   "cell_type": "markdown",
   "metadata": {},
   "source": [
    "#### Function to train Logistic Regression model"
   ]
  },
  {
   "cell_type": "code",
   "execution_count": 66,
   "metadata": {},
   "outputs": [],
   "source": [
    "# Function to train the Logistic Regression Model\n",
    "def logRegModel_train():\n",
    "    logReg = LogisticRegression(solver='liblinear', C=5, penalty='l2',max_iter=3000)\n",
    "    logReg.fit(X_train,y_train)\n",
    "    return logReg"
   ]
  },
  {
   "cell_type": "markdown",
   "metadata": {},
   "source": [
    "#### Function to evaluate Logistic Regression Model"
   ]
  },
  {
   "cell_type": "code",
   "execution_count": 67,
   "metadata": {},
   "outputs": [],
   "source": [
    "# Function to evaluate the Logistic Regression Model\n",
    "def evaluate_LogReg(model, test_features, test_labels):\n",
    "    predictions = model.predict(test_features)\n",
    "    precision, recall, fscore, support = score(test_labels, predictions, pos_label='positive', average='binary')\n",
    "    accuracy = model.score(test_features, test_labels)\n",
    "    tn, fp, fn, tp = confusion_matrix(test_labels,predictions).ravel()\n",
    "    print(\"------------ Logistic Regression Classifier Performance Metrics ------------\")\n",
    "    print(\"F-score: {} \".format(round(fscore,3)*100))\n",
    "    print(\"Precision: {} \".format(round(precision,3)*100))\n",
    "    print(\"Recall: {} \".format(round(recall,3)*100))\n",
    "    print(\"Accuracy: {} \".format(round(accuracy,3)*100))\n",
    "    logRegMetrics = [precision, recall, fscore, accuracy, tn, fp, fn, tp]\n",
    "    return logRegMetrics"
   ]
  },
  {
   "cell_type": "markdown",
   "metadata": {},
   "source": [
    "#### Training Logistic Regression Model on Dataset - 1 "
   ]
  },
  {
   "cell_type": "code",
   "execution_count": 68,
   "metadata": {},
   "outputs": [],
   "source": [
    "lr_start_time = time.time()\n",
    "logReg_Model = logRegModel_train()\n",
    "lr_end_time = time.time()"
   ]
  },
  {
   "cell_type": "code",
   "execution_count": 69,
   "metadata": {},
   "outputs": [
    {
     "name": "stdout",
     "output_type": "stream",
     "text": [
      "Time required to train Logistic Regression Classifier: 0.11 seconds\n"
     ]
    }
   ],
   "source": [
    "lr_train_time = (lr_end_time - lr_start_time)\n",
    "lr_train_time = round(lr_train_time,2)\n",
    "print(\"Time required to train Logistic Regression Classifier: \" + str(lr_train_time)+ \" seconds\")"
   ]
  },
  {
   "cell_type": "markdown",
   "metadata": {},
   "source": [
    "#### Logistic Regression Model evaluation metrics"
   ]
  },
  {
   "cell_type": "code",
   "execution_count": 70,
   "metadata": {},
   "outputs": [
    {
     "name": "stdout",
     "output_type": "stream",
     "text": [
      "------------ Logistic Regression Classifier Performance Metrics ------------\n",
      "F-score: 92.5 \n",
      "Precision: 89.3 \n",
      "Recall: 95.89999999999999 \n",
      "Accuracy: 88.5 \n"
     ]
    }
   ],
   "source": [
    "logRegMetrics_1 = evaluate_LogReg(logReg_Model, X_test, y_test)"
   ]
  },
  {
   "cell_type": "markdown",
   "metadata": {},
   "source": [
    "## Classifier Evaluation "
   ]
  },
  {
   "cell_type": "markdown",
   "metadata": {},
   "source": [
    "Comparing Naive Bayes Classifier, RandomForest Classifier, and Logistic Regression Classification Metrics for training and testing on reviews for Dataset - 1"
   ]
  },
  {
   "cell_type": "code",
   "execution_count": 71,
   "metadata": {},
   "outputs": [],
   "source": [
    "classifierEvaluation = pd.DataFrame({\n",
    "    'Naive Bayes': nbMetrics,\n",
    "    'Random Forest': rfMetrics,\n",
    "    'Logistic Regression': logRegMetrics_1\n",
    "}, index=['precision', 'recall', 'fscore', 'accuracy','true negatives','false positives','false negatives','true positives']\n",
    ").T\n",
    "classifierEvaluation[\"precision\"] = round(classifierEvaluation[\"precision\"]*100,2)\n",
    "classifierEvaluation[\"recall\"] = round(classifierEvaluation[\"recall\"]*100,2)\n",
    "classifierEvaluation[\"fscore\"] = round(classifierEvaluation[\"fscore\"]*100,2)\n",
    "classifierEvaluation[\"accuracy\"] = round(classifierEvaluation[\"accuracy\"]*100,2)"
   ]
  },
  {
   "cell_type": "markdown",
   "metadata": {},
   "source": [
    "#### The below table shows evaluation metrics for each of the Classifier models."
   ]
  },
  {
   "cell_type": "code",
   "execution_count": 72,
   "metadata": {},
   "outputs": [
    {
     "data": {
      "text/html": [
       "<div>\n",
       "<style scoped>\n",
       "    .dataframe tbody tr th:only-of-type {\n",
       "        vertical-align: middle;\n",
       "    }\n",
       "\n",
       "    .dataframe tbody tr th {\n",
       "        vertical-align: top;\n",
       "    }\n",
       "\n",
       "    .dataframe thead th {\n",
       "        text-align: right;\n",
       "    }\n",
       "</style>\n",
       "<table border=\"1\" class=\"dataframe\">\n",
       "  <thead>\n",
       "    <tr style=\"text-align: right;\">\n",
       "      <th></th>\n",
       "      <th>precision</th>\n",
       "      <th>recall</th>\n",
       "      <th>fscore</th>\n",
       "      <th>accuracy</th>\n",
       "      <th>true negatives</th>\n",
       "      <th>false positives</th>\n",
       "      <th>false negatives</th>\n",
       "      <th>true positives</th>\n",
       "    </tr>\n",
       "  </thead>\n",
       "  <tbody>\n",
       "    <tr>\n",
       "      <th>Naive Bayes</th>\n",
       "      <td>80.72</td>\n",
       "      <td>98.99</td>\n",
       "      <td>88.92</td>\n",
       "      <td>81.75</td>\n",
       "      <td>34.0</td>\n",
       "      <td>70.0</td>\n",
       "      <td>3.0</td>\n",
       "      <td>293.0</td>\n",
       "    </tr>\n",
       "    <tr>\n",
       "      <th>Random Forest</th>\n",
       "      <td>84.84</td>\n",
       "      <td>98.31</td>\n",
       "      <td>91.08</td>\n",
       "      <td>85.75</td>\n",
       "      <td>52.0</td>\n",
       "      <td>52.0</td>\n",
       "      <td>5.0</td>\n",
       "      <td>291.0</td>\n",
       "    </tr>\n",
       "    <tr>\n",
       "      <th>Logistic Regression</th>\n",
       "      <td>89.31</td>\n",
       "      <td>95.95</td>\n",
       "      <td>92.51</td>\n",
       "      <td>88.50</td>\n",
       "      <td>70.0</td>\n",
       "      <td>34.0</td>\n",
       "      <td>12.0</td>\n",
       "      <td>284.0</td>\n",
       "    </tr>\n",
       "  </tbody>\n",
       "</table>\n",
       "</div>"
      ],
      "text/plain": [
       "                     precision  recall  fscore  accuracy  true negatives  \\\n",
       "Naive Bayes              80.72   98.99   88.92     81.75            34.0   \n",
       "Random Forest            84.84   98.31   91.08     85.75            52.0   \n",
       "Logistic Regression      89.31   95.95   92.51     88.50            70.0   \n",
       "\n",
       "                     false positives  false negatives  true positives  \n",
       "Naive Bayes                     70.0              3.0           293.0  \n",
       "Random Forest                   52.0              5.0           291.0  \n",
       "Logistic Regression             34.0             12.0           284.0  "
      ]
     },
     "execution_count": 72,
     "metadata": {},
     "output_type": "execute_result"
    }
   ],
   "source": [
    "classifierEvaluation.head()"
   ]
  },
  {
   "cell_type": "code",
   "execution_count": 73,
   "metadata": {},
   "outputs": [],
   "source": [
    "## Function for 5- fold Cross validation score on accuracy of the model\n",
    "def cv_score_mean(model,X,y):\n",
    "    X = X[:250]\n",
    "    y = y[:250]\n",
    "    cv_score = (cross_val_score(model, X, y, cv=None, scoring=\"accuracy\"))\n",
    "    avg_cv_score = cv_score.mean()*100\n",
    "    avg_cv_score = round(avg_cv_score,2)\n",
    "    print(\"The average accuracy of the model on 5-fold cross validation is: \"+str(avg_cv_score))"
   ]
  },
  {
   "cell_type": "code",
   "execution_count": 74,
   "metadata": {},
   "outputs": [
    {
     "name": "stdout",
     "output_type": "stream",
     "text": [
      "The average accuracy of the model on 5-fold cross validation is: 77.2\n"
     ]
    }
   ],
   "source": [
    "cv_score_mean(logReg_Model,X_test,y_test)"
   ]
  },
  {
   "cell_type": "code",
   "execution_count": 75,
   "metadata": {},
   "outputs": [
    {
     "data": {
      "image/png": "[encoded data removed]",
      "text/plain": [
       "<Figure size 432x288 with 2 Axes>"
      ]
     },
     "metadata": {
      "needs_background": "light"
     },
     "output_type": "display_data"
    }
   ],
   "source": [
    "_fscore = classifierEvaluation[\"fscore\"].to_numpy()\n",
    "_precision = classifierEvaluation[\"precision\"].to_numpy()\n",
    "_accuracy = classifierEvaluation[\"accuracy\"].to_numpy()\n",
    "\n",
    "X = np.arange(3)\n",
    "\n",
    "ticks = ['Naive Bayes', 'Random Forest', 'Logistic Regression']\n",
    "fig = pyplot.figure()\n",
    "ax = pyplot.subplot(111)\n",
    "ax = fig.add_axes([0,0,1,1])\n",
    "ax.bar(X + 0, _fscore, color = 'tab:blue', width = 0.25,align=\"center\")\n",
    "ax.bar(X + 0.25, _precision, color = 'tab:green', width = 0.25,align=\"center\")\n",
    "ax.bar(X + 0.50, _accuracy, color = 'tab:red', width = 0.25,align=\"center\")\n",
    "ax.set_ylabel(\"Percentage\",fontsize=14)\n",
    "ax.set_xlabel(\"Classifier\",fontsize=14)\n",
    "pyplot.title(\"Classifier Comparison - F-score vs Precision vs Accuracy\",fontsize=16)\n",
    "pyplot.xticks([0.20,1.2,2.25], ticks)\n",
    "ax.set_xticklabels(ticks, rotation=0, rotation_mode=\"anchor\")\n",
    "box = ax.get_position()\n",
    "ax.set_position([box.x0, box.y0, box.width * 0.8, box.height])\n",
    "\n",
    "pyplot.legend(['F-score', 'Precision','Accuracy'], bbox_to_anchor=(1, 0.8), loc='center left')\n",
    "pyplot.show()"
   ]
  },
  {
   "cell_type": "markdown",
   "metadata": {},
   "source": [
    "From the above combination of Line chart and bar chart visualizations for the Classifiers evaluation metrics, it is observed that the accuracy and f-score of all the models trained and tested on the dataset 1 are almost the same with a minor difference of about 1-2%, where Logisitic regression has the highest F-score and accuracy.<br>Whereas, in terms of precision of the Logistic Regression it is a bit higher than the other models by 4-5%.<br>In this context of Classification Model training on customer reviews for businesses, I believe the important factor for selection of model should be focusing on the correct classification Negative reviews. Any business usually is customer centric and the feedback of the customer is an important aspect to improve the business. A customer that has a negative review about a business can be approached by the business owner and his/her discrepancies about the reviews can be cleared. The business owners can reach out to the customers with negative reviews for details on improvement, following up with those customers and hence not loose a customer."
   ]
  },
  {
   "cell_type": "markdown",
   "metadata": {},
   "source": [
    "Therefore, I believe correct classification of negative reviews may be considered important.<br> With regards to the Classification Model selection, it is important to select a model that has **less False Positives**.<br>\n",
    "A model that has fairly less **False Positive Rate**, i.e a negative review should not be classified as positive, as this may lead to missout on the looking for actual negative customer reviews."
   ]
  },
  {
   "cell_type": "markdown",
   "metadata": {},
   "source": [
    "#### The below bar chart compares the True Positive rates(TP-rate) and False Positive rates(FP-rate) for each of the Classifier Models"
   ]
  },
  {
   "cell_type": "code",
   "execution_count": 76,
   "metadata": {},
   "outputs": [],
   "source": [
    "def tp_rate_chart(classifierEvaluation, xlab):\n",
    "    tp_rate  = classifierEvaluation[\"true positives\"] / (classifierEvaluation[\"false negatives\"] \n",
    "                                                            + classifierEvaluation[\"true positives\"])\n",
    "    pyplot.bar(classifierEvaluation.index, tp_rate * 100)\n",
    "    pyplot.title(\"(TP-rate) Sensitivity of the model\")\n",
    "    pyplot.xlabel(xlab)\n",
    "    pyplot.ylabel(\"True Positive Rate\")\n",
    "    pyplot.show()"
   ]
  },
  {
   "cell_type": "code",
   "execution_count": 77,
   "metadata": {},
   "outputs": [
    {
     "data": {
      "image/png": "[encoded data removed]",
      "text/plain": [
       "<Figure size 432x288 with 1 Axes>"
      ]
     },
     "metadata": {
      "needs_background": "light"
     },
     "output_type": "display_data"
    }
   ],
   "source": [
    "tp_rate_chart(classifierEvaluation, \"Classifier\")"
   ]
  },
  {
   "cell_type": "code",
   "execution_count": 78,
   "metadata": {},
   "outputs": [],
   "source": [
    "def fp_rate_chart(classifierEvaluation, xlab):\n",
    "    fp_rate  = classifierEvaluation[\"false positives\"] / (classifierEvaluation[\"false positives\"] \n",
    "                                                            + classifierEvaluation[\"true negatives\"])\n",
    "    pyplot.bar(classifierEvaluation.index, fp_rate * 100)\n",
    "    pyplot.title(\"False Positives Rate of the model\")\n",
    "    pyplot.xlabel(xlab)\n",
    "    pyplot.ylabel(\"False Positive Rate\")\n",
    "    pyplot.show()"
   ]
  },
  {
   "cell_type": "code",
   "execution_count": 79,
   "metadata": {},
   "outputs": [
    {
     "data": {
      "image/png": "[encoded data removed]",
      "text/plain": [
       "<Figure size 432x288 with 1 Axes>"
      ]
     },
     "metadata": {
      "needs_background": "light"
     },
     "output_type": "display_data"
    }
   ],
   "source": [
    "fp_rate_chart(classifierEvaluation, \"Classifier\")"
   ]
  },
  {
   "cell_type": "markdown",
   "metadata": {},
   "source": [
    "From the above two charts for the TP-rate and FP-rate of the classifiers, it is observed that the TP-rate of all the classifiers is almost similar, though the logistic regression model has a bit less(about 1%) than others. But, true positives are those which are actual positive reviews and classified as postive.<br>\n",
    "However, from ***the FP-rate graph for each model, it can be observed that the FP-rate of Logistic Regression is significantly less than other two classifiers.***<br>\n",
    "**The Logistic Regression classifier has a bit higher accuracy, fscore, precision than other classifiers.**\n",
    "<br>\n",
    "A model that has high TP rate and low FP rate would be an ideal model in this scenario.<br>\n",
    "**As discussed above, in classification of the customer reviews, we need to focus on reducing false positives while also considering other metrics like accuracy, precision, f-score.**<br>\n",
    "\n",
    "Therefore, I will be using a Logistic Regression Model for classification of the reviews by training and testing on different customer review datasets."
   ]
  },
  {
   "cell_type": "markdown",
   "metadata": {},
   "source": [
    "### Text Review Analysis for Dataset 2- Hotels with Logistic Regression Model Trained on Dataset 1"
   ]
  },
  {
   "cell_type": "markdown",
   "metadata": {},
   "source": [
    "#### Testing Logistic Regression Model on Dataset 2, Model trained on Dataset 1"
   ]
  },
  {
   "cell_type": "code",
   "execution_count": 80,
   "metadata": {
    "scrolled": true
   },
   "outputs": [
    {
     "data": {
      "image/png": "[encoded data removed]",
      "text/plain": [
       "<Figure size 432x288 with 1 Axes>"
      ]
     },
     "metadata": {
      "needs_background": "light"
     },
     "output_type": "display_data"
    }
   ],
   "source": [
    "histogram_reviewLength(dataset2)"
   ]
  },
  {
   "cell_type": "code",
   "execution_count": 81,
   "metadata": {},
   "outputs": [
    {
     "data": {
      "image/png": "[encoded data removed]",
      "text/plain": [
       "<Figure size 432x288 with 1 Axes>"
      ]
     },
     "metadata": {
      "needs_background": "light"
     },
     "output_type": "display_data"
    }
   ],
   "source": [
    "histogram_punctuations(dataset2)"
   ]
  },
  {
   "cell_type": "markdown",
   "metadata": {},
   "source": [
    "Both the histograms from the dataset depict that more number of positive reviews tend to be longer, though the punctuation percentage seems to be almost same for both type of reviews"
   ]
  },
  {
   "cell_type": "code",
   "execution_count": 82,
   "metadata": {},
   "outputs": [],
   "source": [
    "X_features = review_Vectorization(dataset2)\n",
    "## Saving the computed vectorized features considering future use for training\n",
    "X_features_2 = X_features.copy()"
   ]
  },
  {
   "cell_type": "code",
   "execution_count": 83,
   "metadata": {
    "scrolled": true
   },
   "outputs": [
    {
     "data": {
      "text/html": [
       "<div>\n",
       "<style scoped>\n",
       "    .dataframe tbody tr th:only-of-type {\n",
       "        vertical-align: middle;\n",
       "    }\n",
       "\n",
       "    .dataframe tbody tr th {\n",
       "        vertical-align: top;\n",
       "    }\n",
       "\n",
       "    .dataframe thead th {\n",
       "        text-align: right;\n",
       "    }\n",
       "</style>\n",
       "<table border=\"1\" class=\"dataframe\">\n",
       "  <thead>\n",
       "    <tr style=\"text-align: right;\">\n",
       "      <th></th>\n",
       "      <th>review_len</th>\n",
       "      <th>punctuations</th>\n",
       "      <th>0</th>\n",
       "      <th>1</th>\n",
       "      <th>2</th>\n",
       "      <th>3</th>\n",
       "      <th>4</th>\n",
       "      <th>5</th>\n",
       "      <th>6</th>\n",
       "      <th>7</th>\n",
       "      <th>...</th>\n",
       "      <th>2340</th>\n",
       "      <th>2341</th>\n",
       "      <th>2342</th>\n",
       "      <th>2343</th>\n",
       "      <th>2344</th>\n",
       "      <th>2345</th>\n",
       "      <th>2346</th>\n",
       "      <th>2347</th>\n",
       "      <th>2348</th>\n",
       "      <th>2349</th>\n",
       "    </tr>\n",
       "  </thead>\n",
       "  <tbody>\n",
       "    <tr>\n",
       "      <th>0</th>\n",
       "      <td>363</td>\n",
       "      <td>2.8</td>\n",
       "      <td>0.0</td>\n",
       "      <td>0.0</td>\n",
       "      <td>0.0</td>\n",
       "      <td>0.0</td>\n",
       "      <td>0.0</td>\n",
       "      <td>0.0</td>\n",
       "      <td>0.0</td>\n",
       "      <td>0.0</td>\n",
       "      <td>...</td>\n",
       "      <td>0.0</td>\n",
       "      <td>0.0</td>\n",
       "      <td>0.0</td>\n",
       "      <td>0.0</td>\n",
       "      <td>0.0</td>\n",
       "      <td>0.0</td>\n",
       "      <td>0.0</td>\n",
       "      <td>0.0</td>\n",
       "      <td>0.0</td>\n",
       "      <td>0.0</td>\n",
       "    </tr>\n",
       "    <tr>\n",
       "      <th>1</th>\n",
       "      <td>380</td>\n",
       "      <td>3.9</td>\n",
       "      <td>0.0</td>\n",
       "      <td>0.0</td>\n",
       "      <td>0.0</td>\n",
       "      <td>0.0</td>\n",
       "      <td>0.0</td>\n",
       "      <td>0.0</td>\n",
       "      <td>0.0</td>\n",
       "      <td>0.0</td>\n",
       "      <td>...</td>\n",
       "      <td>0.0</td>\n",
       "      <td>0.0</td>\n",
       "      <td>0.0</td>\n",
       "      <td>0.0</td>\n",
       "      <td>0.0</td>\n",
       "      <td>0.0</td>\n",
       "      <td>0.0</td>\n",
       "      <td>0.0</td>\n",
       "      <td>0.0</td>\n",
       "      <td>0.0</td>\n",
       "    </tr>\n",
       "    <tr>\n",
       "      <th>2</th>\n",
       "      <td>464</td>\n",
       "      <td>3.2</td>\n",
       "      <td>0.0</td>\n",
       "      <td>0.0</td>\n",
       "      <td>0.0</td>\n",
       "      <td>0.0</td>\n",
       "      <td>0.0</td>\n",
       "      <td>0.0</td>\n",
       "      <td>0.0</td>\n",
       "      <td>0.0</td>\n",
       "      <td>...</td>\n",
       "      <td>0.0</td>\n",
       "      <td>0.0</td>\n",
       "      <td>0.0</td>\n",
       "      <td>0.0</td>\n",
       "      <td>0.0</td>\n",
       "      <td>0.0</td>\n",
       "      <td>0.0</td>\n",
       "      <td>0.0</td>\n",
       "      <td>0.0</td>\n",
       "      <td>0.0</td>\n",
       "    </tr>\n",
       "    <tr>\n",
       "      <th>3</th>\n",
       "      <td>360</td>\n",
       "      <td>3.3</td>\n",
       "      <td>0.0</td>\n",
       "      <td>0.0</td>\n",
       "      <td>0.0</td>\n",
       "      <td>0.0</td>\n",
       "      <td>0.0</td>\n",
       "      <td>0.0</td>\n",
       "      <td>0.0</td>\n",
       "      <td>0.0</td>\n",
       "      <td>...</td>\n",
       "      <td>0.0</td>\n",
       "      <td>0.0</td>\n",
       "      <td>0.0</td>\n",
       "      <td>0.0</td>\n",
       "      <td>0.0</td>\n",
       "      <td>0.0</td>\n",
       "      <td>0.0</td>\n",
       "      <td>0.0</td>\n",
       "      <td>0.0</td>\n",
       "      <td>0.0</td>\n",
       "    </tr>\n",
       "    <tr>\n",
       "      <th>4</th>\n",
       "      <td>645</td>\n",
       "      <td>2.5</td>\n",
       "      <td>0.0</td>\n",
       "      <td>0.0</td>\n",
       "      <td>0.0</td>\n",
       "      <td>0.0</td>\n",
       "      <td>0.0</td>\n",
       "      <td>0.0</td>\n",
       "      <td>0.0</td>\n",
       "      <td>0.0</td>\n",
       "      <td>...</td>\n",
       "      <td>0.0</td>\n",
       "      <td>0.0</td>\n",
       "      <td>0.0</td>\n",
       "      <td>0.0</td>\n",
       "      <td>0.0</td>\n",
       "      <td>0.0</td>\n",
       "      <td>0.0</td>\n",
       "      <td>0.0</td>\n",
       "      <td>0.0</td>\n",
       "      <td>0.0</td>\n",
       "    </tr>\n",
       "  </tbody>\n",
       "</table>\n",
       "<p>5 rows × 2352 columns</p>\n",
       "</div>"
      ],
      "text/plain": [
       "   review_len  punctuations    0    1    2    3    4    5    6    7  ...  \\\n",
       "0         363           2.8  0.0  0.0  0.0  0.0  0.0  0.0  0.0  0.0  ...   \n",
       "1         380           3.9  0.0  0.0  0.0  0.0  0.0  0.0  0.0  0.0  ...   \n",
       "2         464           3.2  0.0  0.0  0.0  0.0  0.0  0.0  0.0  0.0  ...   \n",
       "3         360           3.3  0.0  0.0  0.0  0.0  0.0  0.0  0.0  0.0  ...   \n",
       "4         645           2.5  0.0  0.0  0.0  0.0  0.0  0.0  0.0  0.0  ...   \n",
       "\n",
       "   2340  2341  2342  2343  2344  2345  2346  2347  2348  2349  \n",
       "0   0.0   0.0   0.0   0.0   0.0   0.0   0.0   0.0   0.0   0.0  \n",
       "1   0.0   0.0   0.0   0.0   0.0   0.0   0.0   0.0   0.0   0.0  \n",
       "2   0.0   0.0   0.0   0.0   0.0   0.0   0.0   0.0   0.0   0.0  \n",
       "3   0.0   0.0   0.0   0.0   0.0   0.0   0.0   0.0   0.0   0.0  \n",
       "4   0.0   0.0   0.0   0.0   0.0   0.0   0.0   0.0   0.0   0.0  \n",
       "\n",
       "[5 rows x 2352 columns]"
      ]
     },
     "execution_count": 83,
     "metadata": {},
     "output_type": "execute_result"
    }
   ],
   "source": [
    "X_features.head()"
   ]
  },
  {
   "cell_type": "code",
   "execution_count": 84,
   "metadata": {},
   "outputs": [],
   "source": [
    "_normalize_length_punct()"
   ]
  },
  {
   "cell_type": "code",
   "execution_count": 85,
   "metadata": {},
   "outputs": [
    {
     "data": {
      "text/html": [
       "<div>\n",
       "<style scoped>\n",
       "    .dataframe tbody tr th:only-of-type {\n",
       "        vertical-align: middle;\n",
       "    }\n",
       "\n",
       "    .dataframe tbody tr th {\n",
       "        vertical-align: top;\n",
       "    }\n",
       "\n",
       "    .dataframe thead th {\n",
       "        text-align: right;\n",
       "    }\n",
       "</style>\n",
       "<table border=\"1\" class=\"dataframe\">\n",
       "  <thead>\n",
       "    <tr style=\"text-align: right;\">\n",
       "      <th></th>\n",
       "      <th>review_len</th>\n",
       "      <th>punctuations</th>\n",
       "      <th>0</th>\n",
       "      <th>1</th>\n",
       "      <th>2</th>\n",
       "      <th>3</th>\n",
       "      <th>4</th>\n",
       "      <th>5</th>\n",
       "      <th>6</th>\n",
       "      <th>7</th>\n",
       "      <th>...</th>\n",
       "      <th>2340</th>\n",
       "      <th>2341</th>\n",
       "      <th>2342</th>\n",
       "      <th>2343</th>\n",
       "      <th>2344</th>\n",
       "      <th>2345</th>\n",
       "      <th>2346</th>\n",
       "      <th>2347</th>\n",
       "      <th>2348</th>\n",
       "      <th>2349</th>\n",
       "    </tr>\n",
       "  </thead>\n",
       "  <tbody>\n",
       "    <tr>\n",
       "      <th>0</th>\n",
       "      <td>0.068153</td>\n",
       "      <td>0.198582</td>\n",
       "      <td>0.0</td>\n",
       "      <td>0.0</td>\n",
       "      <td>0.0</td>\n",
       "      <td>0.0</td>\n",
       "      <td>0.0</td>\n",
       "      <td>0.0</td>\n",
       "      <td>0.0</td>\n",
       "      <td>0.0</td>\n",
       "      <td>...</td>\n",
       "      <td>0.0</td>\n",
       "      <td>0.0</td>\n",
       "      <td>0.0</td>\n",
       "      <td>0.0</td>\n",
       "      <td>0.0</td>\n",
       "      <td>0.0</td>\n",
       "      <td>0.0</td>\n",
       "      <td>0.0</td>\n",
       "      <td>0.0</td>\n",
       "      <td>0.0</td>\n",
       "    </tr>\n",
       "    <tr>\n",
       "      <th>1</th>\n",
       "      <td>0.072508</td>\n",
       "      <td>0.276596</td>\n",
       "      <td>0.0</td>\n",
       "      <td>0.0</td>\n",
       "      <td>0.0</td>\n",
       "      <td>0.0</td>\n",
       "      <td>0.0</td>\n",
       "      <td>0.0</td>\n",
       "      <td>0.0</td>\n",
       "      <td>0.0</td>\n",
       "      <td>...</td>\n",
       "      <td>0.0</td>\n",
       "      <td>0.0</td>\n",
       "      <td>0.0</td>\n",
       "      <td>0.0</td>\n",
       "      <td>0.0</td>\n",
       "      <td>0.0</td>\n",
       "      <td>0.0</td>\n",
       "      <td>0.0</td>\n",
       "      <td>0.0</td>\n",
       "      <td>0.0</td>\n",
       "    </tr>\n",
       "    <tr>\n",
       "      <th>2</th>\n",
       "      <td>0.094030</td>\n",
       "      <td>0.226950</td>\n",
       "      <td>0.0</td>\n",
       "      <td>0.0</td>\n",
       "      <td>0.0</td>\n",
       "      <td>0.0</td>\n",
       "      <td>0.0</td>\n",
       "      <td>0.0</td>\n",
       "      <td>0.0</td>\n",
       "      <td>0.0</td>\n",
       "      <td>...</td>\n",
       "      <td>0.0</td>\n",
       "      <td>0.0</td>\n",
       "      <td>0.0</td>\n",
       "      <td>0.0</td>\n",
       "      <td>0.0</td>\n",
       "      <td>0.0</td>\n",
       "      <td>0.0</td>\n",
       "      <td>0.0</td>\n",
       "      <td>0.0</td>\n",
       "      <td>0.0</td>\n",
       "    </tr>\n",
       "    <tr>\n",
       "      <th>3</th>\n",
       "      <td>0.067384</td>\n",
       "      <td>0.234043</td>\n",
       "      <td>0.0</td>\n",
       "      <td>0.0</td>\n",
       "      <td>0.0</td>\n",
       "      <td>0.0</td>\n",
       "      <td>0.0</td>\n",
       "      <td>0.0</td>\n",
       "      <td>0.0</td>\n",
       "      <td>0.0</td>\n",
       "      <td>...</td>\n",
       "      <td>0.0</td>\n",
       "      <td>0.0</td>\n",
       "      <td>0.0</td>\n",
       "      <td>0.0</td>\n",
       "      <td>0.0</td>\n",
       "      <td>0.0</td>\n",
       "      <td>0.0</td>\n",
       "      <td>0.0</td>\n",
       "      <td>0.0</td>\n",
       "      <td>0.0</td>\n",
       "    </tr>\n",
       "    <tr>\n",
       "      <th>4</th>\n",
       "      <td>0.140405</td>\n",
       "      <td>0.177305</td>\n",
       "      <td>0.0</td>\n",
       "      <td>0.0</td>\n",
       "      <td>0.0</td>\n",
       "      <td>0.0</td>\n",
       "      <td>0.0</td>\n",
       "      <td>0.0</td>\n",
       "      <td>0.0</td>\n",
       "      <td>0.0</td>\n",
       "      <td>...</td>\n",
       "      <td>0.0</td>\n",
       "      <td>0.0</td>\n",
       "      <td>0.0</td>\n",
       "      <td>0.0</td>\n",
       "      <td>0.0</td>\n",
       "      <td>0.0</td>\n",
       "      <td>0.0</td>\n",
       "      <td>0.0</td>\n",
       "      <td>0.0</td>\n",
       "      <td>0.0</td>\n",
       "    </tr>\n",
       "  </tbody>\n",
       "</table>\n",
       "<p>5 rows × 2352 columns</p>\n",
       "</div>"
      ],
      "text/plain": [
       "   review_len  punctuations    0    1    2    3    4    5    6    7  ...  \\\n",
       "0    0.068153      0.198582  0.0  0.0  0.0  0.0  0.0  0.0  0.0  0.0  ...   \n",
       "1    0.072508      0.276596  0.0  0.0  0.0  0.0  0.0  0.0  0.0  0.0  ...   \n",
       "2    0.094030      0.226950  0.0  0.0  0.0  0.0  0.0  0.0  0.0  0.0  ...   \n",
       "3    0.067384      0.234043  0.0  0.0  0.0  0.0  0.0  0.0  0.0  0.0  ...   \n",
       "4    0.140405      0.177305  0.0  0.0  0.0  0.0  0.0  0.0  0.0  0.0  ...   \n",
       "\n",
       "   2340  2341  2342  2343  2344  2345  2346  2347  2348  2349  \n",
       "0   0.0   0.0   0.0   0.0   0.0   0.0   0.0   0.0   0.0   0.0  \n",
       "1   0.0   0.0   0.0   0.0   0.0   0.0   0.0   0.0   0.0   0.0  \n",
       "2   0.0   0.0   0.0   0.0   0.0   0.0   0.0   0.0   0.0   0.0  \n",
       "3   0.0   0.0   0.0   0.0   0.0   0.0   0.0   0.0   0.0   0.0  \n",
       "4   0.0   0.0   0.0   0.0   0.0   0.0   0.0   0.0   0.0   0.0  \n",
       "\n",
       "[5 rows x 2352 columns]"
      ]
     },
     "execution_count": 85,
     "metadata": {},
     "output_type": "execute_result"
    }
   ],
   "source": [
    "X_features.head()"
   ]
  },
  {
   "cell_type": "code",
   "execution_count": 86,
   "metadata": {},
   "outputs": [],
   "source": [
    "y = dataset2['rating_type'].values"
   ]
  },
  {
   "cell_type": "markdown",
   "metadata": {},
   "source": [
    "Setting the entire X_features and y of Dataset-2 Hotels as X_test, and y_test for the Logistic Regression model trained on Dataset 1"
   ]
  },
  {
   "cell_type": "code",
   "execution_count": 87,
   "metadata": {},
   "outputs": [],
   "source": [
    "y\n",
    "y_test=y\n",
    "X_test=X_features"
   ]
  },
  {
   "cell_type": "code",
   "execution_count": 88,
   "metadata": {},
   "outputs": [
    {
     "name": "stdout",
     "output_type": "stream",
     "text": [
      "------------ Logistic Regression Classifier Performance Metrics ------------\n",
      "F-score: 71.5 \n",
      "Precision: 59.5 \n",
      "Recall: 89.60000000000001 \n",
      "Accuracy: 57.99999999999999 \n"
     ]
    }
   ],
   "source": [
    "logRegMetrics_2 = evaluate_LogReg(logReg_Model, X_test, y_test)"
   ]
  },
  {
   "cell_type": "code",
   "execution_count": 89,
   "metadata": {},
   "outputs": [
    {
     "name": "stdout",
     "output_type": "stream",
     "text": [
      "The average accuracy of the model on 5-fold cross validation is: 85.2\n"
     ]
    }
   ],
   "source": [
    "cv_score_mean(logReg_Model,X_test,y_test)"
   ]
  },
  {
   "cell_type": "markdown",
   "metadata": {},
   "source": [
    "### Text Review Analysis for Dataset 3- Restaurants with Logistic Regression Model Trained on Dataset 1"
   ]
  },
  {
   "cell_type": "markdown",
   "metadata": {},
   "source": [
    "#### Testing Logistic Regression Model on Dataset 3, Model trained on Dataset 1"
   ]
  },
  {
   "cell_type": "code",
   "execution_count": 90,
   "metadata": {},
   "outputs": [
    {
     "data": {
      "image/png": "[encoded data removed]",
      "text/plain": [
       "<Figure size 432x288 with 1 Axes>"
      ]
     },
     "metadata": {
      "needs_background": "light"
     },
     "output_type": "display_data"
    }
   ],
   "source": [
    "histogram_reviewLength(dataset3)"
   ]
  },
  {
   "cell_type": "code",
   "execution_count": 91,
   "metadata": {},
   "outputs": [
    {
     "data": {
      "image/png": "[encoded data removed]",
      "text/plain": [
       "<Figure size 432x288 with 1 Axes>"
      ]
     },
     "metadata": {
      "needs_background": "light"
     },
     "output_type": "display_data"
    }
   ],
   "source": [
    "histogram_punctuations(dataset3)"
   ]
  },
  {
   "cell_type": "markdown",
   "metadata": {},
   "source": [
    "From the above two histograms, it can be clearly found that there is a significant difference in the number of positive reviews that are lengthy and negative reviews that are lengthy. Also the difference in the number of reviews for percentage of punctuations is considerable.\n",
    "These two features can play an important part in training a model on this dataset in the last part of this project."
   ]
  },
  {
   "cell_type": "code",
   "execution_count": 92,
   "metadata": {},
   "outputs": [],
   "source": [
    "X_features = review_Vectorization(dataset3)\n",
    "## Saving the computed vectorized features considering future use for training\n",
    "X_features_3 = X_features.copy()"
   ]
  },
  {
   "cell_type": "code",
   "execution_count": 93,
   "metadata": {},
   "outputs": [
    {
     "data": {
      "text/html": [
       "<div>\n",
       "<style scoped>\n",
       "    .dataframe tbody tr th:only-of-type {\n",
       "        vertical-align: middle;\n",
       "    }\n",
       "\n",
       "    .dataframe tbody tr th {\n",
       "        vertical-align: top;\n",
       "    }\n",
       "\n",
       "    .dataframe thead th {\n",
       "        text-align: right;\n",
       "    }\n",
       "</style>\n",
       "<table border=\"1\" class=\"dataframe\">\n",
       "  <thead>\n",
       "    <tr style=\"text-align: right;\">\n",
       "      <th></th>\n",
       "      <th>review_len</th>\n",
       "      <th>punctuations</th>\n",
       "      <th>0</th>\n",
       "      <th>1</th>\n",
       "      <th>2</th>\n",
       "      <th>3</th>\n",
       "      <th>4</th>\n",
       "      <th>5</th>\n",
       "      <th>6</th>\n",
       "      <th>7</th>\n",
       "      <th>...</th>\n",
       "      <th>2340</th>\n",
       "      <th>2341</th>\n",
       "      <th>2342</th>\n",
       "      <th>2343</th>\n",
       "      <th>2344</th>\n",
       "      <th>2345</th>\n",
       "      <th>2346</th>\n",
       "      <th>2347</th>\n",
       "      <th>2348</th>\n",
       "      <th>2349</th>\n",
       "    </tr>\n",
       "  </thead>\n",
       "  <tbody>\n",
       "    <tr>\n",
       "      <th>0</th>\n",
       "      <td>1106</td>\n",
       "      <td>4.2</td>\n",
       "      <td>0.0</td>\n",
       "      <td>0.0</td>\n",
       "      <td>0.0</td>\n",
       "      <td>0.0</td>\n",
       "      <td>0.069229</td>\n",
       "      <td>0.0</td>\n",
       "      <td>0.0</td>\n",
       "      <td>0.0</td>\n",
       "      <td>...</td>\n",
       "      <td>0.0</td>\n",
       "      <td>0.0</td>\n",
       "      <td>0.0</td>\n",
       "      <td>0.0</td>\n",
       "      <td>0.0</td>\n",
       "      <td>0.0</td>\n",
       "      <td>0.0</td>\n",
       "      <td>0.0</td>\n",
       "      <td>0.0</td>\n",
       "      <td>0.0</td>\n",
       "    </tr>\n",
       "    <tr>\n",
       "      <th>1</th>\n",
       "      <td>490</td>\n",
       "      <td>3.9</td>\n",
       "      <td>0.0</td>\n",
       "      <td>0.0</td>\n",
       "      <td>0.0</td>\n",
       "      <td>0.0</td>\n",
       "      <td>0.000000</td>\n",
       "      <td>0.0</td>\n",
       "      <td>0.0</td>\n",
       "      <td>0.0</td>\n",
       "      <td>...</td>\n",
       "      <td>0.0</td>\n",
       "      <td>0.0</td>\n",
       "      <td>0.0</td>\n",
       "      <td>0.0</td>\n",
       "      <td>0.0</td>\n",
       "      <td>0.0</td>\n",
       "      <td>0.0</td>\n",
       "      <td>0.0</td>\n",
       "      <td>0.0</td>\n",
       "      <td>0.0</td>\n",
       "    </tr>\n",
       "    <tr>\n",
       "      <th>2</th>\n",
       "      <td>318</td>\n",
       "      <td>3.1</td>\n",
       "      <td>0.0</td>\n",
       "      <td>0.0</td>\n",
       "      <td>0.0</td>\n",
       "      <td>0.0</td>\n",
       "      <td>0.000000</td>\n",
       "      <td>0.0</td>\n",
       "      <td>0.0</td>\n",
       "      <td>0.0</td>\n",
       "      <td>...</td>\n",
       "      <td>0.0</td>\n",
       "      <td>0.0</td>\n",
       "      <td>0.0</td>\n",
       "      <td>0.0</td>\n",
       "      <td>0.0</td>\n",
       "      <td>0.0</td>\n",
       "      <td>0.0</td>\n",
       "      <td>0.0</td>\n",
       "      <td>0.0</td>\n",
       "      <td>0.0</td>\n",
       "    </tr>\n",
       "    <tr>\n",
       "      <th>3</th>\n",
       "      <td>273</td>\n",
       "      <td>3.3</td>\n",
       "      <td>0.0</td>\n",
       "      <td>0.0</td>\n",
       "      <td>0.0</td>\n",
       "      <td>0.0</td>\n",
       "      <td>0.000000</td>\n",
       "      <td>0.0</td>\n",
       "      <td>0.0</td>\n",
       "      <td>0.0</td>\n",
       "      <td>...</td>\n",
       "      <td>0.0</td>\n",
       "      <td>0.0</td>\n",
       "      <td>0.0</td>\n",
       "      <td>0.0</td>\n",
       "      <td>0.0</td>\n",
       "      <td>0.0</td>\n",
       "      <td>0.0</td>\n",
       "      <td>0.0</td>\n",
       "      <td>0.0</td>\n",
       "      <td>0.0</td>\n",
       "    </tr>\n",
       "    <tr>\n",
       "      <th>4</th>\n",
       "      <td>185</td>\n",
       "      <td>7.0</td>\n",
       "      <td>0.0</td>\n",
       "      <td>0.0</td>\n",
       "      <td>0.0</td>\n",
       "      <td>0.0</td>\n",
       "      <td>0.000000</td>\n",
       "      <td>0.0</td>\n",
       "      <td>0.0</td>\n",
       "      <td>0.0</td>\n",
       "      <td>...</td>\n",
       "      <td>0.0</td>\n",
       "      <td>0.0</td>\n",
       "      <td>0.0</td>\n",
       "      <td>0.0</td>\n",
       "      <td>0.0</td>\n",
       "      <td>0.0</td>\n",
       "      <td>0.0</td>\n",
       "      <td>0.0</td>\n",
       "      <td>0.0</td>\n",
       "      <td>0.0</td>\n",
       "    </tr>\n",
       "  </tbody>\n",
       "</table>\n",
       "<p>5 rows × 2352 columns</p>\n",
       "</div>"
      ],
      "text/plain": [
       "   review_len  punctuations    0    1    2    3         4    5    6    7  ...  \\\n",
       "0        1106           4.2  0.0  0.0  0.0  0.0  0.069229  0.0  0.0  0.0  ...   \n",
       "1         490           3.9  0.0  0.0  0.0  0.0  0.000000  0.0  0.0  0.0  ...   \n",
       "2         318           3.1  0.0  0.0  0.0  0.0  0.000000  0.0  0.0  0.0  ...   \n",
       "3         273           3.3  0.0  0.0  0.0  0.0  0.000000  0.0  0.0  0.0  ...   \n",
       "4         185           7.0  0.0  0.0  0.0  0.0  0.000000  0.0  0.0  0.0  ...   \n",
       "\n",
       "   2340  2341  2342  2343  2344  2345  2346  2347  2348  2349  \n",
       "0   0.0   0.0   0.0   0.0   0.0   0.0   0.0   0.0   0.0   0.0  \n",
       "1   0.0   0.0   0.0   0.0   0.0   0.0   0.0   0.0   0.0   0.0  \n",
       "2   0.0   0.0   0.0   0.0   0.0   0.0   0.0   0.0   0.0   0.0  \n",
       "3   0.0   0.0   0.0   0.0   0.0   0.0   0.0   0.0   0.0   0.0  \n",
       "4   0.0   0.0   0.0   0.0   0.0   0.0   0.0   0.0   0.0   0.0  \n",
       "\n",
       "[5 rows x 2352 columns]"
      ]
     },
     "execution_count": 93,
     "metadata": {},
     "output_type": "execute_result"
    }
   ],
   "source": [
    "X_features.head()"
   ]
  },
  {
   "cell_type": "code",
   "execution_count": 94,
   "metadata": {},
   "outputs": [],
   "source": [
    "_normalize_length_punct()"
   ]
  },
  {
   "cell_type": "code",
   "execution_count": 95,
   "metadata": {},
   "outputs": [
    {
     "data": {
      "text/html": [
       "<div>\n",
       "<style scoped>\n",
       "    .dataframe tbody tr th:only-of-type {\n",
       "        vertical-align: middle;\n",
       "    }\n",
       "\n",
       "    .dataframe tbody tr th {\n",
       "        vertical-align: top;\n",
       "    }\n",
       "\n",
       "    .dataframe thead th {\n",
       "        text-align: right;\n",
       "    }\n",
       "</style>\n",
       "<table border=\"1\" class=\"dataframe\">\n",
       "  <thead>\n",
       "    <tr style=\"text-align: right;\">\n",
       "      <th></th>\n",
       "      <th>review_len</th>\n",
       "      <th>punctuations</th>\n",
       "      <th>0</th>\n",
       "      <th>1</th>\n",
       "      <th>2</th>\n",
       "      <th>3</th>\n",
       "      <th>4</th>\n",
       "      <th>5</th>\n",
       "      <th>6</th>\n",
       "      <th>7</th>\n",
       "      <th>...</th>\n",
       "      <th>2340</th>\n",
       "      <th>2341</th>\n",
       "      <th>2342</th>\n",
       "      <th>2343</th>\n",
       "      <th>2344</th>\n",
       "      <th>2345</th>\n",
       "      <th>2346</th>\n",
       "      <th>2347</th>\n",
       "      <th>2348</th>\n",
       "      <th>2349</th>\n",
       "    </tr>\n",
       "  </thead>\n",
       "  <tbody>\n",
       "    <tr>\n",
       "      <th>0</th>\n",
       "      <td>0.254395</td>\n",
       "      <td>0.291667</td>\n",
       "      <td>0.0</td>\n",
       "      <td>0.0</td>\n",
       "      <td>0.0</td>\n",
       "      <td>0.0</td>\n",
       "      <td>0.069229</td>\n",
       "      <td>0.0</td>\n",
       "      <td>0.0</td>\n",
       "      <td>0.0</td>\n",
       "      <td>...</td>\n",
       "      <td>0.0</td>\n",
       "      <td>0.0</td>\n",
       "      <td>0.0</td>\n",
       "      <td>0.0</td>\n",
       "      <td>0.0</td>\n",
       "      <td>0.0</td>\n",
       "      <td>0.0</td>\n",
       "      <td>0.0</td>\n",
       "      <td>0.0</td>\n",
       "      <td>0.0</td>\n",
       "    </tr>\n",
       "    <tr>\n",
       "      <th>1</th>\n",
       "      <td>0.099699</td>\n",
       "      <td>0.270833</td>\n",
       "      <td>0.0</td>\n",
       "      <td>0.0</td>\n",
       "      <td>0.0</td>\n",
       "      <td>0.0</td>\n",
       "      <td>0.000000</td>\n",
       "      <td>0.0</td>\n",
       "      <td>0.0</td>\n",
       "      <td>0.0</td>\n",
       "      <td>...</td>\n",
       "      <td>0.0</td>\n",
       "      <td>0.0</td>\n",
       "      <td>0.0</td>\n",
       "      <td>0.0</td>\n",
       "      <td>0.0</td>\n",
       "      <td>0.0</td>\n",
       "      <td>0.0</td>\n",
       "      <td>0.0</td>\n",
       "      <td>0.0</td>\n",
       "      <td>0.0</td>\n",
       "    </tr>\n",
       "    <tr>\n",
       "      <th>2</th>\n",
       "      <td>0.056504</td>\n",
       "      <td>0.215278</td>\n",
       "      <td>0.0</td>\n",
       "      <td>0.0</td>\n",
       "      <td>0.0</td>\n",
       "      <td>0.0</td>\n",
       "      <td>0.000000</td>\n",
       "      <td>0.0</td>\n",
       "      <td>0.0</td>\n",
       "      <td>0.0</td>\n",
       "      <td>...</td>\n",
       "      <td>0.0</td>\n",
       "      <td>0.0</td>\n",
       "      <td>0.0</td>\n",
       "      <td>0.0</td>\n",
       "      <td>0.0</td>\n",
       "      <td>0.0</td>\n",
       "      <td>0.0</td>\n",
       "      <td>0.0</td>\n",
       "      <td>0.0</td>\n",
       "      <td>0.0</td>\n",
       "    </tr>\n",
       "    <tr>\n",
       "      <th>3</th>\n",
       "      <td>0.045203</td>\n",
       "      <td>0.229167</td>\n",
       "      <td>0.0</td>\n",
       "      <td>0.0</td>\n",
       "      <td>0.0</td>\n",
       "      <td>0.0</td>\n",
       "      <td>0.000000</td>\n",
       "      <td>0.0</td>\n",
       "      <td>0.0</td>\n",
       "      <td>0.0</td>\n",
       "      <td>...</td>\n",
       "      <td>0.0</td>\n",
       "      <td>0.0</td>\n",
       "      <td>0.0</td>\n",
       "      <td>0.0</td>\n",
       "      <td>0.0</td>\n",
       "      <td>0.0</td>\n",
       "      <td>0.0</td>\n",
       "      <td>0.0</td>\n",
       "      <td>0.0</td>\n",
       "      <td>0.0</td>\n",
       "    </tr>\n",
       "    <tr>\n",
       "      <th>4</th>\n",
       "      <td>0.023104</td>\n",
       "      <td>0.486111</td>\n",
       "      <td>0.0</td>\n",
       "      <td>0.0</td>\n",
       "      <td>0.0</td>\n",
       "      <td>0.0</td>\n",
       "      <td>0.000000</td>\n",
       "      <td>0.0</td>\n",
       "      <td>0.0</td>\n",
       "      <td>0.0</td>\n",
       "      <td>...</td>\n",
       "      <td>0.0</td>\n",
       "      <td>0.0</td>\n",
       "      <td>0.0</td>\n",
       "      <td>0.0</td>\n",
       "      <td>0.0</td>\n",
       "      <td>0.0</td>\n",
       "      <td>0.0</td>\n",
       "      <td>0.0</td>\n",
       "      <td>0.0</td>\n",
       "      <td>0.0</td>\n",
       "    </tr>\n",
       "  </tbody>\n",
       "</table>\n",
       "<p>5 rows × 2352 columns</p>\n",
       "</div>"
      ],
      "text/plain": [
       "   review_len  punctuations    0    1    2    3         4    5    6    7  ...  \\\n",
       "0    0.254395      0.291667  0.0  0.0  0.0  0.0  0.069229  0.0  0.0  0.0  ...   \n",
       "1    0.099699      0.270833  0.0  0.0  0.0  0.0  0.000000  0.0  0.0  0.0  ...   \n",
       "2    0.056504      0.215278  0.0  0.0  0.0  0.0  0.000000  0.0  0.0  0.0  ...   \n",
       "3    0.045203      0.229167  0.0  0.0  0.0  0.0  0.000000  0.0  0.0  0.0  ...   \n",
       "4    0.023104      0.486111  0.0  0.0  0.0  0.0  0.000000  0.0  0.0  0.0  ...   \n",
       "\n",
       "   2340  2341  2342  2343  2344  2345  2346  2347  2348  2349  \n",
       "0   0.0   0.0   0.0   0.0   0.0   0.0   0.0   0.0   0.0   0.0  \n",
       "1   0.0   0.0   0.0   0.0   0.0   0.0   0.0   0.0   0.0   0.0  \n",
       "2   0.0   0.0   0.0   0.0   0.0   0.0   0.0   0.0   0.0   0.0  \n",
       "3   0.0   0.0   0.0   0.0   0.0   0.0   0.0   0.0   0.0   0.0  \n",
       "4   0.0   0.0   0.0   0.0   0.0   0.0   0.0   0.0   0.0   0.0  \n",
       "\n",
       "[5 rows x 2352 columns]"
      ]
     },
     "execution_count": 95,
     "metadata": {},
     "output_type": "execute_result"
    }
   ],
   "source": [
    "X_features.head()"
   ]
  },
  {
   "cell_type": "code",
   "execution_count": 96,
   "metadata": {},
   "outputs": [],
   "source": [
    "y = dataset3['rating_type'].values"
   ]
  },
  {
   "cell_type": "markdown",
   "metadata": {},
   "source": [
    "Setting the entire X_features and y of Dataset-3 Restaurants as X_test, and y_test for the Logistic Regression model trained on Dataset 1"
   ]
  },
  {
   "cell_type": "code",
   "execution_count": 97,
   "metadata": {},
   "outputs": [],
   "source": [
    "y\n",
    "y_test=y\n",
    "X_test=X_features"
   ]
  },
  {
   "cell_type": "code",
   "execution_count": 98,
   "metadata": {},
   "outputs": [
    {
     "name": "stdout",
     "output_type": "stream",
     "text": [
      "------------ Logistic Regression Classifier Performance Metrics ------------\n",
      "F-score: 71.8 \n",
      "Precision: 58.599999999999994 \n",
      "Recall: 92.80000000000001 \n",
      "Accuracy: 57.699999999999996 \n"
     ]
    }
   ],
   "source": [
    "logRegMetrics_3 = evaluate_LogReg(logReg_Model, X_test, y_test)"
   ]
  },
  {
   "cell_type": "code",
   "execution_count": 99,
   "metadata": {},
   "outputs": [
    {
     "name": "stdout",
     "output_type": "stream",
     "text": [
      "The average accuracy of the model on 5-fold cross validation is: 80.8\n"
     ]
    }
   ],
   "source": [
    "cv_score_mean(logReg_Model,X_test,y_test)"
   ]
  },
  {
   "cell_type": "code",
   "execution_count": 100,
   "metadata": {},
   "outputs": [],
   "source": [
    "# Saving metrics for all the datasets tested on Logistic Regression Model - 1\n",
    "ModelEvaluation_1 = pd.DataFrame({\n",
    "    'Dataset 1': logRegMetrics_1,\n",
    "    'Dataset 2': logRegMetrics_2,\n",
    "    'Dataset 3': logRegMetrics_3\n",
    "}, index=['precision', 'recall', 'fscore', 'accuracy','true negatives','false positives','false negatives','true positives']\n",
    ").T\n",
    "ModelEvaluation_1[\"precision\"] = round(ModelEvaluation_1[\"precision\"]*100,2)\n",
    "ModelEvaluation_1[\"recall\"] = round(ModelEvaluation_1[\"recall\"]*100,2)\n",
    "ModelEvaluation_1[\"fscore\"] = round(ModelEvaluation_1[\"fscore\"]*100,2)\n",
    "ModelEvaluation_1[\"accuracy\"] = round(ModelEvaluation_1[\"accuracy\"]*100,2)"
   ]
  },
  {
   "cell_type": "markdown",
   "metadata": {},
   "source": [
    "### Classification Evaluation"
   ]
  },
  {
   "cell_type": "markdown",
   "metadata": {},
   "source": [
    "#### Model Trained on Dataset 1, tested on Dataset 2 and Dataset 3"
   ]
  },
  {
   "cell_type": "code",
   "execution_count": 101,
   "metadata": {},
   "outputs": [
    {
     "data": {
      "text/html": [
       "<div>\n",
       "<style scoped>\n",
       "    .dataframe tbody tr th:only-of-type {\n",
       "        vertical-align: middle;\n",
       "    }\n",
       "\n",
       "    .dataframe tbody tr th {\n",
       "        vertical-align: top;\n",
       "    }\n",
       "\n",
       "    .dataframe thead th {\n",
       "        text-align: right;\n",
       "    }\n",
       "</style>\n",
       "<table border=\"1\" class=\"dataframe\">\n",
       "  <thead>\n",
       "    <tr style=\"text-align: right;\">\n",
       "      <th></th>\n",
       "      <th>precision</th>\n",
       "      <th>recall</th>\n",
       "      <th>fscore</th>\n",
       "      <th>accuracy</th>\n",
       "      <th>true negatives</th>\n",
       "      <th>false positives</th>\n",
       "      <th>false negatives</th>\n",
       "      <th>true positives</th>\n",
       "    </tr>\n",
       "  </thead>\n",
       "  <tbody>\n",
       "    <tr>\n",
       "      <th>Dataset 1</th>\n",
       "      <td>89.31</td>\n",
       "      <td>95.95</td>\n",
       "      <td>92.51</td>\n",
       "      <td>88.5</td>\n",
       "      <td>70.0</td>\n",
       "      <td>34.0</td>\n",
       "      <td>12.0</td>\n",
       "      <td>284.0</td>\n",
       "    </tr>\n",
       "    <tr>\n",
       "      <th>Dataset 2</th>\n",
       "      <td>59.48</td>\n",
       "      <td>89.63</td>\n",
       "      <td>71.51</td>\n",
       "      <td>58.0</td>\n",
       "      <td>106.0</td>\n",
       "      <td>718.0</td>\n",
       "      <td>122.0</td>\n",
       "      <td>1054.0</td>\n",
       "    </tr>\n",
       "    <tr>\n",
       "      <th>Dataset 3</th>\n",
       "      <td>58.59</td>\n",
       "      <td>92.77</td>\n",
       "      <td>71.82</td>\n",
       "      <td>57.7</td>\n",
       "      <td>76.0</td>\n",
       "      <td>762.0</td>\n",
       "      <td>84.0</td>\n",
       "      <td>1078.0</td>\n",
       "    </tr>\n",
       "  </tbody>\n",
       "</table>\n",
       "</div>"
      ],
      "text/plain": [
       "           precision  recall  fscore  accuracy  true negatives  \\\n",
       "Dataset 1      89.31   95.95   92.51      88.5            70.0   \n",
       "Dataset 2      59.48   89.63   71.51      58.0           106.0   \n",
       "Dataset 3      58.59   92.77   71.82      57.7            76.0   \n",
       "\n",
       "           false positives  false negatives  true positives  \n",
       "Dataset 1             34.0             12.0           284.0  \n",
       "Dataset 2            718.0            122.0          1054.0  \n",
       "Dataset 3            762.0             84.0          1078.0  "
      ]
     },
     "execution_count": 101,
     "metadata": {},
     "output_type": "execute_result"
    }
   ],
   "source": [
    "ModelEvaluation_1"
   ]
  },
  {
   "cell_type": "markdown",
   "metadata": {},
   "source": [
    "From the above table for metrics of the model tested on each of the dataset, it is observed that the highest precision and accuracy is for the Dataset 1, on which the model is trained. Whereas the metrics of the model when tested on other datasets the precision and accuracy are comparitively less, but considerable.<br> Also the number of false positives in the model for the Dataset 2 and Dataset 3 are comparitively on higher side. A model that is having relatively low FP rate would be an ideal in this scenario"
   ]
  },
  {
   "cell_type": "markdown",
   "metadata": {},
   "source": [
    "A detailed comparison of a Logistic Regression Model trained on different datasets and their evaluation of testing on different datasets is done in the last section of this project."
   ]
  },
  {
   "cell_type": "markdown",
   "metadata": {},
   "source": [
    "## Training Logistic Regression Model on Dataset 2 - \"Hotels\""
   ]
  },
  {
   "cell_type": "code",
   "execution_count": 102,
   "metadata": {},
   "outputs": [
    {
     "data": {
      "text/html": [
       "<div>\n",
       "<style scoped>\n",
       "    .dataframe tbody tr th:only-of-type {\n",
       "        vertical-align: middle;\n",
       "    }\n",
       "\n",
       "    .dataframe tbody tr th {\n",
       "        vertical-align: top;\n",
       "    }\n",
       "\n",
       "    .dataframe thead th {\n",
       "        text-align: right;\n",
       "    }\n",
       "</style>\n",
       "<table border=\"1\" class=\"dataframe\">\n",
       "  <thead>\n",
       "    <tr style=\"text-align: right;\">\n",
       "      <th></th>\n",
       "      <th>review_len</th>\n",
       "      <th>punctuations</th>\n",
       "      <th>0</th>\n",
       "      <th>1</th>\n",
       "      <th>2</th>\n",
       "      <th>3</th>\n",
       "      <th>4</th>\n",
       "      <th>5</th>\n",
       "      <th>6</th>\n",
       "      <th>7</th>\n",
       "      <th>...</th>\n",
       "      <th>2340</th>\n",
       "      <th>2341</th>\n",
       "      <th>2342</th>\n",
       "      <th>2343</th>\n",
       "      <th>2344</th>\n",
       "      <th>2345</th>\n",
       "      <th>2346</th>\n",
       "      <th>2347</th>\n",
       "      <th>2348</th>\n",
       "      <th>2349</th>\n",
       "    </tr>\n",
       "  </thead>\n",
       "  <tbody>\n",
       "    <tr>\n",
       "      <th>0</th>\n",
       "      <td>363</td>\n",
       "      <td>2.8</td>\n",
       "      <td>0.0</td>\n",
       "      <td>0.0</td>\n",
       "      <td>0.0</td>\n",
       "      <td>0.0</td>\n",
       "      <td>0.0</td>\n",
       "      <td>0.0</td>\n",
       "      <td>0.0</td>\n",
       "      <td>0.0</td>\n",
       "      <td>...</td>\n",
       "      <td>0.0</td>\n",
       "      <td>0.0</td>\n",
       "      <td>0.0</td>\n",
       "      <td>0.0</td>\n",
       "      <td>0.0</td>\n",
       "      <td>0.0</td>\n",
       "      <td>0.0</td>\n",
       "      <td>0.0</td>\n",
       "      <td>0.0</td>\n",
       "      <td>0.0</td>\n",
       "    </tr>\n",
       "    <tr>\n",
       "      <th>1</th>\n",
       "      <td>380</td>\n",
       "      <td>3.9</td>\n",
       "      <td>0.0</td>\n",
       "      <td>0.0</td>\n",
       "      <td>0.0</td>\n",
       "      <td>0.0</td>\n",
       "      <td>0.0</td>\n",
       "      <td>0.0</td>\n",
       "      <td>0.0</td>\n",
       "      <td>0.0</td>\n",
       "      <td>...</td>\n",
       "      <td>0.0</td>\n",
       "      <td>0.0</td>\n",
       "      <td>0.0</td>\n",
       "      <td>0.0</td>\n",
       "      <td>0.0</td>\n",
       "      <td>0.0</td>\n",
       "      <td>0.0</td>\n",
       "      <td>0.0</td>\n",
       "      <td>0.0</td>\n",
       "      <td>0.0</td>\n",
       "    </tr>\n",
       "    <tr>\n",
       "      <th>2</th>\n",
       "      <td>464</td>\n",
       "      <td>3.2</td>\n",
       "      <td>0.0</td>\n",
       "      <td>0.0</td>\n",
       "      <td>0.0</td>\n",
       "      <td>0.0</td>\n",
       "      <td>0.0</td>\n",
       "      <td>0.0</td>\n",
       "      <td>0.0</td>\n",
       "      <td>0.0</td>\n",
       "      <td>...</td>\n",
       "      <td>0.0</td>\n",
       "      <td>0.0</td>\n",
       "      <td>0.0</td>\n",
       "      <td>0.0</td>\n",
       "      <td>0.0</td>\n",
       "      <td>0.0</td>\n",
       "      <td>0.0</td>\n",
       "      <td>0.0</td>\n",
       "      <td>0.0</td>\n",
       "      <td>0.0</td>\n",
       "    </tr>\n",
       "    <tr>\n",
       "      <th>3</th>\n",
       "      <td>360</td>\n",
       "      <td>3.3</td>\n",
       "      <td>0.0</td>\n",
       "      <td>0.0</td>\n",
       "      <td>0.0</td>\n",
       "      <td>0.0</td>\n",
       "      <td>0.0</td>\n",
       "      <td>0.0</td>\n",
       "      <td>0.0</td>\n",
       "      <td>0.0</td>\n",
       "      <td>...</td>\n",
       "      <td>0.0</td>\n",
       "      <td>0.0</td>\n",
       "      <td>0.0</td>\n",
       "      <td>0.0</td>\n",
       "      <td>0.0</td>\n",
       "      <td>0.0</td>\n",
       "      <td>0.0</td>\n",
       "      <td>0.0</td>\n",
       "      <td>0.0</td>\n",
       "      <td>0.0</td>\n",
       "    </tr>\n",
       "    <tr>\n",
       "      <th>4</th>\n",
       "      <td>645</td>\n",
       "      <td>2.5</td>\n",
       "      <td>0.0</td>\n",
       "      <td>0.0</td>\n",
       "      <td>0.0</td>\n",
       "      <td>0.0</td>\n",
       "      <td>0.0</td>\n",
       "      <td>0.0</td>\n",
       "      <td>0.0</td>\n",
       "      <td>0.0</td>\n",
       "      <td>...</td>\n",
       "      <td>0.0</td>\n",
       "      <td>0.0</td>\n",
       "      <td>0.0</td>\n",
       "      <td>0.0</td>\n",
       "      <td>0.0</td>\n",
       "      <td>0.0</td>\n",
       "      <td>0.0</td>\n",
       "      <td>0.0</td>\n",
       "      <td>0.0</td>\n",
       "      <td>0.0</td>\n",
       "    </tr>\n",
       "  </tbody>\n",
       "</table>\n",
       "<p>5 rows × 2352 columns</p>\n",
       "</div>"
      ],
      "text/plain": [
       "   review_len  punctuations    0    1    2    3    4    5    6    7  ...  \\\n",
       "0         363           2.8  0.0  0.0  0.0  0.0  0.0  0.0  0.0  0.0  ...   \n",
       "1         380           3.9  0.0  0.0  0.0  0.0  0.0  0.0  0.0  0.0  ...   \n",
       "2         464           3.2  0.0  0.0  0.0  0.0  0.0  0.0  0.0  0.0  ...   \n",
       "3         360           3.3  0.0  0.0  0.0  0.0  0.0  0.0  0.0  0.0  ...   \n",
       "4         645           2.5  0.0  0.0  0.0  0.0  0.0  0.0  0.0  0.0  ...   \n",
       "\n",
       "   2340  2341  2342  2343  2344  2345  2346  2347  2348  2349  \n",
       "0   0.0   0.0   0.0   0.0   0.0   0.0   0.0   0.0   0.0   0.0  \n",
       "1   0.0   0.0   0.0   0.0   0.0   0.0   0.0   0.0   0.0   0.0  \n",
       "2   0.0   0.0   0.0   0.0   0.0   0.0   0.0   0.0   0.0   0.0  \n",
       "3   0.0   0.0   0.0   0.0   0.0   0.0   0.0   0.0   0.0   0.0  \n",
       "4   0.0   0.0   0.0   0.0   0.0   0.0   0.0   0.0   0.0   0.0  \n",
       "\n",
       "[5 rows x 2352 columns]"
      ]
     },
     "execution_count": 102,
     "metadata": {},
     "output_type": "execute_result"
    }
   ],
   "source": [
    "## Assigning the X_features with the vectorized feature values stored in X_features_2 copy\n",
    "X_features = X_features_2\n",
    "X_features.head()"
   ]
  },
  {
   "cell_type": "code",
   "execution_count": 103,
   "metadata": {},
   "outputs": [],
   "source": [
    "# Call to normalization function.\n",
    "_normalize_length_punct()"
   ]
  },
  {
   "cell_type": "code",
   "execution_count": 104,
   "metadata": {},
   "outputs": [
    {
     "data": {
      "text/html": [
       "<div>\n",
       "<style scoped>\n",
       "    .dataframe tbody tr th:only-of-type {\n",
       "        vertical-align: middle;\n",
       "    }\n",
       "\n",
       "    .dataframe tbody tr th {\n",
       "        vertical-align: top;\n",
       "    }\n",
       "\n",
       "    .dataframe thead th {\n",
       "        text-align: right;\n",
       "    }\n",
       "</style>\n",
       "<table border=\"1\" class=\"dataframe\">\n",
       "  <thead>\n",
       "    <tr style=\"text-align: right;\">\n",
       "      <th></th>\n",
       "      <th>review_len</th>\n",
       "      <th>punctuations</th>\n",
       "      <th>0</th>\n",
       "      <th>1</th>\n",
       "      <th>2</th>\n",
       "      <th>3</th>\n",
       "      <th>4</th>\n",
       "      <th>5</th>\n",
       "      <th>6</th>\n",
       "      <th>7</th>\n",
       "      <th>...</th>\n",
       "      <th>2340</th>\n",
       "      <th>2341</th>\n",
       "      <th>2342</th>\n",
       "      <th>2343</th>\n",
       "      <th>2344</th>\n",
       "      <th>2345</th>\n",
       "      <th>2346</th>\n",
       "      <th>2347</th>\n",
       "      <th>2348</th>\n",
       "      <th>2349</th>\n",
       "    </tr>\n",
       "  </thead>\n",
       "  <tbody>\n",
       "    <tr>\n",
       "      <th>0</th>\n",
       "      <td>0.068153</td>\n",
       "      <td>0.198582</td>\n",
       "      <td>0.0</td>\n",
       "      <td>0.0</td>\n",
       "      <td>0.0</td>\n",
       "      <td>0.0</td>\n",
       "      <td>0.0</td>\n",
       "      <td>0.0</td>\n",
       "      <td>0.0</td>\n",
       "      <td>0.0</td>\n",
       "      <td>...</td>\n",
       "      <td>0.0</td>\n",
       "      <td>0.0</td>\n",
       "      <td>0.0</td>\n",
       "      <td>0.0</td>\n",
       "      <td>0.0</td>\n",
       "      <td>0.0</td>\n",
       "      <td>0.0</td>\n",
       "      <td>0.0</td>\n",
       "      <td>0.0</td>\n",
       "      <td>0.0</td>\n",
       "    </tr>\n",
       "    <tr>\n",
       "      <th>1</th>\n",
       "      <td>0.072508</td>\n",
       "      <td>0.276596</td>\n",
       "      <td>0.0</td>\n",
       "      <td>0.0</td>\n",
       "      <td>0.0</td>\n",
       "      <td>0.0</td>\n",
       "      <td>0.0</td>\n",
       "      <td>0.0</td>\n",
       "      <td>0.0</td>\n",
       "      <td>0.0</td>\n",
       "      <td>...</td>\n",
       "      <td>0.0</td>\n",
       "      <td>0.0</td>\n",
       "      <td>0.0</td>\n",
       "      <td>0.0</td>\n",
       "      <td>0.0</td>\n",
       "      <td>0.0</td>\n",
       "      <td>0.0</td>\n",
       "      <td>0.0</td>\n",
       "      <td>0.0</td>\n",
       "      <td>0.0</td>\n",
       "    </tr>\n",
       "    <tr>\n",
       "      <th>2</th>\n",
       "      <td>0.094030</td>\n",
       "      <td>0.226950</td>\n",
       "      <td>0.0</td>\n",
       "      <td>0.0</td>\n",
       "      <td>0.0</td>\n",
       "      <td>0.0</td>\n",
       "      <td>0.0</td>\n",
       "      <td>0.0</td>\n",
       "      <td>0.0</td>\n",
       "      <td>0.0</td>\n",
       "      <td>...</td>\n",
       "      <td>0.0</td>\n",
       "      <td>0.0</td>\n",
       "      <td>0.0</td>\n",
       "      <td>0.0</td>\n",
       "      <td>0.0</td>\n",
       "      <td>0.0</td>\n",
       "      <td>0.0</td>\n",
       "      <td>0.0</td>\n",
       "      <td>0.0</td>\n",
       "      <td>0.0</td>\n",
       "    </tr>\n",
       "    <tr>\n",
       "      <th>3</th>\n",
       "      <td>0.067384</td>\n",
       "      <td>0.234043</td>\n",
       "      <td>0.0</td>\n",
       "      <td>0.0</td>\n",
       "      <td>0.0</td>\n",
       "      <td>0.0</td>\n",
       "      <td>0.0</td>\n",
       "      <td>0.0</td>\n",
       "      <td>0.0</td>\n",
       "      <td>0.0</td>\n",
       "      <td>...</td>\n",
       "      <td>0.0</td>\n",
       "      <td>0.0</td>\n",
       "      <td>0.0</td>\n",
       "      <td>0.0</td>\n",
       "      <td>0.0</td>\n",
       "      <td>0.0</td>\n",
       "      <td>0.0</td>\n",
       "      <td>0.0</td>\n",
       "      <td>0.0</td>\n",
       "      <td>0.0</td>\n",
       "    </tr>\n",
       "    <tr>\n",
       "      <th>4</th>\n",
       "      <td>0.140405</td>\n",
       "      <td>0.177305</td>\n",
       "      <td>0.0</td>\n",
       "      <td>0.0</td>\n",
       "      <td>0.0</td>\n",
       "      <td>0.0</td>\n",
       "      <td>0.0</td>\n",
       "      <td>0.0</td>\n",
       "      <td>0.0</td>\n",
       "      <td>0.0</td>\n",
       "      <td>...</td>\n",
       "      <td>0.0</td>\n",
       "      <td>0.0</td>\n",
       "      <td>0.0</td>\n",
       "      <td>0.0</td>\n",
       "      <td>0.0</td>\n",
       "      <td>0.0</td>\n",
       "      <td>0.0</td>\n",
       "      <td>0.0</td>\n",
       "      <td>0.0</td>\n",
       "      <td>0.0</td>\n",
       "    </tr>\n",
       "  </tbody>\n",
       "</table>\n",
       "<p>5 rows × 2352 columns</p>\n",
       "</div>"
      ],
      "text/plain": [
       "   review_len  punctuations    0    1    2    3    4    5    6    7  ...  \\\n",
       "0    0.068153      0.198582  0.0  0.0  0.0  0.0  0.0  0.0  0.0  0.0  ...   \n",
       "1    0.072508      0.276596  0.0  0.0  0.0  0.0  0.0  0.0  0.0  0.0  ...   \n",
       "2    0.094030      0.226950  0.0  0.0  0.0  0.0  0.0  0.0  0.0  0.0  ...   \n",
       "3    0.067384      0.234043  0.0  0.0  0.0  0.0  0.0  0.0  0.0  0.0  ...   \n",
       "4    0.140405      0.177305  0.0  0.0  0.0  0.0  0.0  0.0  0.0  0.0  ...   \n",
       "\n",
       "   2340  2341  2342  2343  2344  2345  2346  2347  2348  2349  \n",
       "0   0.0   0.0   0.0   0.0   0.0   0.0   0.0   0.0   0.0   0.0  \n",
       "1   0.0   0.0   0.0   0.0   0.0   0.0   0.0   0.0   0.0   0.0  \n",
       "2   0.0   0.0   0.0   0.0   0.0   0.0   0.0   0.0   0.0   0.0  \n",
       "3   0.0   0.0   0.0   0.0   0.0   0.0   0.0   0.0   0.0   0.0  \n",
       "4   0.0   0.0   0.0   0.0   0.0   0.0   0.0   0.0   0.0   0.0  \n",
       "\n",
       "[5 rows x 2352 columns]"
      ]
     },
     "execution_count": 104,
     "metadata": {},
     "output_type": "execute_result"
    }
   ],
   "source": [
    "X_features.head()"
   ]
  },
  {
   "cell_type": "code",
   "execution_count": 105,
   "metadata": {},
   "outputs": [],
   "source": [
    "y = dataset2['rating_type'].values"
   ]
  },
  {
   "cell_type": "markdown",
   "metadata": {},
   "source": [
    "#### Splitting the Data in to training and test set"
   ]
  },
  {
   "cell_type": "code",
   "execution_count": 106,
   "metadata": {},
   "outputs": [],
   "source": [
    "X_train, X_test, y_train, y_test = train_test_split(X_features, y, test_size = 0.20, random_state = 25)"
   ]
  },
  {
   "cell_type": "markdown",
   "metadata": {},
   "source": [
    "#### Training Logisitic Regression Model on Dataset 2- Hotels"
   ]
  },
  {
   "cell_type": "code",
   "execution_count": 107,
   "metadata": {},
   "outputs": [],
   "source": [
    "# Call to the function to train the Logistic Regression Model on dataset 2\n",
    "logReg_Model = logRegModel_train()"
   ]
  },
  {
   "cell_type": "code",
   "execution_count": 108,
   "metadata": {},
   "outputs": [
    {
     "name": "stdout",
     "output_type": "stream",
     "text": [
      "------------ Logistic Regression Classifier Performance Metrics ------------\n",
      "F-score: 91.3 \n",
      "Precision: 87.9 \n",
      "Recall: 95.0 \n",
      "Accuracy: 90.0 \n"
     ]
    }
   ],
   "source": [
    "logRegMetrics_2 = evaluate_LogReg(logReg_Model, X_test, y_test)"
   ]
  },
  {
   "cell_type": "code",
   "execution_count": 109,
   "metadata": {},
   "outputs": [
    {
     "name": "stdout",
     "output_type": "stream",
     "text": [
      "The average accuracy of the model on 5-fold cross validation is: 83.2\n"
     ]
    }
   ],
   "source": [
    "cv_score_mean(logReg_Model,X_test,y_test)"
   ]
  },
  {
   "cell_type": "markdown",
   "metadata": {},
   "source": [
    "### Text Review Analysis for Dataset 1- Cafes with Logistic Regression Model Trained on Dataset 2"
   ]
  },
  {
   "cell_type": "markdown",
   "metadata": {},
   "source": [
    "#### Testing Logistic Regression Model on Dataset 1, model trained on Dataset 2"
   ]
  },
  {
   "cell_type": "code",
   "execution_count": 110,
   "metadata": {},
   "outputs": [
    {
     "data": {
      "text/html": [
       "<div>\n",
       "<style scoped>\n",
       "    .dataframe tbody tr th:only-of-type {\n",
       "        vertical-align: middle;\n",
       "    }\n",
       "\n",
       "    .dataframe tbody tr th {\n",
       "        vertical-align: top;\n",
       "    }\n",
       "\n",
       "    .dataframe thead th {\n",
       "        text-align: right;\n",
       "    }\n",
       "</style>\n",
       "<table border=\"1\" class=\"dataframe\">\n",
       "  <thead>\n",
       "    <tr style=\"text-align: right;\">\n",
       "      <th></th>\n",
       "      <th>review_len</th>\n",
       "      <th>punctuations</th>\n",
       "      <th>0</th>\n",
       "      <th>1</th>\n",
       "      <th>2</th>\n",
       "      <th>3</th>\n",
       "      <th>4</th>\n",
       "      <th>5</th>\n",
       "      <th>6</th>\n",
       "      <th>7</th>\n",
       "      <th>...</th>\n",
       "      <th>2340</th>\n",
       "      <th>2341</th>\n",
       "      <th>2342</th>\n",
       "      <th>2343</th>\n",
       "      <th>2344</th>\n",
       "      <th>2345</th>\n",
       "      <th>2346</th>\n",
       "      <th>2347</th>\n",
       "      <th>2348</th>\n",
       "      <th>2349</th>\n",
       "    </tr>\n",
       "  </thead>\n",
       "  <tbody>\n",
       "    <tr>\n",
       "      <th>0</th>\n",
       "      <td>1271</td>\n",
       "      <td>2.7</td>\n",
       "      <td>0.186419</td>\n",
       "      <td>0.0</td>\n",
       "      <td>0.0</td>\n",
       "      <td>0.0</td>\n",
       "      <td>0.0</td>\n",
       "      <td>0.0</td>\n",
       "      <td>0.0</td>\n",
       "      <td>0.0</td>\n",
       "      <td>...</td>\n",
       "      <td>0.0</td>\n",
       "      <td>0.0</td>\n",
       "      <td>0.0</td>\n",
       "      <td>0.0</td>\n",
       "      <td>0.0</td>\n",
       "      <td>0.0</td>\n",
       "      <td>0.0</td>\n",
       "      <td>0.0</td>\n",
       "      <td>0.0</td>\n",
       "      <td>0.0</td>\n",
       "    </tr>\n",
       "    <tr>\n",
       "      <th>1</th>\n",
       "      <td>281</td>\n",
       "      <td>4.6</td>\n",
       "      <td>0.000000</td>\n",
       "      <td>0.0</td>\n",
       "      <td>0.0</td>\n",
       "      <td>0.0</td>\n",
       "      <td>0.0</td>\n",
       "      <td>0.0</td>\n",
       "      <td>0.0</td>\n",
       "      <td>0.0</td>\n",
       "      <td>...</td>\n",
       "      <td>0.0</td>\n",
       "      <td>0.0</td>\n",
       "      <td>0.0</td>\n",
       "      <td>0.0</td>\n",
       "      <td>0.0</td>\n",
       "      <td>0.0</td>\n",
       "      <td>0.0</td>\n",
       "      <td>0.0</td>\n",
       "      <td>0.0</td>\n",
       "      <td>0.0</td>\n",
       "    </tr>\n",
       "    <tr>\n",
       "      <th>2</th>\n",
       "      <td>1275</td>\n",
       "      <td>4.9</td>\n",
       "      <td>0.088271</td>\n",
       "      <td>0.0</td>\n",
       "      <td>0.0</td>\n",
       "      <td>0.0</td>\n",
       "      <td>0.0</td>\n",
       "      <td>0.0</td>\n",
       "      <td>0.0</td>\n",
       "      <td>0.0</td>\n",
       "      <td>...</td>\n",
       "      <td>0.0</td>\n",
       "      <td>0.0</td>\n",
       "      <td>0.0</td>\n",
       "      <td>0.0</td>\n",
       "      <td>0.0</td>\n",
       "      <td>0.0</td>\n",
       "      <td>0.0</td>\n",
       "      <td>0.0</td>\n",
       "      <td>0.0</td>\n",
       "      <td>0.0</td>\n",
       "    </tr>\n",
       "    <tr>\n",
       "      <th>3</th>\n",
       "      <td>415</td>\n",
       "      <td>2.9</td>\n",
       "      <td>0.000000</td>\n",
       "      <td>0.0</td>\n",
       "      <td>0.0</td>\n",
       "      <td>0.0</td>\n",
       "      <td>0.0</td>\n",
       "      <td>0.0</td>\n",
       "      <td>0.0</td>\n",
       "      <td>0.0</td>\n",
       "      <td>...</td>\n",
       "      <td>0.0</td>\n",
       "      <td>0.0</td>\n",
       "      <td>0.0</td>\n",
       "      <td>0.0</td>\n",
       "      <td>0.0</td>\n",
       "      <td>0.0</td>\n",
       "      <td>0.0</td>\n",
       "      <td>0.0</td>\n",
       "      <td>0.0</td>\n",
       "      <td>0.0</td>\n",
       "    </tr>\n",
       "    <tr>\n",
       "      <th>4</th>\n",
       "      <td>235</td>\n",
       "      <td>3.4</td>\n",
       "      <td>0.000000</td>\n",
       "      <td>0.0</td>\n",
       "      <td>0.0</td>\n",
       "      <td>0.0</td>\n",
       "      <td>0.0</td>\n",
       "      <td>0.0</td>\n",
       "      <td>0.0</td>\n",
       "      <td>0.0</td>\n",
       "      <td>...</td>\n",
       "      <td>0.0</td>\n",
       "      <td>0.0</td>\n",
       "      <td>0.0</td>\n",
       "      <td>0.0</td>\n",
       "      <td>0.0</td>\n",
       "      <td>0.0</td>\n",
       "      <td>0.0</td>\n",
       "      <td>0.0</td>\n",
       "      <td>0.0</td>\n",
       "      <td>0.0</td>\n",
       "    </tr>\n",
       "  </tbody>\n",
       "</table>\n",
       "<p>5 rows × 2352 columns</p>\n",
       "</div>"
      ],
      "text/plain": [
       "   review_len  punctuations         0    1    2    3    4    5    6    7  ...  \\\n",
       "0        1271           2.7  0.186419  0.0  0.0  0.0  0.0  0.0  0.0  0.0  ...   \n",
       "1         281           4.6  0.000000  0.0  0.0  0.0  0.0  0.0  0.0  0.0  ...   \n",
       "2        1275           4.9  0.088271  0.0  0.0  0.0  0.0  0.0  0.0  0.0  ...   \n",
       "3         415           2.9  0.000000  0.0  0.0  0.0  0.0  0.0  0.0  0.0  ...   \n",
       "4         235           3.4  0.000000  0.0  0.0  0.0  0.0  0.0  0.0  0.0  ...   \n",
       "\n",
       "   2340  2341  2342  2343  2344  2345  2346  2347  2348  2349  \n",
       "0   0.0   0.0   0.0   0.0   0.0   0.0   0.0   0.0   0.0   0.0  \n",
       "1   0.0   0.0   0.0   0.0   0.0   0.0   0.0   0.0   0.0   0.0  \n",
       "2   0.0   0.0   0.0   0.0   0.0   0.0   0.0   0.0   0.0   0.0  \n",
       "3   0.0   0.0   0.0   0.0   0.0   0.0   0.0   0.0   0.0   0.0  \n",
       "4   0.0   0.0   0.0   0.0   0.0   0.0   0.0   0.0   0.0   0.0  \n",
       "\n",
       "[5 rows x 2352 columns]"
      ]
     },
     "execution_count": 110,
     "metadata": {},
     "output_type": "execute_result"
    }
   ],
   "source": [
    "X_features = X_features_1\n",
    "X_features.head()"
   ]
  },
  {
   "cell_type": "code",
   "execution_count": 111,
   "metadata": {},
   "outputs": [],
   "source": [
    "_normalize_length_punct()"
   ]
  },
  {
   "cell_type": "code",
   "execution_count": 112,
   "metadata": {},
   "outputs": [
    {
     "data": {
      "text/html": [
       "<div>\n",
       "<style scoped>\n",
       "    .dataframe tbody tr th:only-of-type {\n",
       "        vertical-align: middle;\n",
       "    }\n",
       "\n",
       "    .dataframe tbody tr th {\n",
       "        vertical-align: top;\n",
       "    }\n",
       "\n",
       "    .dataframe thead th {\n",
       "        text-align: right;\n",
       "    }\n",
       "</style>\n",
       "<table border=\"1\" class=\"dataframe\">\n",
       "  <thead>\n",
       "    <tr style=\"text-align: right;\">\n",
       "      <th></th>\n",
       "      <th>review_len</th>\n",
       "      <th>punctuations</th>\n",
       "      <th>0</th>\n",
       "      <th>1</th>\n",
       "      <th>2</th>\n",
       "      <th>3</th>\n",
       "      <th>4</th>\n",
       "      <th>5</th>\n",
       "      <th>6</th>\n",
       "      <th>7</th>\n",
       "      <th>...</th>\n",
       "      <th>2340</th>\n",
       "      <th>2341</th>\n",
       "      <th>2342</th>\n",
       "      <th>2343</th>\n",
       "      <th>2344</th>\n",
       "      <th>2345</th>\n",
       "      <th>2346</th>\n",
       "      <th>2347</th>\n",
       "      <th>2348</th>\n",
       "      <th>2349</th>\n",
       "    </tr>\n",
       "  </thead>\n",
       "  <tbody>\n",
       "    <tr>\n",
       "      <th>0</th>\n",
       "      <td>0.306266</td>\n",
       "      <td>0.024752</td>\n",
       "      <td>0.186419</td>\n",
       "      <td>0.0</td>\n",
       "      <td>0.0</td>\n",
       "      <td>0.0</td>\n",
       "      <td>0.0</td>\n",
       "      <td>0.0</td>\n",
       "      <td>0.0</td>\n",
       "      <td>0.0</td>\n",
       "      <td>...</td>\n",
       "      <td>0.0</td>\n",
       "      <td>0.0</td>\n",
       "      <td>0.0</td>\n",
       "      <td>0.0</td>\n",
       "      <td>0.0</td>\n",
       "      <td>0.0</td>\n",
       "      <td>0.0</td>\n",
       "      <td>0.0</td>\n",
       "      <td>0.0</td>\n",
       "      <td>0.0</td>\n",
       "    </tr>\n",
       "    <tr>\n",
       "      <th>1</th>\n",
       "      <td>0.047781</td>\n",
       "      <td>0.048267</td>\n",
       "      <td>0.000000</td>\n",
       "      <td>0.0</td>\n",
       "      <td>0.0</td>\n",
       "      <td>0.0</td>\n",
       "      <td>0.0</td>\n",
       "      <td>0.0</td>\n",
       "      <td>0.0</td>\n",
       "      <td>0.0</td>\n",
       "      <td>...</td>\n",
       "      <td>0.0</td>\n",
       "      <td>0.0</td>\n",
       "      <td>0.0</td>\n",
       "      <td>0.0</td>\n",
       "      <td>0.0</td>\n",
       "      <td>0.0</td>\n",
       "      <td>0.0</td>\n",
       "      <td>0.0</td>\n",
       "      <td>0.0</td>\n",
       "      <td>0.0</td>\n",
       "    </tr>\n",
       "    <tr>\n",
       "      <th>2</th>\n",
       "      <td>0.307311</td>\n",
       "      <td>0.051980</td>\n",
       "      <td>0.088271</td>\n",
       "      <td>0.0</td>\n",
       "      <td>0.0</td>\n",
       "      <td>0.0</td>\n",
       "      <td>0.0</td>\n",
       "      <td>0.0</td>\n",
       "      <td>0.0</td>\n",
       "      <td>0.0</td>\n",
       "      <td>...</td>\n",
       "      <td>0.0</td>\n",
       "      <td>0.0</td>\n",
       "      <td>0.0</td>\n",
       "      <td>0.0</td>\n",
       "      <td>0.0</td>\n",
       "      <td>0.0</td>\n",
       "      <td>0.0</td>\n",
       "      <td>0.0</td>\n",
       "      <td>0.0</td>\n",
       "      <td>0.0</td>\n",
       "    </tr>\n",
       "    <tr>\n",
       "      <th>3</th>\n",
       "      <td>0.082768</td>\n",
       "      <td>0.027228</td>\n",
       "      <td>0.000000</td>\n",
       "      <td>0.0</td>\n",
       "      <td>0.0</td>\n",
       "      <td>0.0</td>\n",
       "      <td>0.0</td>\n",
       "      <td>0.0</td>\n",
       "      <td>0.0</td>\n",
       "      <td>0.0</td>\n",
       "      <td>...</td>\n",
       "      <td>0.0</td>\n",
       "      <td>0.0</td>\n",
       "      <td>0.0</td>\n",
       "      <td>0.0</td>\n",
       "      <td>0.0</td>\n",
       "      <td>0.0</td>\n",
       "      <td>0.0</td>\n",
       "      <td>0.0</td>\n",
       "      <td>0.0</td>\n",
       "      <td>0.0</td>\n",
       "    </tr>\n",
       "    <tr>\n",
       "      <th>4</th>\n",
       "      <td>0.035770</td>\n",
       "      <td>0.033416</td>\n",
       "      <td>0.000000</td>\n",
       "      <td>0.0</td>\n",
       "      <td>0.0</td>\n",
       "      <td>0.0</td>\n",
       "      <td>0.0</td>\n",
       "      <td>0.0</td>\n",
       "      <td>0.0</td>\n",
       "      <td>0.0</td>\n",
       "      <td>...</td>\n",
       "      <td>0.0</td>\n",
       "      <td>0.0</td>\n",
       "      <td>0.0</td>\n",
       "      <td>0.0</td>\n",
       "      <td>0.0</td>\n",
       "      <td>0.0</td>\n",
       "      <td>0.0</td>\n",
       "      <td>0.0</td>\n",
       "      <td>0.0</td>\n",
       "      <td>0.0</td>\n",
       "    </tr>\n",
       "  </tbody>\n",
       "</table>\n",
       "<p>5 rows × 2352 columns</p>\n",
       "</div>"
      ],
      "text/plain": [
       "   review_len  punctuations         0    1    2    3    4    5    6    7  ...  \\\n",
       "0    0.306266      0.024752  0.186419  0.0  0.0  0.0  0.0  0.0  0.0  0.0  ...   \n",
       "1    0.047781      0.048267  0.000000  0.0  0.0  0.0  0.0  0.0  0.0  0.0  ...   \n",
       "2    0.307311      0.051980  0.088271  0.0  0.0  0.0  0.0  0.0  0.0  0.0  ...   \n",
       "3    0.082768      0.027228  0.000000  0.0  0.0  0.0  0.0  0.0  0.0  0.0  ...   \n",
       "4    0.035770      0.033416  0.000000  0.0  0.0  0.0  0.0  0.0  0.0  0.0  ...   \n",
       "\n",
       "   2340  2341  2342  2343  2344  2345  2346  2347  2348  2349  \n",
       "0   0.0   0.0   0.0   0.0   0.0   0.0   0.0   0.0   0.0   0.0  \n",
       "1   0.0   0.0   0.0   0.0   0.0   0.0   0.0   0.0   0.0   0.0  \n",
       "2   0.0   0.0   0.0   0.0   0.0   0.0   0.0   0.0   0.0   0.0  \n",
       "3   0.0   0.0   0.0   0.0   0.0   0.0   0.0   0.0   0.0   0.0  \n",
       "4   0.0   0.0   0.0   0.0   0.0   0.0   0.0   0.0   0.0   0.0  \n",
       "\n",
       "[5 rows x 2352 columns]"
      ]
     },
     "execution_count": 112,
     "metadata": {},
     "output_type": "execute_result"
    }
   ],
   "source": [
    "X_features.head()"
   ]
  },
  {
   "cell_type": "code",
   "execution_count": 113,
   "metadata": {},
   "outputs": [],
   "source": [
    "y = dataset1['rating_type'].values"
   ]
  },
  {
   "cell_type": "code",
   "execution_count": 114,
   "metadata": {},
   "outputs": [],
   "source": [
    "y\n",
    "y_test=y\n",
    "X_test=X_features"
   ]
  },
  {
   "cell_type": "code",
   "execution_count": 115,
   "metadata": {},
   "outputs": [
    {
     "name": "stdout",
     "output_type": "stream",
     "text": [
      "------------ Logistic Regression Classifier Performance Metrics ------------\n",
      "F-score: 70.1 \n",
      "Precision: 73.5 \n",
      "Recall: 67.0 \n",
      "Accuracy: 58.199999999999996 \n"
     ]
    }
   ],
   "source": [
    "logRegMetrics_1 = evaluate_LogReg(logReg_Model, X_test, y_test)"
   ]
  },
  {
   "cell_type": "code",
   "execution_count": 116,
   "metadata": {},
   "outputs": [
    {
     "name": "stdout",
     "output_type": "stream",
     "text": [
      "The average accuracy of the model on 5-fold cross validation is: 83.6\n"
     ]
    }
   ],
   "source": [
    "cv_score_mean(logReg_Model,X_test,y_test)"
   ]
  },
  {
   "cell_type": "markdown",
   "metadata": {},
   "source": [
    "### Text Review Analysis for Dataset 3- \"Restaurants\" with Logistic Regression Model Trained on Dataset 2"
   ]
  },
  {
   "cell_type": "markdown",
   "metadata": {},
   "source": [
    "#### Testing Logistic Regression Model on Dataset 3, Model Trained on Dataset 2"
   ]
  },
  {
   "cell_type": "code",
   "execution_count": 117,
   "metadata": {},
   "outputs": [
    {
     "data": {
      "text/html": [
       "<div>\n",
       "<style scoped>\n",
       "    .dataframe tbody tr th:only-of-type {\n",
       "        vertical-align: middle;\n",
       "    }\n",
       "\n",
       "    .dataframe tbody tr th {\n",
       "        vertical-align: top;\n",
       "    }\n",
       "\n",
       "    .dataframe thead th {\n",
       "        text-align: right;\n",
       "    }\n",
       "</style>\n",
       "<table border=\"1\" class=\"dataframe\">\n",
       "  <thead>\n",
       "    <tr style=\"text-align: right;\">\n",
       "      <th></th>\n",
       "      <th>review_len</th>\n",
       "      <th>punctuations</th>\n",
       "      <th>0</th>\n",
       "      <th>1</th>\n",
       "      <th>2</th>\n",
       "      <th>3</th>\n",
       "      <th>4</th>\n",
       "      <th>5</th>\n",
       "      <th>6</th>\n",
       "      <th>7</th>\n",
       "      <th>...</th>\n",
       "      <th>2340</th>\n",
       "      <th>2341</th>\n",
       "      <th>2342</th>\n",
       "      <th>2343</th>\n",
       "      <th>2344</th>\n",
       "      <th>2345</th>\n",
       "      <th>2346</th>\n",
       "      <th>2347</th>\n",
       "      <th>2348</th>\n",
       "      <th>2349</th>\n",
       "    </tr>\n",
       "  </thead>\n",
       "  <tbody>\n",
       "    <tr>\n",
       "      <th>0</th>\n",
       "      <td>1106</td>\n",
       "      <td>4.2</td>\n",
       "      <td>0.0</td>\n",
       "      <td>0.0</td>\n",
       "      <td>0.0</td>\n",
       "      <td>0.0</td>\n",
       "      <td>0.069229</td>\n",
       "      <td>0.0</td>\n",
       "      <td>0.0</td>\n",
       "      <td>0.0</td>\n",
       "      <td>...</td>\n",
       "      <td>0.0</td>\n",
       "      <td>0.0</td>\n",
       "      <td>0.0</td>\n",
       "      <td>0.0</td>\n",
       "      <td>0.0</td>\n",
       "      <td>0.0</td>\n",
       "      <td>0.0</td>\n",
       "      <td>0.0</td>\n",
       "      <td>0.0</td>\n",
       "      <td>0.0</td>\n",
       "    </tr>\n",
       "    <tr>\n",
       "      <th>1</th>\n",
       "      <td>490</td>\n",
       "      <td>3.9</td>\n",
       "      <td>0.0</td>\n",
       "      <td>0.0</td>\n",
       "      <td>0.0</td>\n",
       "      <td>0.0</td>\n",
       "      <td>0.000000</td>\n",
       "      <td>0.0</td>\n",
       "      <td>0.0</td>\n",
       "      <td>0.0</td>\n",
       "      <td>...</td>\n",
       "      <td>0.0</td>\n",
       "      <td>0.0</td>\n",
       "      <td>0.0</td>\n",
       "      <td>0.0</td>\n",
       "      <td>0.0</td>\n",
       "      <td>0.0</td>\n",
       "      <td>0.0</td>\n",
       "      <td>0.0</td>\n",
       "      <td>0.0</td>\n",
       "      <td>0.0</td>\n",
       "    </tr>\n",
       "    <tr>\n",
       "      <th>2</th>\n",
       "      <td>318</td>\n",
       "      <td>3.1</td>\n",
       "      <td>0.0</td>\n",
       "      <td>0.0</td>\n",
       "      <td>0.0</td>\n",
       "      <td>0.0</td>\n",
       "      <td>0.000000</td>\n",
       "      <td>0.0</td>\n",
       "      <td>0.0</td>\n",
       "      <td>0.0</td>\n",
       "      <td>...</td>\n",
       "      <td>0.0</td>\n",
       "      <td>0.0</td>\n",
       "      <td>0.0</td>\n",
       "      <td>0.0</td>\n",
       "      <td>0.0</td>\n",
       "      <td>0.0</td>\n",
       "      <td>0.0</td>\n",
       "      <td>0.0</td>\n",
       "      <td>0.0</td>\n",
       "      <td>0.0</td>\n",
       "    </tr>\n",
       "    <tr>\n",
       "      <th>3</th>\n",
       "      <td>273</td>\n",
       "      <td>3.3</td>\n",
       "      <td>0.0</td>\n",
       "      <td>0.0</td>\n",
       "      <td>0.0</td>\n",
       "      <td>0.0</td>\n",
       "      <td>0.000000</td>\n",
       "      <td>0.0</td>\n",
       "      <td>0.0</td>\n",
       "      <td>0.0</td>\n",
       "      <td>...</td>\n",
       "      <td>0.0</td>\n",
       "      <td>0.0</td>\n",
       "      <td>0.0</td>\n",
       "      <td>0.0</td>\n",
       "      <td>0.0</td>\n",
       "      <td>0.0</td>\n",
       "      <td>0.0</td>\n",
       "      <td>0.0</td>\n",
       "      <td>0.0</td>\n",
       "      <td>0.0</td>\n",
       "    </tr>\n",
       "    <tr>\n",
       "      <th>4</th>\n",
       "      <td>185</td>\n",
       "      <td>7.0</td>\n",
       "      <td>0.0</td>\n",
       "      <td>0.0</td>\n",
       "      <td>0.0</td>\n",
       "      <td>0.0</td>\n",
       "      <td>0.000000</td>\n",
       "      <td>0.0</td>\n",
       "      <td>0.0</td>\n",
       "      <td>0.0</td>\n",
       "      <td>...</td>\n",
       "      <td>0.0</td>\n",
       "      <td>0.0</td>\n",
       "      <td>0.0</td>\n",
       "      <td>0.0</td>\n",
       "      <td>0.0</td>\n",
       "      <td>0.0</td>\n",
       "      <td>0.0</td>\n",
       "      <td>0.0</td>\n",
       "      <td>0.0</td>\n",
       "      <td>0.0</td>\n",
       "    </tr>\n",
       "  </tbody>\n",
       "</table>\n",
       "<p>5 rows × 2352 columns</p>\n",
       "</div>"
      ],
      "text/plain": [
       "   review_len  punctuations    0    1    2    3         4    5    6    7  ...  \\\n",
       "0        1106           4.2  0.0  0.0  0.0  0.0  0.069229  0.0  0.0  0.0  ...   \n",
       "1         490           3.9  0.0  0.0  0.0  0.0  0.000000  0.0  0.0  0.0  ...   \n",
       "2         318           3.1  0.0  0.0  0.0  0.0  0.000000  0.0  0.0  0.0  ...   \n",
       "3         273           3.3  0.0  0.0  0.0  0.0  0.000000  0.0  0.0  0.0  ...   \n",
       "4         185           7.0  0.0  0.0  0.0  0.0  0.000000  0.0  0.0  0.0  ...   \n",
       "\n",
       "   2340  2341  2342  2343  2344  2345  2346  2347  2348  2349  \n",
       "0   0.0   0.0   0.0   0.0   0.0   0.0   0.0   0.0   0.0   0.0  \n",
       "1   0.0   0.0   0.0   0.0   0.0   0.0   0.0   0.0   0.0   0.0  \n",
       "2   0.0   0.0   0.0   0.0   0.0   0.0   0.0   0.0   0.0   0.0  \n",
       "3   0.0   0.0   0.0   0.0   0.0   0.0   0.0   0.0   0.0   0.0  \n",
       "4   0.0   0.0   0.0   0.0   0.0   0.0   0.0   0.0   0.0   0.0  \n",
       "\n",
       "[5 rows x 2352 columns]"
      ]
     },
     "execution_count": 117,
     "metadata": {},
     "output_type": "execute_result"
    }
   ],
   "source": [
    "X_features = X_features_3\n",
    "X_features.head()"
   ]
  },
  {
   "cell_type": "code",
   "execution_count": 118,
   "metadata": {},
   "outputs": [],
   "source": [
    "_normalize_length_punct()"
   ]
  },
  {
   "cell_type": "code",
   "execution_count": 119,
   "metadata": {},
   "outputs": [
    {
     "data": {
      "text/html": [
       "<div>\n",
       "<style scoped>\n",
       "    .dataframe tbody tr th:only-of-type {\n",
       "        vertical-align: middle;\n",
       "    }\n",
       "\n",
       "    .dataframe tbody tr th {\n",
       "        vertical-align: top;\n",
       "    }\n",
       "\n",
       "    .dataframe thead th {\n",
       "        text-align: right;\n",
       "    }\n",
       "</style>\n",
       "<table border=\"1\" class=\"dataframe\">\n",
       "  <thead>\n",
       "    <tr style=\"text-align: right;\">\n",
       "      <th></th>\n",
       "      <th>review_len</th>\n",
       "      <th>punctuations</th>\n",
       "      <th>0</th>\n",
       "      <th>1</th>\n",
       "      <th>2</th>\n",
       "      <th>3</th>\n",
       "      <th>4</th>\n",
       "      <th>5</th>\n",
       "      <th>6</th>\n",
       "      <th>7</th>\n",
       "      <th>...</th>\n",
       "      <th>2340</th>\n",
       "      <th>2341</th>\n",
       "      <th>2342</th>\n",
       "      <th>2343</th>\n",
       "      <th>2344</th>\n",
       "      <th>2345</th>\n",
       "      <th>2346</th>\n",
       "      <th>2347</th>\n",
       "      <th>2348</th>\n",
       "      <th>2349</th>\n",
       "    </tr>\n",
       "  </thead>\n",
       "  <tbody>\n",
       "    <tr>\n",
       "      <th>0</th>\n",
       "      <td>0.254395</td>\n",
       "      <td>0.291667</td>\n",
       "      <td>0.0</td>\n",
       "      <td>0.0</td>\n",
       "      <td>0.0</td>\n",
       "      <td>0.0</td>\n",
       "      <td>0.069229</td>\n",
       "      <td>0.0</td>\n",
       "      <td>0.0</td>\n",
       "      <td>0.0</td>\n",
       "      <td>...</td>\n",
       "      <td>0.0</td>\n",
       "      <td>0.0</td>\n",
       "      <td>0.0</td>\n",
       "      <td>0.0</td>\n",
       "      <td>0.0</td>\n",
       "      <td>0.0</td>\n",
       "      <td>0.0</td>\n",
       "      <td>0.0</td>\n",
       "      <td>0.0</td>\n",
       "      <td>0.0</td>\n",
       "    </tr>\n",
       "    <tr>\n",
       "      <th>1</th>\n",
       "      <td>0.099699</td>\n",
       "      <td>0.270833</td>\n",
       "      <td>0.0</td>\n",
       "      <td>0.0</td>\n",
       "      <td>0.0</td>\n",
       "      <td>0.0</td>\n",
       "      <td>0.000000</td>\n",
       "      <td>0.0</td>\n",
       "      <td>0.0</td>\n",
       "      <td>0.0</td>\n",
       "      <td>...</td>\n",
       "      <td>0.0</td>\n",
       "      <td>0.0</td>\n",
       "      <td>0.0</td>\n",
       "      <td>0.0</td>\n",
       "      <td>0.0</td>\n",
       "      <td>0.0</td>\n",
       "      <td>0.0</td>\n",
       "      <td>0.0</td>\n",
       "      <td>0.0</td>\n",
       "      <td>0.0</td>\n",
       "    </tr>\n",
       "    <tr>\n",
       "      <th>2</th>\n",
       "      <td>0.056504</td>\n",
       "      <td>0.215278</td>\n",
       "      <td>0.0</td>\n",
       "      <td>0.0</td>\n",
       "      <td>0.0</td>\n",
       "      <td>0.0</td>\n",
       "      <td>0.000000</td>\n",
       "      <td>0.0</td>\n",
       "      <td>0.0</td>\n",
       "      <td>0.0</td>\n",
       "      <td>...</td>\n",
       "      <td>0.0</td>\n",
       "      <td>0.0</td>\n",
       "      <td>0.0</td>\n",
       "      <td>0.0</td>\n",
       "      <td>0.0</td>\n",
       "      <td>0.0</td>\n",
       "      <td>0.0</td>\n",
       "      <td>0.0</td>\n",
       "      <td>0.0</td>\n",
       "      <td>0.0</td>\n",
       "    </tr>\n",
       "    <tr>\n",
       "      <th>3</th>\n",
       "      <td>0.045203</td>\n",
       "      <td>0.229167</td>\n",
       "      <td>0.0</td>\n",
       "      <td>0.0</td>\n",
       "      <td>0.0</td>\n",
       "      <td>0.0</td>\n",
       "      <td>0.000000</td>\n",
       "      <td>0.0</td>\n",
       "      <td>0.0</td>\n",
       "      <td>0.0</td>\n",
       "      <td>...</td>\n",
       "      <td>0.0</td>\n",
       "      <td>0.0</td>\n",
       "      <td>0.0</td>\n",
       "      <td>0.0</td>\n",
       "      <td>0.0</td>\n",
       "      <td>0.0</td>\n",
       "      <td>0.0</td>\n",
       "      <td>0.0</td>\n",
       "      <td>0.0</td>\n",
       "      <td>0.0</td>\n",
       "    </tr>\n",
       "    <tr>\n",
       "      <th>4</th>\n",
       "      <td>0.023104</td>\n",
       "      <td>0.486111</td>\n",
       "      <td>0.0</td>\n",
       "      <td>0.0</td>\n",
       "      <td>0.0</td>\n",
       "      <td>0.0</td>\n",
       "      <td>0.000000</td>\n",
       "      <td>0.0</td>\n",
       "      <td>0.0</td>\n",
       "      <td>0.0</td>\n",
       "      <td>...</td>\n",
       "      <td>0.0</td>\n",
       "      <td>0.0</td>\n",
       "      <td>0.0</td>\n",
       "      <td>0.0</td>\n",
       "      <td>0.0</td>\n",
       "      <td>0.0</td>\n",
       "      <td>0.0</td>\n",
       "      <td>0.0</td>\n",
       "      <td>0.0</td>\n",
       "      <td>0.0</td>\n",
       "    </tr>\n",
       "  </tbody>\n",
       "</table>\n",
       "<p>5 rows × 2352 columns</p>\n",
       "</div>"
      ],
      "text/plain": [
       "   review_len  punctuations    0    1    2    3         4    5    6    7  ...  \\\n",
       "0    0.254395      0.291667  0.0  0.0  0.0  0.0  0.069229  0.0  0.0  0.0  ...   \n",
       "1    0.099699      0.270833  0.0  0.0  0.0  0.0  0.000000  0.0  0.0  0.0  ...   \n",
       "2    0.056504      0.215278  0.0  0.0  0.0  0.0  0.000000  0.0  0.0  0.0  ...   \n",
       "3    0.045203      0.229167  0.0  0.0  0.0  0.0  0.000000  0.0  0.0  0.0  ...   \n",
       "4    0.023104      0.486111  0.0  0.0  0.0  0.0  0.000000  0.0  0.0  0.0  ...   \n",
       "\n",
       "   2340  2341  2342  2343  2344  2345  2346  2347  2348  2349  \n",
       "0   0.0   0.0   0.0   0.0   0.0   0.0   0.0   0.0   0.0   0.0  \n",
       "1   0.0   0.0   0.0   0.0   0.0   0.0   0.0   0.0   0.0   0.0  \n",
       "2   0.0   0.0   0.0   0.0   0.0   0.0   0.0   0.0   0.0   0.0  \n",
       "3   0.0   0.0   0.0   0.0   0.0   0.0   0.0   0.0   0.0   0.0  \n",
       "4   0.0   0.0   0.0   0.0   0.0   0.0   0.0   0.0   0.0   0.0  \n",
       "\n",
       "[5 rows x 2352 columns]"
      ]
     },
     "execution_count": 119,
     "metadata": {},
     "output_type": "execute_result"
    }
   ],
   "source": [
    "X_features.head()"
   ]
  },
  {
   "cell_type": "code",
   "execution_count": 120,
   "metadata": {},
   "outputs": [],
   "source": [
    "y = dataset3['rating_type'].values"
   ]
  },
  {
   "cell_type": "code",
   "execution_count": 121,
   "metadata": {},
   "outputs": [],
   "source": [
    "y\n",
    "y_test=y\n",
    "X_test=X_features"
   ]
  },
  {
   "cell_type": "code",
   "execution_count": 122,
   "metadata": {},
   "outputs": [
    {
     "name": "stdout",
     "output_type": "stream",
     "text": [
      "------------ Logistic Regression Classifier Performance Metrics ------------\n",
      "F-score: 50.0 \n",
      "Precision: 58.4 \n",
      "Recall: 43.6 \n",
      "Accuracy: 49.2 \n"
     ]
    }
   ],
   "source": [
    "logRegMetrics_3 = evaluate_LogReg(logReg_Model, X_test, y_test)"
   ]
  },
  {
   "cell_type": "code",
   "execution_count": 123,
   "metadata": {},
   "outputs": [
    {
     "name": "stdout",
     "output_type": "stream",
     "text": [
      "The average accuracy of the model on 5-fold cross validation is: 80.8\n"
     ]
    }
   ],
   "source": [
    "cv_score_mean(logReg_Model,X_test,y_test)"
   ]
  },
  {
   "cell_type": "markdown",
   "metadata": {},
   "source": [
    "### Classification Evaluation"
   ]
  },
  {
   "cell_type": "markdown",
   "metadata": {},
   "source": [
    "#### Model Trained on Dataset 2, tested on Dataset 1 and Dataset 3"
   ]
  },
  {
   "cell_type": "code",
   "execution_count": 124,
   "metadata": {},
   "outputs": [],
   "source": [
    "ModelEvaluation_2 = pd.DataFrame({\n",
    "    'Dataset 1': logRegMetrics_1,\n",
    "    'Dataset 2': logRegMetrics_2,\n",
    "    'Dataset 3': logRegMetrics_3\n",
    "}, index=['precision', 'recall', 'fscore', 'accuracy','true negatives','false positives','false negatives','true positives']\n",
    ").T\n",
    "ModelEvaluation_2[\"precision\"] = round(ModelEvaluation_2[\"precision\"]*100,2)\n",
    "ModelEvaluation_2[\"recall\"] = round(ModelEvaluation_2[\"recall\"]*100,2)\n",
    "ModelEvaluation_2[\"fscore\"] = round(ModelEvaluation_2[\"fscore\"]*100,2)\n",
    "ModelEvaluation_2[\"accuracy\"] = round(ModelEvaluation_2[\"accuracy\"]*100,2)"
   ]
  },
  {
   "cell_type": "code",
   "execution_count": 125,
   "metadata": {
    "scrolled": true
   },
   "outputs": [
    {
     "data": {
      "text/html": [
       "<div>\n",
       "<style scoped>\n",
       "    .dataframe tbody tr th:only-of-type {\n",
       "        vertical-align: middle;\n",
       "    }\n",
       "\n",
       "    .dataframe tbody tr th {\n",
       "        vertical-align: top;\n",
       "    }\n",
       "\n",
       "    .dataframe thead th {\n",
       "        text-align: right;\n",
       "    }\n",
       "</style>\n",
       "<table border=\"1\" class=\"dataframe\">\n",
       "  <thead>\n",
       "    <tr style=\"text-align: right;\">\n",
       "      <th></th>\n",
       "      <th>precision</th>\n",
       "      <th>recall</th>\n",
       "      <th>fscore</th>\n",
       "      <th>accuracy</th>\n",
       "      <th>true negatives</th>\n",
       "      <th>false positives</th>\n",
       "      <th>false negatives</th>\n",
       "      <th>true positives</th>\n",
       "    </tr>\n",
       "  </thead>\n",
       "  <tbody>\n",
       "    <tr>\n",
       "      <th>Dataset 1</th>\n",
       "      <td>73.46</td>\n",
       "      <td>67.03</td>\n",
       "      <td>70.10</td>\n",
       "      <td>58.2</td>\n",
       "      <td>184.0</td>\n",
       "      <td>354.0</td>\n",
       "      <td>482.0</td>\n",
       "      <td>980.0</td>\n",
       "    </tr>\n",
       "    <tr>\n",
       "      <th>Dataset 2</th>\n",
       "      <td>87.92</td>\n",
       "      <td>95.05</td>\n",
       "      <td>91.34</td>\n",
       "      <td>90.0</td>\n",
       "      <td>149.0</td>\n",
       "      <td>29.0</td>\n",
       "      <td>11.0</td>\n",
       "      <td>211.0</td>\n",
       "    </tr>\n",
       "    <tr>\n",
       "      <th>Dataset 3</th>\n",
       "      <td>58.41</td>\n",
       "      <td>43.63</td>\n",
       "      <td>49.95</td>\n",
       "      <td>49.2</td>\n",
       "      <td>477.0</td>\n",
       "      <td>361.0</td>\n",
       "      <td>655.0</td>\n",
       "      <td>507.0</td>\n",
       "    </tr>\n",
       "  </tbody>\n",
       "</table>\n",
       "</div>"
      ],
      "text/plain": [
       "           precision  recall  fscore  accuracy  true negatives  \\\n",
       "Dataset 1      73.46   67.03   70.10      58.2           184.0   \n",
       "Dataset 2      87.92   95.05   91.34      90.0           149.0   \n",
       "Dataset 3      58.41   43.63   49.95      49.2           477.0   \n",
       "\n",
       "           false positives  false negatives  true positives  \n",
       "Dataset 1            354.0            482.0           980.0  \n",
       "Dataset 2             29.0             11.0           211.0  \n",
       "Dataset 3            361.0            655.0           507.0  "
      ]
     },
     "execution_count": 125,
     "metadata": {},
     "output_type": "execute_result"
    }
   ],
   "source": [
    "ModelEvaluation_2"
   ]
  },
  {
   "cell_type": "markdown",
   "metadata": {},
   "source": [
    "From the above table for the evaluation of the Logistic Regression Model after training on Dataset 2, the accuracy seems to be higher on when trained and tested on Dataset2, however, the accuracy is relatively low in other two datasets.<br>\n",
    "The f-score of the model is low as well, however, the number of false positives is comparitively low in this model, even when tested on datasets other than the training set."
   ]
  },
  {
   "cell_type": "markdown",
   "metadata": {},
   "source": [
    "A thorough analysis of the metrics of all the models is in the last section of the project."
   ]
  },
  {
   "cell_type": "markdown",
   "metadata": {},
   "source": [
    "## Training Logistic Regression Model on Dataset 3 - Restaurants"
   ]
  },
  {
   "cell_type": "code",
   "execution_count": 126,
   "metadata": {},
   "outputs": [
    {
     "data": {
      "text/html": [
       "<div>\n",
       "<style scoped>\n",
       "    .dataframe tbody tr th:only-of-type {\n",
       "        vertical-align: middle;\n",
       "    }\n",
       "\n",
       "    .dataframe tbody tr th {\n",
       "        vertical-align: top;\n",
       "    }\n",
       "\n",
       "    .dataframe thead th {\n",
       "        text-align: right;\n",
       "    }\n",
       "</style>\n",
       "<table border=\"1\" class=\"dataframe\">\n",
       "  <thead>\n",
       "    <tr style=\"text-align: right;\">\n",
       "      <th></th>\n",
       "      <th>review_len</th>\n",
       "      <th>punctuations</th>\n",
       "      <th>0</th>\n",
       "      <th>1</th>\n",
       "      <th>2</th>\n",
       "      <th>3</th>\n",
       "      <th>4</th>\n",
       "      <th>5</th>\n",
       "      <th>6</th>\n",
       "      <th>7</th>\n",
       "      <th>...</th>\n",
       "      <th>2340</th>\n",
       "      <th>2341</th>\n",
       "      <th>2342</th>\n",
       "      <th>2343</th>\n",
       "      <th>2344</th>\n",
       "      <th>2345</th>\n",
       "      <th>2346</th>\n",
       "      <th>2347</th>\n",
       "      <th>2348</th>\n",
       "      <th>2349</th>\n",
       "    </tr>\n",
       "  </thead>\n",
       "  <tbody>\n",
       "    <tr>\n",
       "      <th>0</th>\n",
       "      <td>0.254395</td>\n",
       "      <td>0.291667</td>\n",
       "      <td>0.0</td>\n",
       "      <td>0.0</td>\n",
       "      <td>0.0</td>\n",
       "      <td>0.0</td>\n",
       "      <td>0.069229</td>\n",
       "      <td>0.0</td>\n",
       "      <td>0.0</td>\n",
       "      <td>0.0</td>\n",
       "      <td>...</td>\n",
       "      <td>0.0</td>\n",
       "      <td>0.0</td>\n",
       "      <td>0.0</td>\n",
       "      <td>0.0</td>\n",
       "      <td>0.0</td>\n",
       "      <td>0.0</td>\n",
       "      <td>0.0</td>\n",
       "      <td>0.0</td>\n",
       "      <td>0.0</td>\n",
       "      <td>0.0</td>\n",
       "    </tr>\n",
       "    <tr>\n",
       "      <th>1</th>\n",
       "      <td>0.099699</td>\n",
       "      <td>0.270833</td>\n",
       "      <td>0.0</td>\n",
       "      <td>0.0</td>\n",
       "      <td>0.0</td>\n",
       "      <td>0.0</td>\n",
       "      <td>0.000000</td>\n",
       "      <td>0.0</td>\n",
       "      <td>0.0</td>\n",
       "      <td>0.0</td>\n",
       "      <td>...</td>\n",
       "      <td>0.0</td>\n",
       "      <td>0.0</td>\n",
       "      <td>0.0</td>\n",
       "      <td>0.0</td>\n",
       "      <td>0.0</td>\n",
       "      <td>0.0</td>\n",
       "      <td>0.0</td>\n",
       "      <td>0.0</td>\n",
       "      <td>0.0</td>\n",
       "      <td>0.0</td>\n",
       "    </tr>\n",
       "    <tr>\n",
       "      <th>2</th>\n",
       "      <td>0.056504</td>\n",
       "      <td>0.215278</td>\n",
       "      <td>0.0</td>\n",
       "      <td>0.0</td>\n",
       "      <td>0.0</td>\n",
       "      <td>0.0</td>\n",
       "      <td>0.000000</td>\n",
       "      <td>0.0</td>\n",
       "      <td>0.0</td>\n",
       "      <td>0.0</td>\n",
       "      <td>...</td>\n",
       "      <td>0.0</td>\n",
       "      <td>0.0</td>\n",
       "      <td>0.0</td>\n",
       "      <td>0.0</td>\n",
       "      <td>0.0</td>\n",
       "      <td>0.0</td>\n",
       "      <td>0.0</td>\n",
       "      <td>0.0</td>\n",
       "      <td>0.0</td>\n",
       "      <td>0.0</td>\n",
       "    </tr>\n",
       "    <tr>\n",
       "      <th>3</th>\n",
       "      <td>0.045203</td>\n",
       "      <td>0.229167</td>\n",
       "      <td>0.0</td>\n",
       "      <td>0.0</td>\n",
       "      <td>0.0</td>\n",
       "      <td>0.0</td>\n",
       "      <td>0.000000</td>\n",
       "      <td>0.0</td>\n",
       "      <td>0.0</td>\n",
       "      <td>0.0</td>\n",
       "      <td>...</td>\n",
       "      <td>0.0</td>\n",
       "      <td>0.0</td>\n",
       "      <td>0.0</td>\n",
       "      <td>0.0</td>\n",
       "      <td>0.0</td>\n",
       "      <td>0.0</td>\n",
       "      <td>0.0</td>\n",
       "      <td>0.0</td>\n",
       "      <td>0.0</td>\n",
       "      <td>0.0</td>\n",
       "    </tr>\n",
       "    <tr>\n",
       "      <th>4</th>\n",
       "      <td>0.023104</td>\n",
       "      <td>0.486111</td>\n",
       "      <td>0.0</td>\n",
       "      <td>0.0</td>\n",
       "      <td>0.0</td>\n",
       "      <td>0.0</td>\n",
       "      <td>0.000000</td>\n",
       "      <td>0.0</td>\n",
       "      <td>0.0</td>\n",
       "      <td>0.0</td>\n",
       "      <td>...</td>\n",
       "      <td>0.0</td>\n",
       "      <td>0.0</td>\n",
       "      <td>0.0</td>\n",
       "      <td>0.0</td>\n",
       "      <td>0.0</td>\n",
       "      <td>0.0</td>\n",
       "      <td>0.0</td>\n",
       "      <td>0.0</td>\n",
       "      <td>0.0</td>\n",
       "      <td>0.0</td>\n",
       "    </tr>\n",
       "  </tbody>\n",
       "</table>\n",
       "<p>5 rows × 2352 columns</p>\n",
       "</div>"
      ],
      "text/plain": [
       "   review_len  punctuations    0    1    2    3         4    5    6    7  ...  \\\n",
       "0    0.254395      0.291667  0.0  0.0  0.0  0.0  0.069229  0.0  0.0  0.0  ...   \n",
       "1    0.099699      0.270833  0.0  0.0  0.0  0.0  0.000000  0.0  0.0  0.0  ...   \n",
       "2    0.056504      0.215278  0.0  0.0  0.0  0.0  0.000000  0.0  0.0  0.0  ...   \n",
       "3    0.045203      0.229167  0.0  0.0  0.0  0.0  0.000000  0.0  0.0  0.0  ...   \n",
       "4    0.023104      0.486111  0.0  0.0  0.0  0.0  0.000000  0.0  0.0  0.0  ...   \n",
       "\n",
       "   2340  2341  2342  2343  2344  2345  2346  2347  2348  2349  \n",
       "0   0.0   0.0   0.0   0.0   0.0   0.0   0.0   0.0   0.0   0.0  \n",
       "1   0.0   0.0   0.0   0.0   0.0   0.0   0.0   0.0   0.0   0.0  \n",
       "2   0.0   0.0   0.0   0.0   0.0   0.0   0.0   0.0   0.0   0.0  \n",
       "3   0.0   0.0   0.0   0.0   0.0   0.0   0.0   0.0   0.0   0.0  \n",
       "4   0.0   0.0   0.0   0.0   0.0   0.0   0.0   0.0   0.0   0.0  \n",
       "\n",
       "[5 rows x 2352 columns]"
      ]
     },
     "execution_count": 126,
     "metadata": {},
     "output_type": "execute_result"
    }
   ],
   "source": [
    "# Assigning X_features the saved vectorized features of Dataset 3 previously\n",
    "X_features = X_features_3\n",
    "X_features.head()"
   ]
  },
  {
   "cell_type": "code",
   "execution_count": 127,
   "metadata": {},
   "outputs": [],
   "source": [
    "# Call to normalization function\n",
    "_normalize_length_punct()"
   ]
  },
  {
   "cell_type": "code",
   "execution_count": 128,
   "metadata": {},
   "outputs": [
    {
     "data": {
      "text/html": [
       "<div>\n",
       "<style scoped>\n",
       "    .dataframe tbody tr th:only-of-type {\n",
       "        vertical-align: middle;\n",
       "    }\n",
       "\n",
       "    .dataframe tbody tr th {\n",
       "        vertical-align: top;\n",
       "    }\n",
       "\n",
       "    .dataframe thead th {\n",
       "        text-align: right;\n",
       "    }\n",
       "</style>\n",
       "<table border=\"1\" class=\"dataframe\">\n",
       "  <thead>\n",
       "    <tr style=\"text-align: right;\">\n",
       "      <th></th>\n",
       "      <th>review_len</th>\n",
       "      <th>punctuations</th>\n",
       "      <th>0</th>\n",
       "      <th>1</th>\n",
       "      <th>2</th>\n",
       "      <th>3</th>\n",
       "      <th>4</th>\n",
       "      <th>5</th>\n",
       "      <th>6</th>\n",
       "      <th>7</th>\n",
       "      <th>...</th>\n",
       "      <th>2340</th>\n",
       "      <th>2341</th>\n",
       "      <th>2342</th>\n",
       "      <th>2343</th>\n",
       "      <th>2344</th>\n",
       "      <th>2345</th>\n",
       "      <th>2346</th>\n",
       "      <th>2347</th>\n",
       "      <th>2348</th>\n",
       "      <th>2349</th>\n",
       "    </tr>\n",
       "  </thead>\n",
       "  <tbody>\n",
       "    <tr>\n",
       "      <th>0</th>\n",
       "      <td>0.254395</td>\n",
       "      <td>0.291667</td>\n",
       "      <td>0.0</td>\n",
       "      <td>0.0</td>\n",
       "      <td>0.0</td>\n",
       "      <td>0.0</td>\n",
       "      <td>0.069229</td>\n",
       "      <td>0.0</td>\n",
       "      <td>0.0</td>\n",
       "      <td>0.0</td>\n",
       "      <td>...</td>\n",
       "      <td>0.0</td>\n",
       "      <td>0.0</td>\n",
       "      <td>0.0</td>\n",
       "      <td>0.0</td>\n",
       "      <td>0.0</td>\n",
       "      <td>0.0</td>\n",
       "      <td>0.0</td>\n",
       "      <td>0.0</td>\n",
       "      <td>0.0</td>\n",
       "      <td>0.0</td>\n",
       "    </tr>\n",
       "    <tr>\n",
       "      <th>1</th>\n",
       "      <td>0.099699</td>\n",
       "      <td>0.270833</td>\n",
       "      <td>0.0</td>\n",
       "      <td>0.0</td>\n",
       "      <td>0.0</td>\n",
       "      <td>0.0</td>\n",
       "      <td>0.000000</td>\n",
       "      <td>0.0</td>\n",
       "      <td>0.0</td>\n",
       "      <td>0.0</td>\n",
       "      <td>...</td>\n",
       "      <td>0.0</td>\n",
       "      <td>0.0</td>\n",
       "      <td>0.0</td>\n",
       "      <td>0.0</td>\n",
       "      <td>0.0</td>\n",
       "      <td>0.0</td>\n",
       "      <td>0.0</td>\n",
       "      <td>0.0</td>\n",
       "      <td>0.0</td>\n",
       "      <td>0.0</td>\n",
       "    </tr>\n",
       "    <tr>\n",
       "      <th>2</th>\n",
       "      <td>0.056504</td>\n",
       "      <td>0.215278</td>\n",
       "      <td>0.0</td>\n",
       "      <td>0.0</td>\n",
       "      <td>0.0</td>\n",
       "      <td>0.0</td>\n",
       "      <td>0.000000</td>\n",
       "      <td>0.0</td>\n",
       "      <td>0.0</td>\n",
       "      <td>0.0</td>\n",
       "      <td>...</td>\n",
       "      <td>0.0</td>\n",
       "      <td>0.0</td>\n",
       "      <td>0.0</td>\n",
       "      <td>0.0</td>\n",
       "      <td>0.0</td>\n",
       "      <td>0.0</td>\n",
       "      <td>0.0</td>\n",
       "      <td>0.0</td>\n",
       "      <td>0.0</td>\n",
       "      <td>0.0</td>\n",
       "    </tr>\n",
       "    <tr>\n",
       "      <th>3</th>\n",
       "      <td>0.045203</td>\n",
       "      <td>0.229167</td>\n",
       "      <td>0.0</td>\n",
       "      <td>0.0</td>\n",
       "      <td>0.0</td>\n",
       "      <td>0.0</td>\n",
       "      <td>0.000000</td>\n",
       "      <td>0.0</td>\n",
       "      <td>0.0</td>\n",
       "      <td>0.0</td>\n",
       "      <td>...</td>\n",
       "      <td>0.0</td>\n",
       "      <td>0.0</td>\n",
       "      <td>0.0</td>\n",
       "      <td>0.0</td>\n",
       "      <td>0.0</td>\n",
       "      <td>0.0</td>\n",
       "      <td>0.0</td>\n",
       "      <td>0.0</td>\n",
       "      <td>0.0</td>\n",
       "      <td>0.0</td>\n",
       "    </tr>\n",
       "    <tr>\n",
       "      <th>4</th>\n",
       "      <td>0.023104</td>\n",
       "      <td>0.486111</td>\n",
       "      <td>0.0</td>\n",
       "      <td>0.0</td>\n",
       "      <td>0.0</td>\n",
       "      <td>0.0</td>\n",
       "      <td>0.000000</td>\n",
       "      <td>0.0</td>\n",
       "      <td>0.0</td>\n",
       "      <td>0.0</td>\n",
       "      <td>...</td>\n",
       "      <td>0.0</td>\n",
       "      <td>0.0</td>\n",
       "      <td>0.0</td>\n",
       "      <td>0.0</td>\n",
       "      <td>0.0</td>\n",
       "      <td>0.0</td>\n",
       "      <td>0.0</td>\n",
       "      <td>0.0</td>\n",
       "      <td>0.0</td>\n",
       "      <td>0.0</td>\n",
       "    </tr>\n",
       "  </tbody>\n",
       "</table>\n",
       "<p>5 rows × 2352 columns</p>\n",
       "</div>"
      ],
      "text/plain": [
       "   review_len  punctuations    0    1    2    3         4    5    6    7  ...  \\\n",
       "0    0.254395      0.291667  0.0  0.0  0.0  0.0  0.069229  0.0  0.0  0.0  ...   \n",
       "1    0.099699      0.270833  0.0  0.0  0.0  0.0  0.000000  0.0  0.0  0.0  ...   \n",
       "2    0.056504      0.215278  0.0  0.0  0.0  0.0  0.000000  0.0  0.0  0.0  ...   \n",
       "3    0.045203      0.229167  0.0  0.0  0.0  0.0  0.000000  0.0  0.0  0.0  ...   \n",
       "4    0.023104      0.486111  0.0  0.0  0.0  0.0  0.000000  0.0  0.0  0.0  ...   \n",
       "\n",
       "   2340  2341  2342  2343  2344  2345  2346  2347  2348  2349  \n",
       "0   0.0   0.0   0.0   0.0   0.0   0.0   0.0   0.0   0.0   0.0  \n",
       "1   0.0   0.0   0.0   0.0   0.0   0.0   0.0   0.0   0.0   0.0  \n",
       "2   0.0   0.0   0.0   0.0   0.0   0.0   0.0   0.0   0.0   0.0  \n",
       "3   0.0   0.0   0.0   0.0   0.0   0.0   0.0   0.0   0.0   0.0  \n",
       "4   0.0   0.0   0.0   0.0   0.0   0.0   0.0   0.0   0.0   0.0  \n",
       "\n",
       "[5 rows x 2352 columns]"
      ]
     },
     "execution_count": 128,
     "metadata": {},
     "output_type": "execute_result"
    }
   ],
   "source": [
    "X_features.head()"
   ]
  },
  {
   "cell_type": "code",
   "execution_count": 129,
   "metadata": {},
   "outputs": [],
   "source": [
    "y = dataset3['rating_type'].values"
   ]
  },
  {
   "cell_type": "markdown",
   "metadata": {},
   "source": [
    "#### Splitting the Data in to training and test set"
   ]
  },
  {
   "cell_type": "code",
   "execution_count": 130,
   "metadata": {},
   "outputs": [],
   "source": [
    "X_train, X_test, y_train, y_test = train_test_split(X_features, y, test_size = 0.20, random_state = 25)"
   ]
  },
  {
   "cell_type": "markdown",
   "metadata": {},
   "source": [
    "#### Training Logisitic Regression Model on Dataset 3- Restaurants"
   ]
  },
  {
   "cell_type": "code",
   "execution_count": 131,
   "metadata": {},
   "outputs": [],
   "source": [
    "logReg_Model = logRegModel_train()"
   ]
  },
  {
   "cell_type": "code",
   "execution_count": 132,
   "metadata": {},
   "outputs": [
    {
     "name": "stdout",
     "output_type": "stream",
     "text": [
      "------------ Logistic Regression Classifier Performance Metrics ------------\n",
      "F-score: 89.0 \n",
      "Precision: 87.0 \n",
      "Recall: 91.10000000000001 \n",
      "Accuracy: 86.8 \n"
     ]
    }
   ],
   "source": [
    "logRegMetrics_3 = evaluate_LogReg(logReg_Model, X_test, y_test)"
   ]
  },
  {
   "cell_type": "code",
   "execution_count": 133,
   "metadata": {},
   "outputs": [
    {
     "name": "stdout",
     "output_type": "stream",
     "text": [
      "The average accuracy of the model on 5-fold cross validation is: 83.2\n"
     ]
    }
   ],
   "source": [
    "cv_score_mean(logReg_Model,X_test,y_test)"
   ]
  },
  {
   "cell_type": "markdown",
   "metadata": {},
   "source": [
    "### Text Review Analysis for Dataset 1- Cafes with Logistic Regression Model Trained on Dataset 3"
   ]
  },
  {
   "cell_type": "markdown",
   "metadata": {},
   "source": [
    "#### Testing Logistic Regression Model on Dataset 1, model trained on Dataset 3"
   ]
  },
  {
   "cell_type": "code",
   "execution_count": 134,
   "metadata": {},
   "outputs": [
    {
     "data": {
      "text/html": [
       "<div>\n",
       "<style scoped>\n",
       "    .dataframe tbody tr th:only-of-type {\n",
       "        vertical-align: middle;\n",
       "    }\n",
       "\n",
       "    .dataframe tbody tr th {\n",
       "        vertical-align: top;\n",
       "    }\n",
       "\n",
       "    .dataframe thead th {\n",
       "        text-align: right;\n",
       "    }\n",
       "</style>\n",
       "<table border=\"1\" class=\"dataframe\">\n",
       "  <thead>\n",
       "    <tr style=\"text-align: right;\">\n",
       "      <th></th>\n",
       "      <th>review_len</th>\n",
       "      <th>punctuations</th>\n",
       "      <th>0</th>\n",
       "      <th>1</th>\n",
       "      <th>2</th>\n",
       "      <th>3</th>\n",
       "      <th>4</th>\n",
       "      <th>5</th>\n",
       "      <th>6</th>\n",
       "      <th>7</th>\n",
       "      <th>...</th>\n",
       "      <th>2340</th>\n",
       "      <th>2341</th>\n",
       "      <th>2342</th>\n",
       "      <th>2343</th>\n",
       "      <th>2344</th>\n",
       "      <th>2345</th>\n",
       "      <th>2346</th>\n",
       "      <th>2347</th>\n",
       "      <th>2348</th>\n",
       "      <th>2349</th>\n",
       "    </tr>\n",
       "  </thead>\n",
       "  <tbody>\n",
       "    <tr>\n",
       "      <th>0</th>\n",
       "      <td>0.306266</td>\n",
       "      <td>0.024752</td>\n",
       "      <td>0.186419</td>\n",
       "      <td>0.0</td>\n",
       "      <td>0.0</td>\n",
       "      <td>0.0</td>\n",
       "      <td>0.0</td>\n",
       "      <td>0.0</td>\n",
       "      <td>0.0</td>\n",
       "      <td>0.0</td>\n",
       "      <td>...</td>\n",
       "      <td>0.0</td>\n",
       "      <td>0.0</td>\n",
       "      <td>0.0</td>\n",
       "      <td>0.0</td>\n",
       "      <td>0.0</td>\n",
       "      <td>0.0</td>\n",
       "      <td>0.0</td>\n",
       "      <td>0.0</td>\n",
       "      <td>0.0</td>\n",
       "      <td>0.0</td>\n",
       "    </tr>\n",
       "    <tr>\n",
       "      <th>1</th>\n",
       "      <td>0.047781</td>\n",
       "      <td>0.048267</td>\n",
       "      <td>0.000000</td>\n",
       "      <td>0.0</td>\n",
       "      <td>0.0</td>\n",
       "      <td>0.0</td>\n",
       "      <td>0.0</td>\n",
       "      <td>0.0</td>\n",
       "      <td>0.0</td>\n",
       "      <td>0.0</td>\n",
       "      <td>...</td>\n",
       "      <td>0.0</td>\n",
       "      <td>0.0</td>\n",
       "      <td>0.0</td>\n",
       "      <td>0.0</td>\n",
       "      <td>0.0</td>\n",
       "      <td>0.0</td>\n",
       "      <td>0.0</td>\n",
       "      <td>0.0</td>\n",
       "      <td>0.0</td>\n",
       "      <td>0.0</td>\n",
       "    </tr>\n",
       "    <tr>\n",
       "      <th>2</th>\n",
       "      <td>0.307311</td>\n",
       "      <td>0.051980</td>\n",
       "      <td>0.088271</td>\n",
       "      <td>0.0</td>\n",
       "      <td>0.0</td>\n",
       "      <td>0.0</td>\n",
       "      <td>0.0</td>\n",
       "      <td>0.0</td>\n",
       "      <td>0.0</td>\n",
       "      <td>0.0</td>\n",
       "      <td>...</td>\n",
       "      <td>0.0</td>\n",
       "      <td>0.0</td>\n",
       "      <td>0.0</td>\n",
       "      <td>0.0</td>\n",
       "      <td>0.0</td>\n",
       "      <td>0.0</td>\n",
       "      <td>0.0</td>\n",
       "      <td>0.0</td>\n",
       "      <td>0.0</td>\n",
       "      <td>0.0</td>\n",
       "    </tr>\n",
       "    <tr>\n",
       "      <th>3</th>\n",
       "      <td>0.082768</td>\n",
       "      <td>0.027228</td>\n",
       "      <td>0.000000</td>\n",
       "      <td>0.0</td>\n",
       "      <td>0.0</td>\n",
       "      <td>0.0</td>\n",
       "      <td>0.0</td>\n",
       "      <td>0.0</td>\n",
       "      <td>0.0</td>\n",
       "      <td>0.0</td>\n",
       "      <td>...</td>\n",
       "      <td>0.0</td>\n",
       "      <td>0.0</td>\n",
       "      <td>0.0</td>\n",
       "      <td>0.0</td>\n",
       "      <td>0.0</td>\n",
       "      <td>0.0</td>\n",
       "      <td>0.0</td>\n",
       "      <td>0.0</td>\n",
       "      <td>0.0</td>\n",
       "      <td>0.0</td>\n",
       "    </tr>\n",
       "    <tr>\n",
       "      <th>4</th>\n",
       "      <td>0.035770</td>\n",
       "      <td>0.033416</td>\n",
       "      <td>0.000000</td>\n",
       "      <td>0.0</td>\n",
       "      <td>0.0</td>\n",
       "      <td>0.0</td>\n",
       "      <td>0.0</td>\n",
       "      <td>0.0</td>\n",
       "      <td>0.0</td>\n",
       "      <td>0.0</td>\n",
       "      <td>...</td>\n",
       "      <td>0.0</td>\n",
       "      <td>0.0</td>\n",
       "      <td>0.0</td>\n",
       "      <td>0.0</td>\n",
       "      <td>0.0</td>\n",
       "      <td>0.0</td>\n",
       "      <td>0.0</td>\n",
       "      <td>0.0</td>\n",
       "      <td>0.0</td>\n",
       "      <td>0.0</td>\n",
       "    </tr>\n",
       "  </tbody>\n",
       "</table>\n",
       "<p>5 rows × 2352 columns</p>\n",
       "</div>"
      ],
      "text/plain": [
       "   review_len  punctuations         0    1    2    3    4    5    6    7  ...  \\\n",
       "0    0.306266      0.024752  0.186419  0.0  0.0  0.0  0.0  0.0  0.0  0.0  ...   \n",
       "1    0.047781      0.048267  0.000000  0.0  0.0  0.0  0.0  0.0  0.0  0.0  ...   \n",
       "2    0.307311      0.051980  0.088271  0.0  0.0  0.0  0.0  0.0  0.0  0.0  ...   \n",
       "3    0.082768      0.027228  0.000000  0.0  0.0  0.0  0.0  0.0  0.0  0.0  ...   \n",
       "4    0.035770      0.033416  0.000000  0.0  0.0  0.0  0.0  0.0  0.0  0.0  ...   \n",
       "\n",
       "   2340  2341  2342  2343  2344  2345  2346  2347  2348  2349  \n",
       "0   0.0   0.0   0.0   0.0   0.0   0.0   0.0   0.0   0.0   0.0  \n",
       "1   0.0   0.0   0.0   0.0   0.0   0.0   0.0   0.0   0.0   0.0  \n",
       "2   0.0   0.0   0.0   0.0   0.0   0.0   0.0   0.0   0.0   0.0  \n",
       "3   0.0   0.0   0.0   0.0   0.0   0.0   0.0   0.0   0.0   0.0  \n",
       "4   0.0   0.0   0.0   0.0   0.0   0.0   0.0   0.0   0.0   0.0  \n",
       "\n",
       "[5 rows x 2352 columns]"
      ]
     },
     "execution_count": 134,
     "metadata": {},
     "output_type": "execute_result"
    }
   ],
   "source": [
    "X_features = X_features_1\n",
    "X_features.head()"
   ]
  },
  {
   "cell_type": "code",
   "execution_count": 135,
   "metadata": {},
   "outputs": [],
   "source": [
    "_normalize_length_punct()"
   ]
  },
  {
   "cell_type": "code",
   "execution_count": 136,
   "metadata": {},
   "outputs": [
    {
     "data": {
      "text/html": [
       "<div>\n",
       "<style scoped>\n",
       "    .dataframe tbody tr th:only-of-type {\n",
       "        vertical-align: middle;\n",
       "    }\n",
       "\n",
       "    .dataframe tbody tr th {\n",
       "        vertical-align: top;\n",
       "    }\n",
       "\n",
       "    .dataframe thead th {\n",
       "        text-align: right;\n",
       "    }\n",
       "</style>\n",
       "<table border=\"1\" class=\"dataframe\">\n",
       "  <thead>\n",
       "    <tr style=\"text-align: right;\">\n",
       "      <th></th>\n",
       "      <th>review_len</th>\n",
       "      <th>punctuations</th>\n",
       "      <th>0</th>\n",
       "      <th>1</th>\n",
       "      <th>2</th>\n",
       "      <th>3</th>\n",
       "      <th>4</th>\n",
       "      <th>5</th>\n",
       "      <th>6</th>\n",
       "      <th>7</th>\n",
       "      <th>...</th>\n",
       "      <th>2340</th>\n",
       "      <th>2341</th>\n",
       "      <th>2342</th>\n",
       "      <th>2343</th>\n",
       "      <th>2344</th>\n",
       "      <th>2345</th>\n",
       "      <th>2346</th>\n",
       "      <th>2347</th>\n",
       "      <th>2348</th>\n",
       "      <th>2349</th>\n",
       "    </tr>\n",
       "  </thead>\n",
       "  <tbody>\n",
       "    <tr>\n",
       "      <th>0</th>\n",
       "      <td>0.306266</td>\n",
       "      <td>0.024752</td>\n",
       "      <td>0.186419</td>\n",
       "      <td>0.0</td>\n",
       "      <td>0.0</td>\n",
       "      <td>0.0</td>\n",
       "      <td>0.0</td>\n",
       "      <td>0.0</td>\n",
       "      <td>0.0</td>\n",
       "      <td>0.0</td>\n",
       "      <td>...</td>\n",
       "      <td>0.0</td>\n",
       "      <td>0.0</td>\n",
       "      <td>0.0</td>\n",
       "      <td>0.0</td>\n",
       "      <td>0.0</td>\n",
       "      <td>0.0</td>\n",
       "      <td>0.0</td>\n",
       "      <td>0.0</td>\n",
       "      <td>0.0</td>\n",
       "      <td>0.0</td>\n",
       "    </tr>\n",
       "    <tr>\n",
       "      <th>1</th>\n",
       "      <td>0.047781</td>\n",
       "      <td>0.048267</td>\n",
       "      <td>0.000000</td>\n",
       "      <td>0.0</td>\n",
       "      <td>0.0</td>\n",
       "      <td>0.0</td>\n",
       "      <td>0.0</td>\n",
       "      <td>0.0</td>\n",
       "      <td>0.0</td>\n",
       "      <td>0.0</td>\n",
       "      <td>...</td>\n",
       "      <td>0.0</td>\n",
       "      <td>0.0</td>\n",
       "      <td>0.0</td>\n",
       "      <td>0.0</td>\n",
       "      <td>0.0</td>\n",
       "      <td>0.0</td>\n",
       "      <td>0.0</td>\n",
       "      <td>0.0</td>\n",
       "      <td>0.0</td>\n",
       "      <td>0.0</td>\n",
       "    </tr>\n",
       "    <tr>\n",
       "      <th>2</th>\n",
       "      <td>0.307311</td>\n",
       "      <td>0.051980</td>\n",
       "      <td>0.088271</td>\n",
       "      <td>0.0</td>\n",
       "      <td>0.0</td>\n",
       "      <td>0.0</td>\n",
       "      <td>0.0</td>\n",
       "      <td>0.0</td>\n",
       "      <td>0.0</td>\n",
       "      <td>0.0</td>\n",
       "      <td>...</td>\n",
       "      <td>0.0</td>\n",
       "      <td>0.0</td>\n",
       "      <td>0.0</td>\n",
       "      <td>0.0</td>\n",
       "      <td>0.0</td>\n",
       "      <td>0.0</td>\n",
       "      <td>0.0</td>\n",
       "      <td>0.0</td>\n",
       "      <td>0.0</td>\n",
       "      <td>0.0</td>\n",
       "    </tr>\n",
       "    <tr>\n",
       "      <th>3</th>\n",
       "      <td>0.082768</td>\n",
       "      <td>0.027228</td>\n",
       "      <td>0.000000</td>\n",
       "      <td>0.0</td>\n",
       "      <td>0.0</td>\n",
       "      <td>0.0</td>\n",
       "      <td>0.0</td>\n",
       "      <td>0.0</td>\n",
       "      <td>0.0</td>\n",
       "      <td>0.0</td>\n",
       "      <td>...</td>\n",
       "      <td>0.0</td>\n",
       "      <td>0.0</td>\n",
       "      <td>0.0</td>\n",
       "      <td>0.0</td>\n",
       "      <td>0.0</td>\n",
       "      <td>0.0</td>\n",
       "      <td>0.0</td>\n",
       "      <td>0.0</td>\n",
       "      <td>0.0</td>\n",
       "      <td>0.0</td>\n",
       "    </tr>\n",
       "    <tr>\n",
       "      <th>4</th>\n",
       "      <td>0.035770</td>\n",
       "      <td>0.033416</td>\n",
       "      <td>0.000000</td>\n",
       "      <td>0.0</td>\n",
       "      <td>0.0</td>\n",
       "      <td>0.0</td>\n",
       "      <td>0.0</td>\n",
       "      <td>0.0</td>\n",
       "      <td>0.0</td>\n",
       "      <td>0.0</td>\n",
       "      <td>...</td>\n",
       "      <td>0.0</td>\n",
       "      <td>0.0</td>\n",
       "      <td>0.0</td>\n",
       "      <td>0.0</td>\n",
       "      <td>0.0</td>\n",
       "      <td>0.0</td>\n",
       "      <td>0.0</td>\n",
       "      <td>0.0</td>\n",
       "      <td>0.0</td>\n",
       "      <td>0.0</td>\n",
       "    </tr>\n",
       "  </tbody>\n",
       "</table>\n",
       "<p>5 rows × 2352 columns</p>\n",
       "</div>"
      ],
      "text/plain": [
       "   review_len  punctuations         0    1    2    3    4    5    6    7  ...  \\\n",
       "0    0.306266      0.024752  0.186419  0.0  0.0  0.0  0.0  0.0  0.0  0.0  ...   \n",
       "1    0.047781      0.048267  0.000000  0.0  0.0  0.0  0.0  0.0  0.0  0.0  ...   \n",
       "2    0.307311      0.051980  0.088271  0.0  0.0  0.0  0.0  0.0  0.0  0.0  ...   \n",
       "3    0.082768      0.027228  0.000000  0.0  0.0  0.0  0.0  0.0  0.0  0.0  ...   \n",
       "4    0.035770      0.033416  0.000000  0.0  0.0  0.0  0.0  0.0  0.0  0.0  ...   \n",
       "\n",
       "   2340  2341  2342  2343  2344  2345  2346  2347  2348  2349  \n",
       "0   0.0   0.0   0.0   0.0   0.0   0.0   0.0   0.0   0.0   0.0  \n",
       "1   0.0   0.0   0.0   0.0   0.0   0.0   0.0   0.0   0.0   0.0  \n",
       "2   0.0   0.0   0.0   0.0   0.0   0.0   0.0   0.0   0.0   0.0  \n",
       "3   0.0   0.0   0.0   0.0   0.0   0.0   0.0   0.0   0.0   0.0  \n",
       "4   0.0   0.0   0.0   0.0   0.0   0.0   0.0   0.0   0.0   0.0  \n",
       "\n",
       "[5 rows x 2352 columns]"
      ]
     },
     "execution_count": 136,
     "metadata": {},
     "output_type": "execute_result"
    }
   ],
   "source": [
    "X_features.head()"
   ]
  },
  {
   "cell_type": "code",
   "execution_count": 137,
   "metadata": {},
   "outputs": [],
   "source": [
    "y = dataset1['rating_type'].values"
   ]
  },
  {
   "cell_type": "code",
   "execution_count": 138,
   "metadata": {},
   "outputs": [],
   "source": [
    "y\n",
    "y_test=y\n",
    "X_test=X_features"
   ]
  },
  {
   "cell_type": "code",
   "execution_count": 139,
   "metadata": {},
   "outputs": [
    {
     "name": "stdout",
     "output_type": "stream",
     "text": [
      "------------ Logistic Regression Classifier Performance Metrics ------------\n",
      "F-score: 61.3 \n",
      "Precision: 75.7 \n",
      "Recall: 51.4 \n",
      "Accuracy: 52.400000000000006 \n"
     ]
    }
   ],
   "source": [
    "logRegMetrics_1 = evaluate_LogReg(logReg_Model, X_test, y_test)"
   ]
  },
  {
   "cell_type": "code",
   "execution_count": 140,
   "metadata": {},
   "outputs": [
    {
     "name": "stdout",
     "output_type": "stream",
     "text": [
      "The average accuracy of the model on 5-fold cross validation is: 83.6\n"
     ]
    }
   ],
   "source": [
    "cv_score_mean(logReg_Model,X_test,y_test)"
   ]
  },
  {
   "cell_type": "markdown",
   "metadata": {},
   "source": [
    "### Text Review Analysis for Dataset 2- Hotels with Logistic Regression Model Trained on Dataset 3"
   ]
  },
  {
   "cell_type": "markdown",
   "metadata": {},
   "source": [
    "#### Testing Logistic Regression Model on Dataset 2, model trained on Dataset 3"
   ]
  },
  {
   "cell_type": "code",
   "execution_count": 141,
   "metadata": {},
   "outputs": [
    {
     "data": {
      "text/html": [
       "<div>\n",
       "<style scoped>\n",
       "    .dataframe tbody tr th:only-of-type {\n",
       "        vertical-align: middle;\n",
       "    }\n",
       "\n",
       "    .dataframe tbody tr th {\n",
       "        vertical-align: top;\n",
       "    }\n",
       "\n",
       "    .dataframe thead th {\n",
       "        text-align: right;\n",
       "    }\n",
       "</style>\n",
       "<table border=\"1\" class=\"dataframe\">\n",
       "  <thead>\n",
       "    <tr style=\"text-align: right;\">\n",
       "      <th></th>\n",
       "      <th>review_len</th>\n",
       "      <th>punctuations</th>\n",
       "      <th>0</th>\n",
       "      <th>1</th>\n",
       "      <th>2</th>\n",
       "      <th>3</th>\n",
       "      <th>4</th>\n",
       "      <th>5</th>\n",
       "      <th>6</th>\n",
       "      <th>7</th>\n",
       "      <th>...</th>\n",
       "      <th>2340</th>\n",
       "      <th>2341</th>\n",
       "      <th>2342</th>\n",
       "      <th>2343</th>\n",
       "      <th>2344</th>\n",
       "      <th>2345</th>\n",
       "      <th>2346</th>\n",
       "      <th>2347</th>\n",
       "      <th>2348</th>\n",
       "      <th>2349</th>\n",
       "    </tr>\n",
       "  </thead>\n",
       "  <tbody>\n",
       "    <tr>\n",
       "      <th>0</th>\n",
       "      <td>0.068153</td>\n",
       "      <td>0.198582</td>\n",
       "      <td>0.0</td>\n",
       "      <td>0.0</td>\n",
       "      <td>0.0</td>\n",
       "      <td>0.0</td>\n",
       "      <td>0.0</td>\n",
       "      <td>0.0</td>\n",
       "      <td>0.0</td>\n",
       "      <td>0.0</td>\n",
       "      <td>...</td>\n",
       "      <td>0.0</td>\n",
       "      <td>0.0</td>\n",
       "      <td>0.0</td>\n",
       "      <td>0.0</td>\n",
       "      <td>0.0</td>\n",
       "      <td>0.0</td>\n",
       "      <td>0.0</td>\n",
       "      <td>0.0</td>\n",
       "      <td>0.0</td>\n",
       "      <td>0.0</td>\n",
       "    </tr>\n",
       "    <tr>\n",
       "      <th>1</th>\n",
       "      <td>0.072508</td>\n",
       "      <td>0.276596</td>\n",
       "      <td>0.0</td>\n",
       "      <td>0.0</td>\n",
       "      <td>0.0</td>\n",
       "      <td>0.0</td>\n",
       "      <td>0.0</td>\n",
       "      <td>0.0</td>\n",
       "      <td>0.0</td>\n",
       "      <td>0.0</td>\n",
       "      <td>...</td>\n",
       "      <td>0.0</td>\n",
       "      <td>0.0</td>\n",
       "      <td>0.0</td>\n",
       "      <td>0.0</td>\n",
       "      <td>0.0</td>\n",
       "      <td>0.0</td>\n",
       "      <td>0.0</td>\n",
       "      <td>0.0</td>\n",
       "      <td>0.0</td>\n",
       "      <td>0.0</td>\n",
       "    </tr>\n",
       "    <tr>\n",
       "      <th>2</th>\n",
       "      <td>0.094030</td>\n",
       "      <td>0.226950</td>\n",
       "      <td>0.0</td>\n",
       "      <td>0.0</td>\n",
       "      <td>0.0</td>\n",
       "      <td>0.0</td>\n",
       "      <td>0.0</td>\n",
       "      <td>0.0</td>\n",
       "      <td>0.0</td>\n",
       "      <td>0.0</td>\n",
       "      <td>...</td>\n",
       "      <td>0.0</td>\n",
       "      <td>0.0</td>\n",
       "      <td>0.0</td>\n",
       "      <td>0.0</td>\n",
       "      <td>0.0</td>\n",
       "      <td>0.0</td>\n",
       "      <td>0.0</td>\n",
       "      <td>0.0</td>\n",
       "      <td>0.0</td>\n",
       "      <td>0.0</td>\n",
       "    </tr>\n",
       "    <tr>\n",
       "      <th>3</th>\n",
       "      <td>0.067384</td>\n",
       "      <td>0.234043</td>\n",
       "      <td>0.0</td>\n",
       "      <td>0.0</td>\n",
       "      <td>0.0</td>\n",
       "      <td>0.0</td>\n",
       "      <td>0.0</td>\n",
       "      <td>0.0</td>\n",
       "      <td>0.0</td>\n",
       "      <td>0.0</td>\n",
       "      <td>...</td>\n",
       "      <td>0.0</td>\n",
       "      <td>0.0</td>\n",
       "      <td>0.0</td>\n",
       "      <td>0.0</td>\n",
       "      <td>0.0</td>\n",
       "      <td>0.0</td>\n",
       "      <td>0.0</td>\n",
       "      <td>0.0</td>\n",
       "      <td>0.0</td>\n",
       "      <td>0.0</td>\n",
       "    </tr>\n",
       "    <tr>\n",
       "      <th>4</th>\n",
       "      <td>0.140405</td>\n",
       "      <td>0.177305</td>\n",
       "      <td>0.0</td>\n",
       "      <td>0.0</td>\n",
       "      <td>0.0</td>\n",
       "      <td>0.0</td>\n",
       "      <td>0.0</td>\n",
       "      <td>0.0</td>\n",
       "      <td>0.0</td>\n",
       "      <td>0.0</td>\n",
       "      <td>...</td>\n",
       "      <td>0.0</td>\n",
       "      <td>0.0</td>\n",
       "      <td>0.0</td>\n",
       "      <td>0.0</td>\n",
       "      <td>0.0</td>\n",
       "      <td>0.0</td>\n",
       "      <td>0.0</td>\n",
       "      <td>0.0</td>\n",
       "      <td>0.0</td>\n",
       "      <td>0.0</td>\n",
       "    </tr>\n",
       "  </tbody>\n",
       "</table>\n",
       "<p>5 rows × 2352 columns</p>\n",
       "</div>"
      ],
      "text/plain": [
       "   review_len  punctuations    0    1    2    3    4    5    6    7  ...  \\\n",
       "0    0.068153      0.198582  0.0  0.0  0.0  0.0  0.0  0.0  0.0  0.0  ...   \n",
       "1    0.072508      0.276596  0.0  0.0  0.0  0.0  0.0  0.0  0.0  0.0  ...   \n",
       "2    0.094030      0.226950  0.0  0.0  0.0  0.0  0.0  0.0  0.0  0.0  ...   \n",
       "3    0.067384      0.234043  0.0  0.0  0.0  0.0  0.0  0.0  0.0  0.0  ...   \n",
       "4    0.140405      0.177305  0.0  0.0  0.0  0.0  0.0  0.0  0.0  0.0  ...   \n",
       "\n",
       "   2340  2341  2342  2343  2344  2345  2346  2347  2348  2349  \n",
       "0   0.0   0.0   0.0   0.0   0.0   0.0   0.0   0.0   0.0   0.0  \n",
       "1   0.0   0.0   0.0   0.0   0.0   0.0   0.0   0.0   0.0   0.0  \n",
       "2   0.0   0.0   0.0   0.0   0.0   0.0   0.0   0.0   0.0   0.0  \n",
       "3   0.0   0.0   0.0   0.0   0.0   0.0   0.0   0.0   0.0   0.0  \n",
       "4   0.0   0.0   0.0   0.0   0.0   0.0   0.0   0.0   0.0   0.0  \n",
       "\n",
       "[5 rows x 2352 columns]"
      ]
     },
     "execution_count": 141,
     "metadata": {},
     "output_type": "execute_result"
    }
   ],
   "source": [
    "X_features = X_features_2\n",
    "X_features.head()"
   ]
  },
  {
   "cell_type": "code",
   "execution_count": 142,
   "metadata": {},
   "outputs": [],
   "source": [
    "_normalize_length_punct()"
   ]
  },
  {
   "cell_type": "code",
   "execution_count": 143,
   "metadata": {},
   "outputs": [
    {
     "data": {
      "text/html": [
       "<div>\n",
       "<style scoped>\n",
       "    .dataframe tbody tr th:only-of-type {\n",
       "        vertical-align: middle;\n",
       "    }\n",
       "\n",
       "    .dataframe tbody tr th {\n",
       "        vertical-align: top;\n",
       "    }\n",
       "\n",
       "    .dataframe thead th {\n",
       "        text-align: right;\n",
       "    }\n",
       "</style>\n",
       "<table border=\"1\" class=\"dataframe\">\n",
       "  <thead>\n",
       "    <tr style=\"text-align: right;\">\n",
       "      <th></th>\n",
       "      <th>review_len</th>\n",
       "      <th>punctuations</th>\n",
       "      <th>0</th>\n",
       "      <th>1</th>\n",
       "      <th>2</th>\n",
       "      <th>3</th>\n",
       "      <th>4</th>\n",
       "      <th>5</th>\n",
       "      <th>6</th>\n",
       "      <th>7</th>\n",
       "      <th>...</th>\n",
       "      <th>2340</th>\n",
       "      <th>2341</th>\n",
       "      <th>2342</th>\n",
       "      <th>2343</th>\n",
       "      <th>2344</th>\n",
       "      <th>2345</th>\n",
       "      <th>2346</th>\n",
       "      <th>2347</th>\n",
       "      <th>2348</th>\n",
       "      <th>2349</th>\n",
       "    </tr>\n",
       "  </thead>\n",
       "  <tbody>\n",
       "    <tr>\n",
       "      <th>0</th>\n",
       "      <td>0.068153</td>\n",
       "      <td>0.198582</td>\n",
       "      <td>0.0</td>\n",
       "      <td>0.0</td>\n",
       "      <td>0.0</td>\n",
       "      <td>0.0</td>\n",
       "      <td>0.0</td>\n",
       "      <td>0.0</td>\n",
       "      <td>0.0</td>\n",
       "      <td>0.0</td>\n",
       "      <td>...</td>\n",
       "      <td>0.0</td>\n",
       "      <td>0.0</td>\n",
       "      <td>0.0</td>\n",
       "      <td>0.0</td>\n",
       "      <td>0.0</td>\n",
       "      <td>0.0</td>\n",
       "      <td>0.0</td>\n",
       "      <td>0.0</td>\n",
       "      <td>0.0</td>\n",
       "      <td>0.0</td>\n",
       "    </tr>\n",
       "    <tr>\n",
       "      <th>1</th>\n",
       "      <td>0.072508</td>\n",
       "      <td>0.276596</td>\n",
       "      <td>0.0</td>\n",
       "      <td>0.0</td>\n",
       "      <td>0.0</td>\n",
       "      <td>0.0</td>\n",
       "      <td>0.0</td>\n",
       "      <td>0.0</td>\n",
       "      <td>0.0</td>\n",
       "      <td>0.0</td>\n",
       "      <td>...</td>\n",
       "      <td>0.0</td>\n",
       "      <td>0.0</td>\n",
       "      <td>0.0</td>\n",
       "      <td>0.0</td>\n",
       "      <td>0.0</td>\n",
       "      <td>0.0</td>\n",
       "      <td>0.0</td>\n",
       "      <td>0.0</td>\n",
       "      <td>0.0</td>\n",
       "      <td>0.0</td>\n",
       "    </tr>\n",
       "    <tr>\n",
       "      <th>2</th>\n",
       "      <td>0.094030</td>\n",
       "      <td>0.226950</td>\n",
       "      <td>0.0</td>\n",
       "      <td>0.0</td>\n",
       "      <td>0.0</td>\n",
       "      <td>0.0</td>\n",
       "      <td>0.0</td>\n",
       "      <td>0.0</td>\n",
       "      <td>0.0</td>\n",
       "      <td>0.0</td>\n",
       "      <td>...</td>\n",
       "      <td>0.0</td>\n",
       "      <td>0.0</td>\n",
       "      <td>0.0</td>\n",
       "      <td>0.0</td>\n",
       "      <td>0.0</td>\n",
       "      <td>0.0</td>\n",
       "      <td>0.0</td>\n",
       "      <td>0.0</td>\n",
       "      <td>0.0</td>\n",
       "      <td>0.0</td>\n",
       "    </tr>\n",
       "    <tr>\n",
       "      <th>3</th>\n",
       "      <td>0.067384</td>\n",
       "      <td>0.234043</td>\n",
       "      <td>0.0</td>\n",
       "      <td>0.0</td>\n",
       "      <td>0.0</td>\n",
       "      <td>0.0</td>\n",
       "      <td>0.0</td>\n",
       "      <td>0.0</td>\n",
       "      <td>0.0</td>\n",
       "      <td>0.0</td>\n",
       "      <td>...</td>\n",
       "      <td>0.0</td>\n",
       "      <td>0.0</td>\n",
       "      <td>0.0</td>\n",
       "      <td>0.0</td>\n",
       "      <td>0.0</td>\n",
       "      <td>0.0</td>\n",
       "      <td>0.0</td>\n",
       "      <td>0.0</td>\n",
       "      <td>0.0</td>\n",
       "      <td>0.0</td>\n",
       "    </tr>\n",
       "    <tr>\n",
       "      <th>4</th>\n",
       "      <td>0.140405</td>\n",
       "      <td>0.177305</td>\n",
       "      <td>0.0</td>\n",
       "      <td>0.0</td>\n",
       "      <td>0.0</td>\n",
       "      <td>0.0</td>\n",
       "      <td>0.0</td>\n",
       "      <td>0.0</td>\n",
       "      <td>0.0</td>\n",
       "      <td>0.0</td>\n",
       "      <td>...</td>\n",
       "      <td>0.0</td>\n",
       "      <td>0.0</td>\n",
       "      <td>0.0</td>\n",
       "      <td>0.0</td>\n",
       "      <td>0.0</td>\n",
       "      <td>0.0</td>\n",
       "      <td>0.0</td>\n",
       "      <td>0.0</td>\n",
       "      <td>0.0</td>\n",
       "      <td>0.0</td>\n",
       "    </tr>\n",
       "  </tbody>\n",
       "</table>\n",
       "<p>5 rows × 2352 columns</p>\n",
       "</div>"
      ],
      "text/plain": [
       "   review_len  punctuations    0    1    2    3    4    5    6    7  ...  \\\n",
       "0    0.068153      0.198582  0.0  0.0  0.0  0.0  0.0  0.0  0.0  0.0  ...   \n",
       "1    0.072508      0.276596  0.0  0.0  0.0  0.0  0.0  0.0  0.0  0.0  ...   \n",
       "2    0.094030      0.226950  0.0  0.0  0.0  0.0  0.0  0.0  0.0  0.0  ...   \n",
       "3    0.067384      0.234043  0.0  0.0  0.0  0.0  0.0  0.0  0.0  0.0  ...   \n",
       "4    0.140405      0.177305  0.0  0.0  0.0  0.0  0.0  0.0  0.0  0.0  ...   \n",
       "\n",
       "   2340  2341  2342  2343  2344  2345  2346  2347  2348  2349  \n",
       "0   0.0   0.0   0.0   0.0   0.0   0.0   0.0   0.0   0.0   0.0  \n",
       "1   0.0   0.0   0.0   0.0   0.0   0.0   0.0   0.0   0.0   0.0  \n",
       "2   0.0   0.0   0.0   0.0   0.0   0.0   0.0   0.0   0.0   0.0  \n",
       "3   0.0   0.0   0.0   0.0   0.0   0.0   0.0   0.0   0.0   0.0  \n",
       "4   0.0   0.0   0.0   0.0   0.0   0.0   0.0   0.0   0.0   0.0  \n",
       "\n",
       "[5 rows x 2352 columns]"
      ]
     },
     "execution_count": 143,
     "metadata": {},
     "output_type": "execute_result"
    }
   ],
   "source": [
    "X_features.head()"
   ]
  },
  {
   "cell_type": "code",
   "execution_count": 144,
   "metadata": {},
   "outputs": [],
   "source": [
    "y = dataset2['rating_type'].values"
   ]
  },
  {
   "cell_type": "code",
   "execution_count": 145,
   "metadata": {},
   "outputs": [],
   "source": [
    "y\n",
    "y_test=y\n",
    "X_test=X_features"
   ]
  },
  {
   "cell_type": "code",
   "execution_count": 146,
   "metadata": {},
   "outputs": [
    {
     "name": "stdout",
     "output_type": "stream",
     "text": [
      "------------ Logistic Regression Classifier Performance Metrics ------------\n",
      "F-score: 52.1 \n",
      "Precision: 60.099999999999994 \n",
      "Recall: 45.9 \n",
      "Accuracy: 50.3 \n"
     ]
    }
   ],
   "source": [
    "logRegMetrics_2 = evaluate_LogReg(logReg_Model, X_test, y_test)"
   ]
  },
  {
   "cell_type": "code",
   "execution_count": 147,
   "metadata": {},
   "outputs": [
    {
     "name": "stdout",
     "output_type": "stream",
     "text": [
      "The average accuracy of the model on 5-fold cross validation is: 85.2\n"
     ]
    }
   ],
   "source": [
    "cv_score_mean(logReg_Model,X_test,y_test)"
   ]
  },
  {
   "cell_type": "markdown",
   "metadata": {},
   "source": [
    "### Classification Evaluation"
   ]
  },
  {
   "cell_type": "markdown",
   "metadata": {},
   "source": [
    "#### Model Trained on Dataset 3, tested on Dataset 1 and Dataset 2"
   ]
  },
  {
   "cell_type": "code",
   "execution_count": 148,
   "metadata": {},
   "outputs": [],
   "source": [
    "ModelEvaluation_3 = pd.DataFrame({\n",
    "    'Dataset 1': logRegMetrics_1,\n",
    "    'Dataset 2': logRegMetrics_2,\n",
    "    'Dataset 3': logRegMetrics_3\n",
    "}, index=['precision', 'recall', 'fscore', 'accuracy','true negatives','false positives','false negatives','true positives']\n",
    ").T\n",
    "ModelEvaluation_3[\"precision\"] = round(ModelEvaluation_3[\"precision\"]*100,2)\n",
    "\n",
    "\n",
    "ModelEvaluation_3[\"recall\"] = round(ModelEvaluation_3[\"recall\"]*100,2)\n",
    "ModelEvaluation_3[\"fscore\"] = round(ModelEvaluation_3[\"fscore\"]*100,2)\n",
    "ModelEvaluation_3[\"accuracy\"] = round(ModelEvaluation_3[\"accuracy\"]*100,2)"
   ]
  },
  {
   "cell_type": "code",
   "execution_count": 149,
   "metadata": {},
   "outputs": [
    {
     "data": {
      "text/html": [
       "<div>\n",
       "<style scoped>\n",
       "    .dataframe tbody tr th:only-of-type {\n",
       "        vertical-align: middle;\n",
       "    }\n",
       "\n",
       "    .dataframe tbody tr th {\n",
       "        vertical-align: top;\n",
       "    }\n",
       "\n",
       "    .dataframe thead th {\n",
       "        text-align: right;\n",
       "    }\n",
       "</style>\n",
       "<table border=\"1\" class=\"dataframe\">\n",
       "  <thead>\n",
       "    <tr style=\"text-align: right;\">\n",
       "      <th></th>\n",
       "      <th>precision</th>\n",
       "      <th>recall</th>\n",
       "      <th>fscore</th>\n",
       "      <th>accuracy</th>\n",
       "      <th>true negatives</th>\n",
       "      <th>false positives</th>\n",
       "      <th>false negatives</th>\n",
       "      <th>true positives</th>\n",
       "    </tr>\n",
       "  </thead>\n",
       "  <tbody>\n",
       "    <tr>\n",
       "      <th>Dataset 1</th>\n",
       "      <td>75.73</td>\n",
       "      <td>51.44</td>\n",
       "      <td>61.26</td>\n",
       "      <td>52.45</td>\n",
       "      <td>297.0</td>\n",
       "      <td>241.0</td>\n",
       "      <td>710.0</td>\n",
       "      <td>752.0</td>\n",
       "    </tr>\n",
       "    <tr>\n",
       "      <th>Dataset 2</th>\n",
       "      <td>60.13</td>\n",
       "      <td>45.92</td>\n",
       "      <td>52.07</td>\n",
       "      <td>50.30</td>\n",
       "      <td>466.0</td>\n",
       "      <td>358.0</td>\n",
       "      <td>636.0</td>\n",
       "      <td>540.0</td>\n",
       "    </tr>\n",
       "    <tr>\n",
       "      <th>Dataset 3</th>\n",
       "      <td>87.04</td>\n",
       "      <td>91.10</td>\n",
       "      <td>89.03</td>\n",
       "      <td>86.75</td>\n",
       "      <td>132.0</td>\n",
       "      <td>32.0</td>\n",
       "      <td>21.0</td>\n",
       "      <td>215.0</td>\n",
       "    </tr>\n",
       "  </tbody>\n",
       "</table>\n",
       "</div>"
      ],
      "text/plain": [
       "           precision  recall  fscore  accuracy  true negatives  \\\n",
       "Dataset 1      75.73   51.44   61.26     52.45           297.0   \n",
       "Dataset 2      60.13   45.92   52.07     50.30           466.0   \n",
       "Dataset 3      87.04   91.10   89.03     86.75           132.0   \n",
       "\n",
       "           false positives  false negatives  true positives  \n",
       "Dataset 1            241.0            710.0           752.0  \n",
       "Dataset 2            358.0            636.0           540.0  \n",
       "Dataset 3             32.0             21.0           215.0  "
      ]
     },
     "execution_count": 149,
     "metadata": {},
     "output_type": "execute_result"
    }
   ],
   "source": [
    "ModelEvaluation_3"
   ]
  },
  {
   "cell_type": "markdown",
   "metadata": {},
   "source": [
    "## Logistic Regression Classification Model Evaluation"
   ]
  },
  {
   "cell_type": "markdown",
   "metadata": {},
   "source": [
    "#### In the below evaluation, <br>Model 1 denotes, the model is trained on Dataset 1.<br>Model 2 denotes, the model is trained on Dataset 2.<br>Model 3 denotes, the model is trained on Dataset 3."
   ]
  },
  {
   "cell_type": "code",
   "execution_count": 150,
   "metadata": {},
   "outputs": [
    {
     "data": {
      "text/html": [
       "<div>\n",
       "<style scoped>\n",
       "    .dataframe tbody tr th:only-of-type {\n",
       "        vertical-align: middle;\n",
       "    }\n",
       "\n",
       "    .dataframe tbody tr th {\n",
       "        vertical-align: top;\n",
       "    }\n",
       "\n",
       "    .dataframe thead th {\n",
       "        text-align: right;\n",
       "    }\n",
       "</style>\n",
       "<table border=\"1\" class=\"dataframe\">\n",
       "  <thead>\n",
       "    <tr style=\"text-align: right;\">\n",
       "      <th></th>\n",
       "      <th>precision</th>\n",
       "      <th>recall</th>\n",
       "      <th>fscore</th>\n",
       "      <th>accuracy</th>\n",
       "      <th>true negatives</th>\n",
       "      <th>false positives</th>\n",
       "      <th>false negatives</th>\n",
       "      <th>true positives</th>\n",
       "    </tr>\n",
       "  </thead>\n",
       "  <tbody>\n",
       "    <tr>\n",
       "      <th>Dataset 1</th>\n",
       "      <td>89.31</td>\n",
       "      <td>95.95</td>\n",
       "      <td>92.51</td>\n",
       "      <td>88.5</td>\n",
       "      <td>70.0</td>\n",
       "      <td>34.0</td>\n",
       "      <td>12.0</td>\n",
       "      <td>284.0</td>\n",
       "    </tr>\n",
       "    <tr>\n",
       "      <th>Dataset 2</th>\n",
       "      <td>59.48</td>\n",
       "      <td>89.63</td>\n",
       "      <td>71.51</td>\n",
       "      <td>58.0</td>\n",
       "      <td>106.0</td>\n",
       "      <td>718.0</td>\n",
       "      <td>122.0</td>\n",
       "      <td>1054.0</td>\n",
       "    </tr>\n",
       "    <tr>\n",
       "      <th>Dataset 3</th>\n",
       "      <td>58.59</td>\n",
       "      <td>92.77</td>\n",
       "      <td>71.82</td>\n",
       "      <td>57.7</td>\n",
       "      <td>76.0</td>\n",
       "      <td>762.0</td>\n",
       "      <td>84.0</td>\n",
       "      <td>1078.0</td>\n",
       "    </tr>\n",
       "  </tbody>\n",
       "</table>\n",
       "</div>"
      ],
      "text/plain": [
       "           precision  recall  fscore  accuracy  true negatives  \\\n",
       "Dataset 1      89.31   95.95   92.51      88.5            70.0   \n",
       "Dataset 2      59.48   89.63   71.51      58.0           106.0   \n",
       "Dataset 3      58.59   92.77   71.82      57.7            76.0   \n",
       "\n",
       "           false positives  false negatives  true positives  \n",
       "Dataset 1             34.0             12.0           284.0  \n",
       "Dataset 2            718.0            122.0          1054.0  \n",
       "Dataset 3            762.0             84.0          1078.0  "
      ]
     },
     "execution_count": 150,
     "metadata": {},
     "output_type": "execute_result"
    }
   ],
   "source": [
    "ModelEvaluation_1"
   ]
  },
  {
   "cell_type": "code",
   "execution_count": 151,
   "metadata": {},
   "outputs": [
    {
     "data": {
      "text/html": [
       "<div>\n",
       "<style scoped>\n",
       "    .dataframe tbody tr th:only-of-type {\n",
       "        vertical-align: middle;\n",
       "    }\n",
       "\n",
       "    .dataframe tbody tr th {\n",
       "        vertical-align: top;\n",
       "    }\n",
       "\n",
       "    .dataframe thead th {\n",
       "        text-align: right;\n",
       "    }\n",
       "</style>\n",
       "<table border=\"1\" class=\"dataframe\">\n",
       "  <thead>\n",
       "    <tr style=\"text-align: right;\">\n",
       "      <th></th>\n",
       "      <th>precision</th>\n",
       "      <th>recall</th>\n",
       "      <th>fscore</th>\n",
       "      <th>accuracy</th>\n",
       "      <th>true negatives</th>\n",
       "      <th>false positives</th>\n",
       "      <th>false negatives</th>\n",
       "      <th>true positives</th>\n",
       "    </tr>\n",
       "  </thead>\n",
       "  <tbody>\n",
       "    <tr>\n",
       "      <th>Dataset 1</th>\n",
       "      <td>73.46</td>\n",
       "      <td>67.03</td>\n",
       "      <td>70.10</td>\n",
       "      <td>58.2</td>\n",
       "      <td>184.0</td>\n",
       "      <td>354.0</td>\n",
       "      <td>482.0</td>\n",
       "      <td>980.0</td>\n",
       "    </tr>\n",
       "    <tr>\n",
       "      <th>Dataset 2</th>\n",
       "      <td>87.92</td>\n",
       "      <td>95.05</td>\n",
       "      <td>91.34</td>\n",
       "      <td>90.0</td>\n",
       "      <td>149.0</td>\n",
       "      <td>29.0</td>\n",
       "      <td>11.0</td>\n",
       "      <td>211.0</td>\n",
       "    </tr>\n",
       "    <tr>\n",
       "      <th>Dataset 3</th>\n",
       "      <td>58.41</td>\n",
       "      <td>43.63</td>\n",
       "      <td>49.95</td>\n",
       "      <td>49.2</td>\n",
       "      <td>477.0</td>\n",
       "      <td>361.0</td>\n",
       "      <td>655.0</td>\n",
       "      <td>507.0</td>\n",
       "    </tr>\n",
       "  </tbody>\n",
       "</table>\n",
       "</div>"
      ],
      "text/plain": [
       "           precision  recall  fscore  accuracy  true negatives  \\\n",
       "Dataset 1      73.46   67.03   70.10      58.2           184.0   \n",
       "Dataset 2      87.92   95.05   91.34      90.0           149.0   \n",
       "Dataset 3      58.41   43.63   49.95      49.2           477.0   \n",
       "\n",
       "           false positives  false negatives  true positives  \n",
       "Dataset 1            354.0            482.0           980.0  \n",
       "Dataset 2             29.0             11.0           211.0  \n",
       "Dataset 3            361.0            655.0           507.0  "
      ]
     },
     "execution_count": 151,
     "metadata": {},
     "output_type": "execute_result"
    }
   ],
   "source": [
    "ModelEvaluation_2"
   ]
  },
  {
   "cell_type": "code",
   "execution_count": 152,
   "metadata": {},
   "outputs": [
    {
     "data": {
      "text/html": [
       "<div>\n",
       "<style scoped>\n",
       "    .dataframe tbody tr th:only-of-type {\n",
       "        vertical-align: middle;\n",
       "    }\n",
       "\n",
       "    .dataframe tbody tr th {\n",
       "        vertical-align: top;\n",
       "    }\n",
       "\n",
       "    .dataframe thead th {\n",
       "        text-align: right;\n",
       "    }\n",
       "</style>\n",
       "<table border=\"1\" class=\"dataframe\">\n",
       "  <thead>\n",
       "    <tr style=\"text-align: right;\">\n",
       "      <th></th>\n",
       "      <th>precision</th>\n",
       "      <th>recall</th>\n",
       "      <th>fscore</th>\n",
       "      <th>accuracy</th>\n",
       "      <th>true negatives</th>\n",
       "      <th>false positives</th>\n",
       "      <th>false negatives</th>\n",
       "      <th>true positives</th>\n",
       "    </tr>\n",
       "  </thead>\n",
       "  <tbody>\n",
       "    <tr>\n",
       "      <th>Dataset 1</th>\n",
       "      <td>75.73</td>\n",
       "      <td>51.44</td>\n",
       "      <td>61.26</td>\n",
       "      <td>52.45</td>\n",
       "      <td>297.0</td>\n",
       "      <td>241.0</td>\n",
       "      <td>710.0</td>\n",
       "      <td>752.0</td>\n",
       "    </tr>\n",
       "    <tr>\n",
       "      <th>Dataset 2</th>\n",
       "      <td>60.13</td>\n",
       "      <td>45.92</td>\n",
       "      <td>52.07</td>\n",
       "      <td>50.30</td>\n",
       "      <td>466.0</td>\n",
       "      <td>358.0</td>\n",
       "      <td>636.0</td>\n",
       "      <td>540.0</td>\n",
       "    </tr>\n",
       "    <tr>\n",
       "      <th>Dataset 3</th>\n",
       "      <td>87.04</td>\n",
       "      <td>91.10</td>\n",
       "      <td>89.03</td>\n",
       "      <td>86.75</td>\n",
       "      <td>132.0</td>\n",
       "      <td>32.0</td>\n",
       "      <td>21.0</td>\n",
       "      <td>215.0</td>\n",
       "    </tr>\n",
       "  </tbody>\n",
       "</table>\n",
       "</div>"
      ],
      "text/plain": [
       "           precision  recall  fscore  accuracy  true negatives  \\\n",
       "Dataset 1      75.73   51.44   61.26     52.45           297.0   \n",
       "Dataset 2      60.13   45.92   52.07     50.30           466.0   \n",
       "Dataset 3      87.04   91.10   89.03     86.75           132.0   \n",
       "\n",
       "           false positives  false negatives  true positives  \n",
       "Dataset 1            241.0            710.0           752.0  \n",
       "Dataset 2            358.0            636.0           540.0  \n",
       "Dataset 3             32.0             21.0           215.0  "
      ]
     },
     "execution_count": 152,
     "metadata": {},
     "output_type": "execute_result"
    }
   ],
   "source": [
    "ModelEvaluation_3"
   ]
  },
  {
   "cell_type": "markdown",
   "metadata": {},
   "source": [
    "### FP-rate comparison of Models trained and tested on different datasets"
   ]
  },
  {
   "cell_type": "code",
   "execution_count": 153,
   "metadata": {},
   "outputs": [],
   "source": [
    "m1_fprate = (ModelEvaluation_1[\"false positives\"] / (ModelEvaluation_1[\"false positives\"] \n",
    "                                                    + ModelEvaluation_1[\"true negatives\"])) * 100\n",
    "m2_fprate = (ModelEvaluation_2[\"false positives\"] / (ModelEvaluation_2[\"false positives\"] \n",
    "                                                    + ModelEvaluation_2[\"true negatives\"])) * 100\n",
    "m3_fprate = (ModelEvaluation_3[\"false positives\"] / (ModelEvaluation_3[\"false positives\"] \n",
    "                                                    + ModelEvaluation_3[\"true negatives\"])) * 100"
   ]
  },
  {
   "cell_type": "code",
   "execution_count": 154,
   "metadata": {},
   "outputs": [],
   "source": [
    "def model_comparison_charts(model_metrics, title):\n",
    "    model_metrics[['Model 1','Model 2','Model 3']].plot(kind='bar', width = 0.5)\n",
    "    ax = pyplot.gca()\n",
    "    ax.set_xticklabels(('Dataset 1', 'Dataset 2','Dataset 3'), rotation=0, rotation_mode=\"anchor\")\n",
    "    box = ax.get_position()\n",
    "    ax.set_position([box.x0, box.y0, box.width * 0.8, box.height])\n",
    "    pyplot.legend(['Model 1', 'Model 2','Model 3'], \n",
    "               bbox_to_anchor=(1, 0.8), loc='center left')\n",
    "    pyplot.title(title, fontSize=16)\n",
    "    pyplot.xlabel(\"Dataset\", fontSize=14)\n",
    "    pyplot.ylabel(\"Percentage\", fontSize=14)\n",
    "    pyplot.show()"
   ]
  },
  {
   "cell_type": "code",
   "execution_count": 155,
   "metadata": {},
   "outputs": [],
   "source": [
    "model_FP_rate = pd.DataFrame({\n",
    " 'Model 1' : round(m1_fprate,2),\n",
    " 'Model 2' : round(m2_fprate,2),\n",
    " 'Model 3' : round(m3_fprate,2)})"
   ]
  },
  {
   "cell_type": "code",
   "execution_count": 156,
   "metadata": {},
   "outputs": [
    {
     "data": {
      "text/html": [
       "<div>\n",
       "<style scoped>\n",
       "    .dataframe tbody tr th:only-of-type {\n",
       "        vertical-align: middle;\n",
       "    }\n",
       "\n",
       "    .dataframe tbody tr th {\n",
       "        vertical-align: top;\n",
       "    }\n",
       "\n",
       "    .dataframe thead th {\n",
       "        text-align: right;\n",
       "    }\n",
       "</style>\n",
       "<table border=\"1\" class=\"dataframe\">\n",
       "  <thead>\n",
       "    <tr style=\"text-align: right;\">\n",
       "      <th></th>\n",
       "      <th>Model 1</th>\n",
       "      <th>Model 2</th>\n",
       "      <th>Model 3</th>\n",
       "    </tr>\n",
       "  </thead>\n",
       "  <tbody>\n",
       "    <tr>\n",
       "      <th>Dataset 1</th>\n",
       "      <td>32.69</td>\n",
       "      <td>65.80</td>\n",
       "      <td>44.80</td>\n",
       "    </tr>\n",
       "    <tr>\n",
       "      <th>Dataset 2</th>\n",
       "      <td>87.14</td>\n",
       "      <td>16.29</td>\n",
       "      <td>43.45</td>\n",
       "    </tr>\n",
       "    <tr>\n",
       "      <th>Dataset 3</th>\n",
       "      <td>90.93</td>\n",
       "      <td>43.08</td>\n",
       "      <td>19.51</td>\n",
       "    </tr>\n",
       "  </tbody>\n",
       "</table>\n",
       "</div>"
      ],
      "text/plain": [
       "           Model 1  Model 2  Model 3\n",
       "Dataset 1    32.69    65.80    44.80\n",
       "Dataset 2    87.14    16.29    43.45\n",
       "Dataset 3    90.93    43.08    19.51"
      ]
     },
     "execution_count": 156,
     "metadata": {},
     "output_type": "execute_result"
    }
   ],
   "source": [
    "model_FP_rate"
   ]
  },
  {
   "cell_type": "code",
   "execution_count": 157,
   "metadata": {},
   "outputs": [
    {
     "data": {
      "image/png": "[encoded data removed]",
      "text/plain": [
       "<Figure size 432x288 with 1 Axes>"
      ]
     },
     "metadata": {
      "needs_background": "light"
     },
     "output_type": "display_data"
    }
   ],
   "source": [
    "model_comparison_charts(model_FP_rate, \"Model FP-rate comparison\")"
   ]
  },
  {
   "cell_type": "markdown",
   "metadata": {},
   "source": [
    "The False Positive rate of a model also known as FP rate is defined by FP-rate = FP / (FP + TN)<br>\n",
    "From the comparison of Model 1, Model 2, and Model 3 on the basis of the false-positive rate in their classification, it seems that Model 3 performs the best.<br>\n",
    "Model 1 seems to have about 90% of false positives when tested on other datasets.<br>\n",
    "Model 2 which is trained on Dataset 2, gives the best performance on the same dataset, however, the false positive rate is  poor when tested on Dataset 1 and Dataset 3.<br>\n",
    "Model 3 seems to have the best performance considering the FP-rate, the reason for this is the high skewness in the positive class data in the dataset3.<br>\n",
    "As discussed above, one of the important parameters in the evaluation metrics considering the customer review classification is reducing false positives. Though other evaluation metrics should also be considered.<br>\n",
    "A business owner follows up on negative customer reviews, and seeks to improve from negative customer reviews to retain those customers, they would strictly want to go through negative reviews they have received. Hence, a false positive in these cases will not be a good situation, wherein a negative review is classified incorrectly as positive.<br>\n",
    "**From the perspective of FP-rate of the models, Model 3 seems to be the best model for classification.**"
   ]
  },
  {
   "cell_type": "markdown",
   "metadata": {},
   "source": [
    "#### Comparison of Precision for all models"
   ]
  },
  {
   "cell_type": "code",
   "execution_count": 158,
   "metadata": {},
   "outputs": [],
   "source": [
    "model_precision = pd.DataFrame({\n",
    "    'Model 1' : ModelEvaluation_1[\"precision\"],\n",
    "    'Model 2' : ModelEvaluation_2[\"precision\"],\n",
    "    'Model 3' : ModelEvaluation_3[\"precision\"]\n",
    "})"
   ]
  },
  {
   "cell_type": "code",
   "execution_count": 159,
   "metadata": {},
   "outputs": [
    {
     "data": {
      "text/html": [
       "<div>\n",
       "<style scoped>\n",
       "    .dataframe tbody tr th:only-of-type {\n",
       "        vertical-align: middle;\n",
       "    }\n",
       "\n",
       "    .dataframe tbody tr th {\n",
       "        vertical-align: top;\n",
       "    }\n",
       "\n",
       "    .dataframe thead th {\n",
       "        text-align: right;\n",
       "    }\n",
       "</style>\n",
       "<table border=\"1\" class=\"dataframe\">\n",
       "  <thead>\n",
       "    <tr style=\"text-align: right;\">\n",
       "      <th></th>\n",
       "      <th>Model 1</th>\n",
       "      <th>Model 2</th>\n",
       "      <th>Model 3</th>\n",
       "    </tr>\n",
       "  </thead>\n",
       "  <tbody>\n",
       "    <tr>\n",
       "      <th>Dataset 1</th>\n",
       "      <td>89.31</td>\n",
       "      <td>73.46</td>\n",
       "      <td>75.73</td>\n",
       "    </tr>\n",
       "    <tr>\n",
       "      <th>Dataset 2</th>\n",
       "      <td>59.48</td>\n",
       "      <td>87.92</td>\n",
       "      <td>60.13</td>\n",
       "    </tr>\n",
       "    <tr>\n",
       "      <th>Dataset 3</th>\n",
       "      <td>58.59</td>\n",
       "      <td>58.41</td>\n",
       "      <td>87.04</td>\n",
       "    </tr>\n",
       "  </tbody>\n",
       "</table>\n",
       "</div>"
      ],
      "text/plain": [
       "           Model 1  Model 2  Model 3\n",
       "Dataset 1    89.31    73.46    75.73\n",
       "Dataset 2    59.48    87.92    60.13\n",
       "Dataset 3    58.59    58.41    87.04"
      ]
     },
     "execution_count": 159,
     "metadata": {},
     "output_type": "execute_result"
    }
   ],
   "source": [
    "model_precision"
   ]
  },
  {
   "cell_type": "code",
   "execution_count": 160,
   "metadata": {},
   "outputs": [
    {
     "data": {
      "image/png": "[encoded data removed]",
      "text/plain": [
       "<Figure size 432x288 with 1 Axes>"
      ]
     },
     "metadata": {
      "needs_background": "light"
     },
     "output_type": "display_data"
    }
   ],
   "source": [
    "model_comparison_charts(model_precision, \"Model Precision comparison\")"
   ]
  },
  {
   "cell_type": "markdown",
   "metadata": {},
   "source": [
    "The Precision of a model also known as Positive Predicted value is defined by Precision = TP / (TP + FP)<br>\n",
    "The precision of the Model seems to be higher for the models which are trained and tested on the same datasets. Model 1, Model 2, Model 3, show higher precision when tested on Dataset 1, Dataset 2, Dataset 3 respectively.<br>\n",
    "However, an important aspect is to consider how the model behaves when they are tested on different datasets.<br>\n",
    "Model 1 gives an precision of about 90% when trained and tested on Dataset 1, whereas the precision is reduced to about 60% when tested on Dataset 2 & 3.<br>\n",
    "Model 2 gives an precision of about 75% when tested on Dataset 1, whereas the model gives about 60% when tested on Dataset 3, Model 2 is trained on Dataset 2, hence the precision is about 90%.<br>\n",
    "Model 3 shows about average precision when tested on other datasets,.i.e when Model 3 is tested on Dataset 1 and 2, it gives about 60% precision on each, where as the precision is highest when tested on Dataset 3 which is about 90%, as the model is trained on Dataset 3.<br>\n",
    "**From precision perspective, selecting Model 1 and Model 3 make a good choice, however, other factors are also to be considered when making a model selection**"
   ]
  },
  {
   "cell_type": "markdown",
   "metadata": {},
   "source": [
    "#### Comparison of Accuracy for all models"
   ]
  },
  {
   "cell_type": "code",
   "execution_count": 161,
   "metadata": {},
   "outputs": [],
   "source": [
    "model_accuracy = pd.DataFrame({\n",
    "    'Model 1' : ModelEvaluation_1[\"accuracy\"],\n",
    "    'Model 2' : ModelEvaluation_2[\"accuracy\"],\n",
    "    'Model 3' : ModelEvaluation_3[\"accuracy\"]\n",
    "})"
   ]
  },
  {
   "cell_type": "code",
   "execution_count": 162,
   "metadata": {},
   "outputs": [
    {
     "data": {
      "text/html": [
       "<div>\n",
       "<style scoped>\n",
       "    .dataframe tbody tr th:only-of-type {\n",
       "        vertical-align: middle;\n",
       "    }\n",
       "\n",
       "    .dataframe tbody tr th {\n",
       "        vertical-align: top;\n",
       "    }\n",
       "\n",
       "    .dataframe thead th {\n",
       "        text-align: right;\n",
       "    }\n",
       "</style>\n",
       "<table border=\"1\" class=\"dataframe\">\n",
       "  <thead>\n",
       "    <tr style=\"text-align: right;\">\n",
       "      <th></th>\n",
       "      <th>Model 1</th>\n",
       "      <th>Model 2</th>\n",
       "      <th>Model 3</th>\n",
       "    </tr>\n",
       "  </thead>\n",
       "  <tbody>\n",
       "    <tr>\n",
       "      <th>Dataset 1</th>\n",
       "      <td>88.5</td>\n",
       "      <td>58.2</td>\n",
       "      <td>52.45</td>\n",
       "    </tr>\n",
       "    <tr>\n",
       "      <th>Dataset 2</th>\n",
       "      <td>58.0</td>\n",
       "      <td>90.0</td>\n",
       "      <td>50.30</td>\n",
       "    </tr>\n",
       "    <tr>\n",
       "      <th>Dataset 3</th>\n",
       "      <td>57.7</td>\n",
       "      <td>49.2</td>\n",
       "      <td>86.75</td>\n",
       "    </tr>\n",
       "  </tbody>\n",
       "</table>\n",
       "</div>"
      ],
      "text/plain": [
       "           Model 1  Model 2  Model 3\n",
       "Dataset 1     88.5     58.2    52.45\n",
       "Dataset 2     58.0     90.0    50.30\n",
       "Dataset 3     57.7     49.2    86.75"
      ]
     },
     "execution_count": 162,
     "metadata": {},
     "output_type": "execute_result"
    }
   ],
   "source": [
    "model_accuracy"
   ]
  },
  {
   "cell_type": "code",
   "execution_count": 163,
   "metadata": {},
   "outputs": [
    {
     "data": {
      "image/png": "[encoded data removed]",
      "text/plain": [
       "<Figure size 432x288 with 1 Axes>"
      ]
     },
     "metadata": {
      "needs_background": "light"
     },
     "output_type": "display_data"
    }
   ],
   "source": [
    "model_comparison_charts(model_accuracy, \"Model Accuracy comparison\")"
   ]
  },
  {
   "cell_type": "markdown",
   "metadata": {},
   "source": [
    "Accuracy can be defined as total number of correct predictions among all the predictions, Accuracy = (TP + TN)/(TP + TN + FP + FN) <br> \n",
    "It considers all the correctly classified results.\n",
    "The accuracy of the model 3 seems to be good, however, when considering the accuracy of the models when tested on other dataset they turn out to be just average- around 60%.<br>\n",
    "When considering accuracy of the model, either of Model 1, Model 2 or Model 3 can be preferred."
   ]
  },
  {
   "cell_type": "markdown",
   "metadata": {},
   "source": [
    "#### Comparison of F-Score for all models"
   ]
  },
  {
   "cell_type": "code",
   "execution_count": 164,
   "metadata": {},
   "outputs": [],
   "source": [
    "model_fscore = pd.DataFrame({\n",
    "    'Model 1' : ModelEvaluation_1[\"fscore\"],\n",
    "    'Model 2' : ModelEvaluation_2[\"fscore\"],\n",
    "    'Model 3' : ModelEvaluation_3[\"fscore\"]\n",
    "})"
   ]
  },
  {
   "cell_type": "code",
   "execution_count": 165,
   "metadata": {},
   "outputs": [
    {
     "data": {
      "text/html": [
       "<div>\n",
       "<style scoped>\n",
       "    .dataframe tbody tr th:only-of-type {\n",
       "        vertical-align: middle;\n",
       "    }\n",
       "\n",
       "    .dataframe tbody tr th {\n",
       "        vertical-align: top;\n",
       "    }\n",
       "\n",
       "    .dataframe thead th {\n",
       "        text-align: right;\n",
       "    }\n",
       "</style>\n",
       "<table border=\"1\" class=\"dataframe\">\n",
       "  <thead>\n",
       "    <tr style=\"text-align: right;\">\n",
       "      <th></th>\n",
       "      <th>Model 1</th>\n",
       "      <th>Model 2</th>\n",
       "      <th>Model 3</th>\n",
       "    </tr>\n",
       "  </thead>\n",
       "  <tbody>\n",
       "    <tr>\n",
       "      <th>Dataset 1</th>\n",
       "      <td>92.51</td>\n",
       "      <td>70.10</td>\n",
       "      <td>61.26</td>\n",
       "    </tr>\n",
       "    <tr>\n",
       "      <th>Dataset 2</th>\n",
       "      <td>71.51</td>\n",
       "      <td>91.34</td>\n",
       "      <td>52.07</td>\n",
       "    </tr>\n",
       "    <tr>\n",
       "      <th>Dataset 3</th>\n",
       "      <td>71.82</td>\n",
       "      <td>49.95</td>\n",
       "      <td>89.03</td>\n",
       "    </tr>\n",
       "  </tbody>\n",
       "</table>\n",
       "</div>"
      ],
      "text/plain": [
       "           Model 1  Model 2  Model 3\n",
       "Dataset 1    92.51    70.10    61.26\n",
       "Dataset 2    71.51    91.34    52.07\n",
       "Dataset 3    71.82    49.95    89.03"
      ]
     },
     "execution_count": 165,
     "metadata": {},
     "output_type": "execute_result"
    }
   ],
   "source": [
    "model_fscore"
   ]
  },
  {
   "cell_type": "code",
   "execution_count": 166,
   "metadata": {},
   "outputs": [
    {
     "data": {
      "image/png": "[encoded data removed]",
      "text/plain": [
       "<Figure size 432x288 with 1 Axes>"
      ]
     },
     "metadata": {
      "needs_background": "light"
     },
     "output_type": "display_data"
    }
   ],
   "source": [
    "model_comparison_charts(model_fscore, \"Model F-score comparison\")"
   ]
  },
  {
   "cell_type": "markdown",
   "metadata": {},
   "source": [
    "F-score is a metric that tries to balance between the precision and accuracy of the model. <br>\n",
    "F-score = (2 * Precision * Recall)/(Precision+Recall) <br>\n",
    "It is the harmonic mean of the precision and recall of the model.\n",
    "The f-score for Model 1 seems to be the best, where as the worst f-score seems to be of the model 2.\n",
    "Considering the F-score of the models, Model 1 seems to be the best and that of Model 3 seems to be just about same as model 1"
   ]
  },
  {
   "cell_type": "markdown",
   "metadata": {},
   "source": [
    "## Conclusion:\n",
    "**Model Selection** <br>\n",
    "After going through different metrics like precision, false positives rate, accuracy, f-score it seems that Model 3 could be a good model as compared to Model 1 and Model 2 for classification of the customer reviews.<br> Model 3 is also better in terms of cross validation accuracy scores on the same as well as different datasets as compared to other models.<br>\n",
    "Selection of model may vary from user to user, a user who wants to improve from feedback in negative reviews may focus on negative reviews and may want to select Model 3 which gives least false positives, ensures that a negative review is not incorrectly classified as positive. At the same time, ensures that precision and accuracy is not poor.<br>\n",
    "I believe Model 3 will be a better choice as it maintains a balance between all the performance evaluation metrics and performs better than other models on unknown data.<br>"
   ]
  },
  {
   "cell_type": "code",
   "execution_count": 167,
   "metadata": {},
   "outputs": [
    {
     "name": "stdout",
     "output_type": "stream",
     "text": [
      "Total Time required to run the project: 24.63 minutes.\n"
     ]
    }
   ],
   "source": [
    "end_time = time.time()\n",
    "run_time = (end_time - start_time)/60\n",
    "run_time = round(run_time,2)\n",
    "print(\"Total Time required to run the project: \"+ str(run_time) +\" minutes.\")"
   ]
  }
 ],
 "metadata": {
  "kernelspec": {
   "display_name": "Python 3",
   "language": "python",
   "name": "python3"
  },
  "language_info": {
   "codemirror_mode": {
    "name": "ipython",
    "version": 3
   },
   "file_extension": ".py",
   "mimetype": "text/x-python",
   "name": "python",
   "nbconvert_exporter": "python",
   "pygments_lexer": "ipython3",
   "version": "3.7.3"
  }
 },
 "nbformat": 4,
 "nbformat_minor": 4
}
